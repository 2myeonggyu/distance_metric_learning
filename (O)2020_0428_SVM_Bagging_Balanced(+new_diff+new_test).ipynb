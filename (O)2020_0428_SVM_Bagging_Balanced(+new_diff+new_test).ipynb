{
 "cells": [
  {
   "cell_type": "markdown",
   "metadata": {},
   "source": [
    "**new_test_data : 2020.05.07**\n",
    "- test_pair 데이터 만들때, 거리기준 0.35 안에 들어야한다!\n",
    "- bagging 에서는 메모리가 모자르니깐, **만들어진 test_pair 불러온다!**"
   ]
  },
  {
   "cell_type": "code",
   "execution_count": 1,
   "metadata": {},
   "outputs": [],
   "source": [
    "import pandas as pd\n",
    "import numpy as np\n",
    "import matplotlib.pyplot as plt\n",
    "\n",
    "from sklearn import svm\n",
    "from sklearn.model_selection import train_test_split\n",
    "\n",
    "import glob\n",
    "import os\n",
    "import multiprocessing\n",
    "\n",
    "import pickle\n",
    "import time\n",
    "import random"
   ]
  },
  {
   "cell_type": "code",
   "execution_count": 2,
   "metadata": {},
   "outputs": [],
   "source": [
    "import seaborn as sns\n",
    "from sklearn import metrics"
   ]
  },
  {
   "cell_type": "markdown",
   "metadata": {},
   "source": [
    "---"
   ]
  },
  {
   "cell_type": "code",
   "execution_count": 3,
   "metadata": {},
   "outputs": [],
   "source": [
    "def chunkIt(seq, num):\n",
    "    if len(seq) % int(num) == 0:\n",
    "        avg = int(len(seq) / int(num))\n",
    "    else:\n",
    "        avg = int(len(seq) / int(num)) + 1 # 이렇게 해야하네!\n",
    "    out = []\n",
    "    last = 0.0\n",
    "\n",
    "    while last < len(seq):\n",
    "        out.append(seq[int(last):int(last + avg)])\n",
    "        last += avg\n",
    "\n",
    "    return out"
   ]
  },
  {
   "cell_type": "markdown",
   "metadata": {},
   "source": [
    "---"
   ]
  },
  {
   "cell_type": "markdown",
   "metadata": {},
   "source": [
    "# data load"
   ]
  },
  {
   "cell_type": "markdown",
   "metadata": {},
   "source": [
    "### - train/test index"
   ]
  },
  {
   "cell_type": "code",
   "execution_count": 4,
   "metadata": {},
   "outputs": [
    {
     "data": {
      "text/plain": [
       "'/mnt/sda1/myeonggyulee/myeonggyulee/VISION_AI/metric learning/train_within_0_35_balanced'"
      ]
     },
     "execution_count": 4,
     "metadata": {},
     "output_type": "execute_result"
    }
   ],
   "source": [
    "os.getcwd()"
   ]
  },
  {
   "cell_type": "code",
   "execution_count": 5,
   "metadata": {},
   "outputs": [
    {
     "data": {
      "text/plain": [
       "['../2_svm2+data/data/without_validation/test_index.pkl',\n",
       " '../2_svm2+data/data/without_validation/train_sampling_dict.pkl',\n",
       " '../2_svm2+data/data/without_validation/train_pair.pkl',\n",
       " '../2_svm2+data/data/without_validation/train_index.pkl',\n",
       " '../2_svm2+data/data/without_validation/balanced',\n",
       " '../2_svm2+data/data/without_validation/without_balanced']"
      ]
     },
     "execution_count": 5,
     "metadata": {},
     "output_type": "execute_result"
    }
   ],
   "source": [
    "glob.glob('../2_svm2+data/data/without_validation/*')"
   ]
  },
  {
   "cell_type": "code",
   "execution_count": 5,
   "metadata": {},
   "outputs": [],
   "source": [
    "# load train/text index\n",
    "with open('../2_svm2+data/data/without_validation/train_index.pkl', 'rb') as f:\n",
    "    train_index = pickle.load(f)\n",
    "    \n",
    "with open('../2_svm2+data/data/without_validation/test_index.pkl', 'rb') as f:\n",
    "    test_index = pickle.load(f)"
   ]
  },
  {
   "cell_type": "code",
   "execution_count": null,
   "metadata": {},
   "outputs": [],
   "source": []
  },
  {
   "cell_type": "markdown",
   "metadata": {},
   "source": [
    "---"
   ]
  },
  {
   "cell_type": "markdown",
   "metadata": {},
   "source": [
    "##  make new-difference vector"
   ]
  },
  {
   "cell_type": "markdown",
   "metadata": {},
   "source": [
    "### - load train_array"
   ]
  },
  {
   "cell_type": "code",
   "execution_count": 7,
   "metadata": {},
   "outputs": [],
   "source": [
    "with open('X_new_diff_balanced_train.pkl', 'rb') as f:\n",
    "    X_diff_train = pickle.load( f )\n",
    "    \n",
    "with open('y_new_diff_balanced_train.pkl', 'rb') as f:\n",
    "    y_diff_train = pickle.load( f )"
   ]
  },
  {
   "cell_type": "code",
   "execution_count": 8,
   "metadata": {
    "scrolled": true
   },
   "outputs": [
    {
     "name": "stdout",
     "output_type": "stream",
     "text": [
      "(661038, 256) (661038,)\n"
     ]
    }
   ],
   "source": [
    "print( X_diff_train.shape, y_diff_train.shape )"
   ]
  },
  {
   "cell_type": "code",
   "execution_count": null,
   "metadata": {},
   "outputs": [],
   "source": []
  },
  {
   "cell_type": "code",
   "execution_count": null,
   "metadata": {},
   "outputs": [],
   "source": []
  },
  {
   "cell_type": "markdown",
   "metadata": {},
   "source": [
    "---"
   ]
  },
  {
   "cell_type": "markdown",
   "metadata": {},
   "source": [
    "## test set 생성\n",
    "- signle/bagging 모델 이용시 test_set 활용법 다르다"
   ]
  },
  {
   "cell_type": "code",
   "execution_count": 6,
   "metadata": {
    "scrolled": true
   },
   "outputs": [
    {
     "data": {
      "text/plain": [
       "[40648, 66052, 37783, 59761, 16639]"
      ]
     },
     "execution_count": 6,
     "metadata": {},
     "output_type": "execute_result"
    }
   ],
   "source": [
    "test_index[:5]"
   ]
  },
  {
   "cell_type": "code",
   "execution_count": 7,
   "metadata": {},
   "outputs": [
    {
     "data": {
      "text/plain": [
       "['../1_svm/data/new_feat_df.csv']"
      ]
     },
     "execution_count": 7,
     "metadata": {},
     "output_type": "execute_result"
    }
   ],
   "source": [
    "glob.glob('../1_svm/data/*.csv')"
   ]
  },
  {
   "cell_type": "code",
   "execution_count": 8,
   "metadata": {},
   "outputs": [],
   "source": [
    "data = pd.read_csv('../1_svm/data/new_feat_df.csv')"
   ]
  },
  {
   "cell_type": "code",
   "execution_count": 9,
   "metadata": {},
   "outputs": [],
   "source": [
    "group_no_df = data.groupby('group_no').size().reset_index()\n",
    "group_no_df.columns = ['group_no', 'size_']\n",
    "\n",
    "filtering_grp = group_no_df[group_no_df.size_ > 2].group_no.tolist()\n",
    "data_filter = data[data.group_no.isin( filtering_grp )]"
   ]
  },
  {
   "cell_type": "code",
   "execution_count": 10,
   "metadata": {},
   "outputs": [
    {
     "data": {
      "text/plain": [
       "(73681, 266)"
      ]
     },
     "execution_count": 10,
     "metadata": {},
     "output_type": "execute_result"
    }
   ],
   "source": [
    "data_filter.shape"
   ]
  },
  {
   "cell_type": "markdown",
   "metadata": {},
   "source": [
    "---"
   ]
  },
  {
   "cell_type": "markdown",
   "metadata": {},
   "source": [
    "- 거리 데이터"
   ]
  },
  {
   "cell_type": "code",
   "execution_count": 11,
   "metadata": {},
   "outputs": [],
   "source": [
    "from sklearn.metrics import pairwise_distances"
   ]
  },
  {
   "cell_type": "code",
   "execution_count": 12,
   "metadata": {},
   "outputs": [],
   "source": [
    "data_renew = data_filter.drop(\n",
    "            columns = ['title', 'cleaned_title', 'model_id', 'weight', 'top3_word', 'top2_word', 'word_cnt'])"
   ]
  },
  {
   "cell_type": "code",
   "execution_count": 13,
   "metadata": {},
   "outputs": [
    {
     "data": {
      "text/plain": [
       "array([[0.09585801, 0.02799749, 0.0276188 , ..., 0.01662012, 0.03039947,\n",
       "        0.01109296],\n",
       "       [0.09585799, 0.0279975 , 0.0276188 , ..., 0.01662012, 0.03039948,\n",
       "        0.01109296],\n",
       "       [0.09585801, 0.02799749, 0.0276188 , ..., 0.01662012, 0.03039947,\n",
       "        0.01109296],\n",
       "       [0.09285977, 0.03225553, 0.02934373, ..., 0.01435256, 0.03604721,\n",
       "        0.01145816],\n",
       "       [0.09285977, 0.03225551, 0.02934374, ..., 0.01435256, 0.03604721,\n",
       "        0.01145816]])"
      ]
     },
     "execution_count": 13,
     "metadata": {},
     "output_type": "execute_result"
    }
   ],
   "source": [
    "data_renew.iloc[:, 3:].values[:5]"
   ]
  },
  {
   "cell_type": "code",
   "execution_count": 14,
   "metadata": {},
   "outputs": [],
   "source": [
    "data_renew_distances = pairwise_distances( data_renew.iloc[:, 3:].values, metric='euclidean', n_jobs=-1 )"
   ]
  },
  {
   "cell_type": "code",
   "execution_count": 15,
   "metadata": {},
   "outputs": [
    {
     "data": {
      "text/plain": [
       "(73681, 73681)"
      ]
     },
     "execution_count": 15,
     "metadata": {},
     "output_type": "execute_result"
    }
   ],
   "source": [
    "data_renew_distances.shape"
   ]
  },
  {
   "cell_type": "code",
   "execution_count": 16,
   "metadata": {},
   "outputs": [
    {
     "data": {
      "text/plain": [
       "array([[0.00000000e+00, 1.71848574e-07, 0.00000000e+00, ...,\n",
       "        8.46262232e-01, 8.38199546e-01, 8.15438825e-01],\n",
       "       [1.71848574e-07, 0.00000000e+00, 1.71848574e-07, ...,\n",
       "        8.46262223e-01, 8.38199536e-01, 8.15438815e-01],\n",
       "       [0.00000000e+00, 1.71848574e-07, 0.00000000e+00, ...,\n",
       "        8.46262232e-01, 8.38199546e-01, 8.15438825e-01],\n",
       "       [4.00390397e-02, 4.00390180e-02, 4.00390397e-02, ...,\n",
       "        8.42253810e-01, 8.36874462e-01, 8.12479417e-01],\n",
       "       [4.00390640e-02, 4.00390424e-02, 4.00390640e-02, ...,\n",
       "        8.42253781e-01, 8.36874433e-01, 8.12479392e-01]])"
      ]
     },
     "execution_count": 16,
     "metadata": {},
     "output_type": "execute_result"
    }
   ],
   "source": [
    "data_renew_distances[:5]"
   ]
  },
  {
   "cell_type": "markdown",
   "metadata": {},
   "source": [
    "----"
   ]
  },
  {
   "cell_type": "markdown",
   "metadata": {},
   "source": [
    "***Test_pair***\n",
    "- 거리 기준에 드는 객체만 pair 데이터로 생성하자(1차 0.35)"
   ]
  },
  {
   "cell_type": "code",
   "execution_count": 37,
   "metadata": {},
   "outputs": [
    {
     "name": "stdout",
     "output_type": "stream",
     "text": [
      "8.625832557678223\n",
      "CPU times: user 4.67 s, sys: 3.95 s, total: 8.63 s\n",
      "Wall time: 8.63 s\n"
     ]
    }
   ],
   "source": [
    "%%time\n",
    "# init\n",
    "test_pair_array = {}\n",
    "test_label = {}   \n",
    "start_time = time.time()\n",
    "# loop\n",
    "for j,test_ in enumerate(test_index[:100]):\n",
    "    \n",
    "    #     init     #\n",
    "    test_pair_array[test_] = np.array([])\n",
    "    test_label[test_] = np.array([])\n",
    "    ################\n",
    "    \n",
    "    # pair_array- anchor의 pair 후보 만들기 #\n",
    "    pair_array = data_filter.iloc[:, 7:-3].values\n",
    "    label_array = data_filter.group_no.values\n",
    "    \n",
    "    #     anchor    #\n",
    "    anchor_array = pair_array[test_]\n",
    "    anchor_label = data_filter.iloc[test_].group_no\n",
    "    \n",
    "    # pair candidate - 0.35기준 밖 + 자기 자신 index 빼준다 #\n",
    "    out_index = np.where( data_renew_distances[ test_ ] > 0.35)[0]   # 기준 객체의 pair distance에서 0.35 초과 index\n",
    "    candidate_array = np.delete( pair_array, [test_] + list(out_index) , axis=0)  # 자기자신 + out_index 지워준다\n",
    "    candidate_label = np.delete( label_array, [test_] + list(out_index) )\n",
    "    ################\n",
    "    \n",
    "    # append - diff 형태\n",
    "    test_pair_array[test_] = np.concatenate([np.repeat(anchor_array.reshape(1,-1), len(candidate_array), axis=0 ),\n",
    "                                             candidate_array], axis=1)\n",
    "    test_label[test_] = ( candidate_label == anchor_label ).astype(int)\n",
    "    if (j+1) % 100 == 0:\n",
    "        elapsed_time = time.time() - start_time\n",
    "        print(elapsed_time)"
   ]
  },
  {
   "cell_type": "code",
   "execution_count": 40,
   "metadata": {},
   "outputs": [
    {
     "data": {
      "text/plain": [
       "43573"
      ]
     },
     "execution_count": 40,
     "metadata": {},
     "output_type": "execute_result"
    }
   ],
   "source": [
    "test_"
   ]
  },
  {
   "cell_type": "code",
   "execution_count": 39,
   "metadata": {},
   "outputs": [
    {
     "data": {
      "text/plain": [
       "(3, 512)"
      ]
     },
     "execution_count": 39,
     "metadata": {},
     "output_type": "execute_result"
    }
   ],
   "source": [
    "test_pair_array[test_].shape"
   ]
  },
  {
   "cell_type": "markdown",
   "metadata": {},
   "source": [
    "***Test_new_diff***\n",
    "- 거리 기준에 드는 객체만 pair 데이터로 생성하자(1차 0.35)"
   ]
  },
  {
   "cell_type": "code",
   "execution_count": null,
   "metadata": {},
   "outputs": [],
   "source": [
    "%%time\n",
    "# init\n",
    "test_pair_array = {}\n",
    "test_label = {}   \n",
    "start_time = time.time()\n",
    "# loop\n",
    "for j,test_ in enumerate(test_index[:100]):\n",
    "    \n",
    "    #     init     #\n",
    "    test_pair_array[test_] = np.array([])\n",
    "    test_label[test_] = np.array([])\n",
    "    ################\n",
    "    \n",
    "    # pair_array- anchor의 pair 후보 만들기 #\n",
    "    pair_array = data_filter.iloc[:, 7:-3].values\n",
    "    label_array = data_filter.group_no.values\n",
    "    \n",
    "    #     anchor    #\n",
    "    anchor_array = pair_array[test_]\n",
    "    anchor_label = data_filter.iloc[test_].group_no\n",
    "    \n",
    "    # pair candidate - 0.35기준 밖 + 자기 자신 index 빼준다 #\n",
    "    out_index = np.where( data_renew_distances[ test_ ] > 0.35)[0]   # 기준 객체의 pair distance에서 0.35 초과 index\n",
    "    candidate_array = np.delete( pair_array, [test_] + list(out_index) , axis=0)  # 자기자신 + out_index 지워준다\n",
    "    candidate_label = np.delete( label_array, [test_] + list(out_index) )\n",
    "    ################\n",
    "    \n",
    "    # append - diff 형태\n",
    "    test_pair_array[test_] = (anchor_array - candidate_array)\n",
    "    test_label[test_] = ( candidate_label == anchor_label ).astype(int)\n",
    "    if (j+1) % 100 == 0:\n",
    "        elapsed_time = time.time() - start_time\n",
    "        print(elapsed_time)"
   ]
  },
  {
   "cell_type": "markdown",
   "metadata": {},
   "source": [
    "len(test_pair_array)"
   ]
  },
  {
   "cell_type": "markdown",
   "metadata": {},
   "source": [
    "test_pair_array[40648].shape"
   ]
  },
  {
   "cell_type": "markdown",
   "metadata": {},
   "source": [
    "---"
   ]
  },
  {
   "cell_type": "markdown",
   "metadata": {},
   "source": [
    "- save"
   ]
  },
  {
   "cell_type": "code",
   "execution_count": 42,
   "metadata": {},
   "outputs": [],
   "source": [
    "### pair\n",
    "with open('../test_data(common)/TEST_within_035/test_pair_v2_035.pkl', 'wb') as f:\n",
    "    pickle.dump(test_pair_array, f)\n",
    "    "
   ]
  },
  {
   "cell_type": "code",
   "execution_count": 30,
   "metadata": {},
   "outputs": [],
   "source": [
    "### diff\n",
    "with open('../test_data(common)/TEST_within_035/test_pair_035.pkl', 'wb') as f:\n",
    "    pickle.dump(test_pair_array, f)\n",
    "    \n",
    "with open('../test_data(common)/TEST_within_035/test_label_035.pkl', 'wb') as f:\n",
    "    pickle.dump(test_label, f)"
   ]
  },
  {
   "cell_type": "markdown",
   "metadata": {},
   "source": [
    "- load"
   ]
  },
  {
   "cell_type": "code",
   "execution_count": 9,
   "metadata": {},
   "outputs": [],
   "source": [
    "with open('../test_data(common)/TEST_within_035/test_pair_035.pkl', 'rb') as f:\n",
    "    test_pair_array = pickle.load( f )\n",
    "    \n",
    "with open('../test_data(common)/TEST_within_035/test_label_035.pkl', 'rb') as f:\n",
    "    test_label = pickle.load( f )"
   ]
  },
  {
   "cell_type": "markdown",
   "metadata": {},
   "source": [
    "---\n",
    "---"
   ]
  },
  {
   "cell_type": "markdown",
   "metadata": {},
   "source": [
    "# # Training"
   ]
  },
  {
   "cell_type": "code",
   "execution_count": 10,
   "metadata": {},
   "outputs": [],
   "source": [
    "import time\n",
    "import numpy as np\n",
    "from sklearn.ensemble import BaggingClassifier, RandomForestClassifier\n",
    "from sklearn import datasets\n",
    "from sklearn.multiclass import OneVsRestClassifier\n",
    "from sklearn.svm import SVC"
   ]
  },
  {
   "cell_type": "markdown",
   "metadata": {},
   "source": [
    "# # with rbf\n",
    "- non-scaling"
   ]
  },
  {
   "cell_type": "code",
   "execution_count": 37,
   "metadata": {},
   "outputs": [
    {
     "name": "stdout",
     "output_type": "stream",
     "text": [
      "CPU times: user 1.25 s, sys: 2.12 s, total: 3.37 s\n",
      "Wall time: 6min 24s\n"
     ]
    },
    {
     "data": {
      "text/plain": [
       "BaggingClassifier(base_estimator=SVC(C=1.0, break_ties=False, cache_size=200,\n",
       "                                     class_weight=None, coef0=0.0,\n",
       "                                     decision_function_shape='ovr', degree=3,\n",
       "                                     gamma='scale', kernel='rbf',\n",
       "                                     max_iter=10000, probability=False,\n",
       "                                     random_state=None, shrinking=True,\n",
       "                                     tol=0.001, verbose=False),\n",
       "                  bootstrap=True, bootstrap_features=False, max_features=1.0,\n",
       "                  max_samples=0.03333333333333333, n_estimators=30, n_jobs=36,\n",
       "                  oob_score=False, random_state=None, verbose=0,\n",
       "                  warm_start=False)"
      ]
     },
     "execution_count": 37,
     "metadata": {},
     "output_type": "execute_result"
    }
   ],
   "source": [
    "%%time\n",
    "n_estimators = 30\n",
    "\n",
    "estimator = SVC( max_iter = 10000 ) # class_weight : 'balanced'로 해야할까?\n",
    "bagging = BaggingClassifier(base_estimator = estimator, max_samples=1.0 / n_estimators, \n",
    "                        n_estimators=n_estimators, n_jobs=36)\n",
    "bagging.fit(X_diff_train, y_diff_train)"
   ]
  },
  {
   "cell_type": "code",
   "execution_count": null,
   "metadata": {},
   "outputs": [],
   "source": []
  },
  {
   "cell_type": "markdown",
   "metadata": {},
   "source": [
    "---"
   ]
  },
  {
   "cell_type": "markdown",
   "metadata": {},
   "source": [
    "## ## evaluate test set"
   ]
  },
  {
   "cell_type": "markdown",
   "metadata": {},
   "source": [
    "- prediction 만들기"
   ]
  },
  {
   "cell_type": "code",
   "execution_count": 13,
   "metadata": {},
   "outputs": [
    {
     "data": {
      "text/plain": [
       "100"
      ]
     },
     "execution_count": 13,
     "metadata": {},
     "output_type": "execute_result"
    }
   ],
   "source": [
    "len(test_label)"
   ]
  },
  {
   "cell_type": "code",
   "execution_count": 14,
   "metadata": {},
   "outputs": [
    {
     "name": "stdout",
     "output_type": "stream",
     "text": [
      "CPU times: user 3.9 s, sys: 1 s, total: 4.9 s\n",
      "Wall time: 4.71 s\n"
     ]
    }
   ],
   "source": [
    "%%time\n",
    "prediction_dict = {}\n",
    "\n",
    "for key_ in list(test_label.keys())[:100]:\n",
    "    prediction_dict[key_] = bagging.predict(test_pair_array[key_])"
   ]
  },
  {
   "cell_type": "code",
   "execution_count": 15,
   "metadata": {
    "scrolled": true
   },
   "outputs": [
    {
     "data": {
      "text/plain": [
       "100"
      ]
     },
     "execution_count": 15,
     "metadata": {},
     "output_type": "execute_result"
    }
   ],
   "source": [
    "len(prediction_dict)"
   ]
  },
  {
   "cell_type": "code",
   "execution_count": 16,
   "metadata": {},
   "outputs": [],
   "source": [
    "from sklearn import metrics"
   ]
  },
  {
   "cell_type": "markdown",
   "metadata": {},
   "source": [
    "- test_set에 대한 성능 살피기\n",
    "> precision / recall"
   ]
  },
  {
   "cell_type": "markdown",
   "metadata": {},
   "source": [
    "## # rbf(=default)"
   ]
  },
  {
   "cell_type": "markdown",
   "metadata": {},
   "source": [
    "### 1. max_iter 100 & n_estimators 30"
   ]
  },
  {
   "cell_type": "code",
   "execution_count": 17,
   "metadata": {},
   "outputs": [
    {
     "name": "stdout",
     "output_type": "stream",
     "text": [
      "40648\n",
      "label_size : 2 prediction_size : 1.0\n",
      "1.0\n",
      "0.5\n",
      "\n",
      "\n",
      "66052\n",
      "label_size : 2 prediction_size : 17.0\n",
      "0.11764705882352941\n",
      "1.0\n",
      "\n",
      "\n",
      "37783\n",
      "label_size : 2 prediction_size : 0.0\n",
      "0.0\n",
      "0.0\n",
      "\n",
      "\n",
      "59761\n",
      "label_size : 2 prediction_size : 2.0\n",
      "1.0\n",
      "1.0\n",
      "\n",
      "\n",
      "16639\n",
      "label_size : 4 prediction_size : 4.0\n",
      "1.0\n",
      "1.0\n",
      "\n",
      "\n",
      "17958\n",
      "label_size : 5 prediction_size : 5.0\n",
      "1.0\n",
      "1.0\n",
      "\n",
      "\n",
      "10918\n",
      "label_size : 5 prediction_size : 18.0\n",
      "0.2777777777777778\n",
      "1.0\n",
      "\n",
      "\n",
      "26542\n",
      "label_size : 4 prediction_size : 4.0\n",
      "1.0\n",
      "1.0\n",
      "\n",
      "\n",
      "71651\n",
      "label_size : 2 prediction_size : 2.0\n",
      "1.0\n",
      "1.0\n",
      "\n",
      "\n",
      "45696\n",
      "label_size : 1 prediction_size : 1.0\n",
      "1.0\n",
      "1.0\n",
      "\n",
      "\n",
      "4253\n",
      "label_size : 8 prediction_size : 12.0\n",
      "0.6666666666666666\n",
      "1.0\n",
      "\n",
      "\n",
      "63461\n",
      "label_size : 2 prediction_size : 25.0\n",
      "0.08\n",
      "1.0\n",
      "\n",
      "\n",
      "572\n",
      "label_size : 14 prediction_size : 17.0\n",
      "0.8235294117647058\n",
      "1.0\n",
      "\n",
      "\n",
      "66460\n",
      "label_size : 0 prediction_size : 0.0\n",
      "0.0\n",
      "0.0\n",
      "\n",
      "\n",
      "70828\n",
      "label_size : 1 prediction_size : 0.0\n",
      "0.0\n",
      "0.0\n",
      "\n",
      "\n",
      "34741\n",
      "label_size : 4 prediction_size : 3.0\n",
      "1.0\n",
      "0.75\n",
      "\n",
      "\n",
      "14588\n",
      "label_size : 5 prediction_size : 0.0\n",
      "0.0\n",
      "0.0\n",
      "\n",
      "\n",
      "8647\n",
      "label_size : 4 prediction_size : 4.0\n",
      "0.25\n",
      "0.25\n",
      "\n",
      "\n",
      "51675\n",
      "label_size : 3 prediction_size : 7.0\n",
      "0.42857142857142855\n",
      "1.0\n",
      "\n",
      "\n",
      "44240\n",
      "label_size : 3 prediction_size : 3.0\n",
      "1.0\n",
      "1.0\n",
      "\n",
      "\n",
      "15772\n",
      "label_size : 4 prediction_size : 8.0\n",
      "0.5\n",
      "1.0\n",
      "\n",
      "\n",
      "37766\n",
      "label_size : 0 prediction_size : 0.0\n",
      "0.0\n",
      "0.0\n",
      "\n",
      "\n",
      "39183\n",
      "label_size : 2 prediction_size : 2.0\n",
      "1.0\n",
      "1.0\n",
      "\n",
      "\n",
      "67190\n",
      "label_size : 2 prediction_size : 2.0\n",
      "1.0\n",
      "1.0\n",
      "\n",
      "\n",
      "53857\n",
      "label_size : 3 prediction_size : 5.0\n",
      "0.2\n",
      "0.3333333333333333\n",
      "\n",
      "\n",
      "62549\n",
      "label_size : 2 prediction_size : 1.0\n",
      "1.0\n",
      "0.5\n",
      "\n",
      "\n",
      "4438\n",
      "label_size : 11 prediction_size : 16.0\n",
      "0.6875\n",
      "1.0\n",
      "\n",
      "\n",
      "71984\n",
      "label_size : 2 prediction_size : 2.0\n",
      "1.0\n",
      "1.0\n",
      "\n",
      "\n",
      "18607\n",
      "label_size : 4 prediction_size : 2.0\n",
      "1.0\n",
      "0.5\n",
      "\n",
      "\n",
      "29566\n",
      "label_size : 3 prediction_size : 1.0\n",
      "1.0\n",
      "0.3333333333333333\n",
      "\n",
      "\n",
      "42329\n",
      "label_size : 2 prediction_size : 14.0\n",
      "0.14285714285714285\n",
      "1.0\n",
      "\n",
      "\n",
      "41649\n",
      "label_size : 3 prediction_size : 27.0\n",
      "0.1111111111111111\n",
      "1.0\n",
      "\n",
      "\n",
      "57323\n",
      "label_size : 1 prediction_size : 0.0\n",
      "0.0\n",
      "0.0\n",
      "\n",
      "\n",
      "35622\n",
      "label_size : 4 prediction_size : 8.0\n",
      "0.5\n",
      "1.0\n",
      "\n",
      "\n",
      "19669\n",
      "label_size : 4 prediction_size : 4.0\n",
      "1.0\n",
      "1.0\n",
      "\n",
      "\n",
      "54420\n",
      "label_size : 3 prediction_size : 5.0\n",
      "0.2\n",
      "0.3333333333333333\n",
      "\n",
      "\n",
      "65907\n",
      "label_size : 2 prediction_size : 12.0\n",
      "0.16666666666666666\n",
      "1.0\n",
      "\n",
      "\n",
      "6304\n",
      "label_size : 1 prediction_size : 0.0\n",
      "0.0\n",
      "0.0\n",
      "\n",
      "\n",
      "46173\n",
      "label_size : 3 prediction_size : 2.0\n",
      "1.0\n",
      "0.6666666666666666\n",
      "\n",
      "\n",
      "32207\n",
      "label_size : 2 prediction_size : 2.0\n",
      "1.0\n",
      "1.0\n",
      "\n",
      "\n",
      "68498\n",
      "label_size : 1 prediction_size : 0.0\n",
      "0.0\n",
      "0.0\n",
      "\n",
      "\n",
      "24879\n",
      "label_size : 1 prediction_size : 0.0\n",
      "0.0\n",
      "0.0\n",
      "\n",
      "\n",
      "26550\n",
      "label_size : 4 prediction_size : 4.0\n",
      "1.0\n",
      "1.0\n",
      "\n",
      "\n",
      "6336\n",
      "label_size : 7 prediction_size : 22.0\n",
      "0.3181818181818182\n",
      "1.0\n",
      "\n",
      "\n",
      "673\n",
      "label_size : 16 prediction_size : 25.0\n",
      "0.4\n",
      "0.625\n",
      "\n",
      "\n",
      "11706\n",
      "label_size : 8 prediction_size : 2.0\n",
      "1.0\n",
      "0.25\n",
      "\n",
      "\n",
      "6168\n",
      "label_size : 7 prediction_size : 244.0\n",
      "0.028688524590163935\n",
      "1.0\n",
      "\n",
      "\n",
      "63675\n",
      "label_size : 2 prediction_size : 2.0\n",
      "1.0\n",
      "1.0\n",
      "\n",
      "\n",
      "45015\n",
      "label_size : 3 prediction_size : 3.0\n",
      "1.0\n",
      "1.0\n",
      "\n",
      "\n",
      "60\n",
      "label_size : 15 prediction_size : 21.0\n",
      "0.7142857142857143\n",
      "1.0\n",
      "\n",
      "\n",
      "31880\n",
      "label_size : 3 prediction_size : 3.0\n",
      "1.0\n",
      "1.0\n",
      "\n",
      "\n",
      "9461\n",
      "label_size : 5 prediction_size : 7.0\n",
      "0.7142857142857143\n",
      "1.0\n",
      "\n",
      "\n",
      "54931\n",
      "label_size : 3 prediction_size : 2.0\n",
      "1.0\n",
      "0.6666666666666666\n",
      "\n",
      "\n",
      "11074\n",
      "label_size : 7 prediction_size : 7.0\n",
      "1.0\n",
      "1.0\n",
      "\n",
      "\n",
      "25928\n",
      "label_size : 5 prediction_size : 12.0\n",
      "0.4166666666666667\n",
      "1.0\n",
      "\n",
      "\n",
      "52850\n",
      "label_size : 2 prediction_size : 2.0\n",
      "1.0\n",
      "1.0\n",
      "\n",
      "\n",
      "38244\n",
      "label_size : 3 prediction_size : 7.0\n"
     ]
    },
    {
     "name": "stderr",
     "output_type": "stream",
     "text": [
      "/home/wmind/anaconda3/lib/python3.8/site-packages/sklearn/metrics/_classification.py:1272: UndefinedMetricWarning: Precision is ill-defined and being set to 0.0 due to no predicted samples. Use `zero_division` parameter to control this behavior.\n",
      "  _warn_prf(average, modifier, msg_start, len(result))\n",
      "/home/wmind/anaconda3/lib/python3.8/site-packages/sklearn/metrics/_classification.py:1272: UndefinedMetricWarning: Recall is ill-defined and being set to 0.0 due to no true samples. Use `zero_division` parameter to control this behavior.\n",
      "  _warn_prf(average, modifier, msg_start, len(result))\n"
     ]
    },
    {
     "name": "stdout",
     "output_type": "stream",
     "text": [
      "0.42857142857142855\n",
      "1.0\n",
      "\n",
      "\n",
      "14092\n",
      "label_size : 6 prediction_size : 6.0\n",
      "1.0\n",
      "1.0\n",
      "\n",
      "\n",
      "29533\n",
      "label_size : 4 prediction_size : 4.0\n",
      "1.0\n",
      "1.0\n",
      "\n",
      "\n",
      "72633\n",
      "label_size : 2 prediction_size : 2.0\n",
      "1.0\n",
      "1.0\n",
      "\n",
      "\n",
      "19729\n",
      "label_size : 4 prediction_size : 10.0\n",
      "0.4\n",
      "1.0\n",
      "\n",
      "\n",
      "63959\n",
      "label_size : 2 prediction_size : 46.0\n",
      "0.043478260869565216\n",
      "1.0\n",
      "\n",
      "\n",
      "65697\n",
      "label_size : 1 prediction_size : 1.0\n",
      "1.0\n",
      "1.0\n",
      "\n",
      "\n",
      "63092\n",
      "label_size : 2 prediction_size : 2.0\n",
      "1.0\n",
      "1.0\n",
      "\n",
      "\n",
      "12067\n",
      "label_size : 1 prediction_size : 1.0\n",
      "1.0\n",
      "1.0\n",
      "\n",
      "\n",
      "9712\n",
      "label_size : 6 prediction_size : 10.0\n",
      "0.6\n",
      "1.0\n",
      "\n",
      "\n",
      "35832\n",
      "label_size : 3 prediction_size : 7.0\n",
      "0.42857142857142855\n",
      "1.0\n",
      "\n",
      "\n",
      "50058\n",
      "label_size : 3 prediction_size : 3.0\n",
      "1.0\n",
      "1.0\n",
      "\n",
      "\n",
      "8878\n",
      "label_size : 1 prediction_size : 0.0\n",
      "0.0\n",
      "0.0\n",
      "\n",
      "\n",
      "10198\n",
      "label_size : 8 prediction_size : 12.0\n",
      "0.6666666666666666\n",
      "1.0\n",
      "\n",
      "\n",
      "7132\n",
      "label_size : 7 prediction_size : 7.0\n",
      "1.0\n",
      "1.0\n",
      "\n",
      "\n",
      "19158\n",
      "label_size : 6 prediction_size : 2.0\n",
      "1.0\n",
      "0.3333333333333333\n",
      "\n",
      "\n",
      "71760\n",
      "label_size : 2 prediction_size : 2.0\n",
      "1.0\n",
      "1.0\n",
      "\n",
      "\n",
      "29882\n",
      "label_size : 3 prediction_size : 3.0\n",
      "1.0\n",
      "1.0\n",
      "\n",
      "\n",
      "2487\n",
      "label_size : 12 prediction_size : 25.0\n",
      "0.48\n",
      "1.0\n",
      "\n",
      "\n",
      "45553\n",
      "label_size : 2 prediction_size : 4.0\n",
      "0.25\n",
      "0.5\n",
      "\n",
      "\n",
      "41970\n",
      "label_size : 2 prediction_size : 18.0\n",
      "0.1111111111111111\n",
      "1.0\n",
      "\n",
      "\n",
      "37904\n",
      "label_size : 4 prediction_size : 3.0\n",
      "1.0\n",
      "0.75\n",
      "\n",
      "\n",
      "23021\n",
      "label_size : 4 prediction_size : 4.0\n",
      "1.0\n",
      "1.0\n",
      "\n",
      "\n",
      "16687\n",
      "label_size : 5 prediction_size : 5.0\n",
      "1.0\n",
      "1.0\n",
      "\n",
      "\n",
      "20559\n",
      "label_size : 3 prediction_size : 77.0\n",
      "0.03896103896103896\n",
      "1.0\n",
      "\n",
      "\n",
      "71620\n",
      "label_size : 1 prediction_size : 4.0\n",
      "0.0\n",
      "0.0\n",
      "\n",
      "\n",
      "35756\n",
      "label_size : 3 prediction_size : 7.0\n",
      "0.42857142857142855\n",
      "1.0\n",
      "\n",
      "\n",
      "65107\n",
      "label_size : 0 prediction_size : 0.0\n",
      "0.0\n",
      "0.0\n",
      "\n",
      "\n",
      "62058\n",
      "label_size : 1 prediction_size : 0.0\n",
      "0.0\n",
      "0.0\n",
      "\n",
      "\n",
      "68572\n",
      "label_size : 2 prediction_size : 5.0\n",
      "0.2\n",
      "0.5\n",
      "\n",
      "\n",
      "30575\n",
      "label_size : 5 prediction_size : 19.0\n",
      "0.2631578947368421\n",
      "1.0\n",
      "\n",
      "\n",
      "28196\n",
      "label_size : 3 prediction_size : 1.0\n",
      "1.0\n",
      "0.3333333333333333\n",
      "\n",
      "\n",
      "44633\n",
      "label_size : 2 prediction_size : 2.0\n",
      "1.0\n",
      "1.0\n",
      "\n",
      "\n",
      "51809\n",
      "label_size : 3 prediction_size : 3.0\n",
      "1.0\n",
      "1.0\n",
      "\n",
      "\n",
      "62029\n",
      "label_size : 1 prediction_size : 0.0\n",
      "0.0\n",
      "0.0\n",
      "\n",
      "\n",
      "16289\n",
      "label_size : 4 prediction_size : 4.0\n",
      "1.0\n",
      "1.0\n",
      "\n",
      "\n",
      "53259\n",
      "label_size : 3 prediction_size : 7.0\n",
      "0.42857142857142855\n",
      "1.0\n",
      "\n",
      "\n",
      "33764\n",
      "label_size : 2 prediction_size : 2.0\n",
      "1.0\n",
      "1.0\n",
      "\n",
      "\n",
      "50154\n",
      "label_size : 3 prediction_size : 3.0\n",
      "1.0\n",
      "1.0\n",
      "\n",
      "\n",
      "9641\n",
      "label_size : 7 prediction_size : 7.0\n",
      "1.0\n",
      "1.0\n",
      "\n",
      "\n",
      "14665\n",
      "label_size : 5 prediction_size : 5.0\n",
      "1.0\n",
      "1.0\n",
      "\n",
      "\n",
      "63916\n",
      "label_size : 0 prediction_size : 0.0\n",
      "0.0\n",
      "0.0\n",
      "\n",
      "\n",
      "47939\n",
      "label_size : 1 prediction_size : 1.0\n",
      "1.0\n",
      "1.0\n",
      "\n",
      "\n",
      "43573\n",
      "label_size : 3 prediction_size : 2.0\n",
      "1.0\n",
      "0.6666666666666666\n",
      "\n",
      "\n"
     ]
    }
   ],
   "source": [
    "precision_100 = []\n",
    "recall_100 = []\n",
    "\n",
    "for ind, predicted in prediction_dict.items(): \n",
    "    print(ind)\n",
    "    print('label_size : {}'.format(np.sum(test_label[ind])), \n",
    "          'prediction_size : {}'.format(np.sum(predicted)) )\n",
    "    \n",
    "    # calculate precision / recall\n",
    "    precision_ = metrics.precision_score( test_label[ind] , predicted )\n",
    "    recall_ = metrics.recall_score( test_label[ind] , predicted )\n",
    "    \n",
    "    # print\n",
    "    print( precision_ )\n",
    "    print( recall_ )\n",
    "    print('\\n')\n",
    "    \n",
    "    # append precision / recall\n",
    "    precision_100.append( precision_ )\n",
    "    recall_100.append( recall_ )\n",
    "    "
   ]
  },
  {
   "cell_type": "code",
   "execution_count": 18,
   "metadata": {},
   "outputs": [
    {
     "name": "stdout",
     "output_type": "stream",
     "text": [
      "100 100\n"
     ]
    }
   ],
   "source": [
    "print(len(precision_100), len(recall_100) )"
   ]
  },
  {
   "cell_type": "code",
   "execution_count": 19,
   "metadata": {},
   "outputs": [
    {
     "data": {
      "text/plain": [
       "0.6251209638888005"
      ]
     },
     "execution_count": 19,
     "metadata": {},
     "output_type": "execute_result"
    }
   ],
   "source": [
    "np.mean(precision_100)"
   ]
  },
  {
   "cell_type": "code",
   "execution_count": 20,
   "metadata": {},
   "outputs": [
    {
     "data": {
      "text/plain": [
       "0.7579166666666667"
      ]
     },
     "execution_count": 20,
     "metadata": {},
     "output_type": "execute_result"
    }
   ],
   "source": [
    "np.mean(recall_100)"
   ]
  },
  {
   "cell_type": "markdown",
   "metadata": {},
   "source": [
    "---\n",
    "---"
   ]
  },
  {
   "cell_type": "markdown",
   "metadata": {},
   "source": [
    "# # with poly3"
   ]
  },
  {
   "cell_type": "code",
   "execution_count": 30,
   "metadata": {},
   "outputs": [
    {
     "name": "stdout",
     "output_type": "stream",
     "text": [
      "CPU times: user 585 ms, sys: 1.7 s, total: 2.29 s\n",
      "Wall time: 40.5 s\n"
     ]
    },
    {
     "data": {
      "text/plain": [
       "BaggingClassifier(base_estimator=SVC(C=1.0, break_ties=False, cache_size=200,\n",
       "                                     class_weight=None, coef0=0.0,\n",
       "                                     decision_function_shape='ovr', degree=3,\n",
       "                                     gamma='scale', kernel='poly',\n",
       "                                     max_iter=1000, probability=False,\n",
       "                                     random_state=None, shrinking=True,\n",
       "                                     tol=0.001, verbose=False),\n",
       "                  bootstrap=True, bootstrap_features=False, max_features=1.0,\n",
       "                  max_samples=0.03333333333333333, n_estimators=30, n_jobs=36,\n",
       "                  oob_score=False, random_state=None, verbose=0,\n",
       "                  warm_start=False)"
      ]
     },
     "execution_count": 30,
     "metadata": {},
     "output_type": "execute_result"
    }
   ],
   "source": [
    "%%time\n",
    "n_estimators = 30\n",
    "\n",
    "estimator = SVC( kernel='poly', max_iter = 1000 ) # class_weight : 'balanced'로 해야할까?\n",
    "bagging_poly = BaggingClassifier(base_estimator = estimator, max_samples=1.0 / n_estimators, \n",
    "                        n_estimators=n_estimators, n_jobs=36)\n",
    "bagging_poly.fit(X_diff_train, y_diff_train)"
   ]
  },
  {
   "cell_type": "code",
   "execution_count": null,
   "metadata": {},
   "outputs": [],
   "source": []
  },
  {
   "cell_type": "markdown",
   "metadata": {},
   "source": [
    "# # bagging_poly3 결과"
   ]
  },
  {
   "cell_type": "markdown",
   "metadata": {},
   "source": [
    "- prediction 만들기"
   ]
  },
  {
   "cell_type": "code",
   "execution_count": 31,
   "metadata": {},
   "outputs": [
    {
     "name": "stdout",
     "output_type": "stream",
     "text": [
      "CPU times: user 5.68 s, sys: 3.27 s, total: 8.95 s\n",
      "Wall time: 8.52 s\n"
     ]
    }
   ],
   "source": [
    "%%time\n",
    "prediction_poly3_dict = {}\n",
    "\n",
    "for key_ in list(test_label.keys())[:100]:\n",
    "    prediction_poly3_dict[key_] = bagging_poly.predict(test_pair_array[key_])"
   ]
  },
  {
   "cell_type": "code",
   "execution_count": 32,
   "metadata": {
    "scrolled": true
   },
   "outputs": [
    {
     "data": {
      "text/plain": [
       "100"
      ]
     },
     "execution_count": 32,
     "metadata": {},
     "output_type": "execute_result"
    }
   ],
   "source": [
    "len(prediction_poly3_dict)"
   ]
  },
  {
   "cell_type": "markdown",
   "metadata": {},
   "source": [
    "### 테스트 결과 (test_index[:100])"
   ]
  },
  {
   "cell_type": "code",
   "execution_count": 33,
   "metadata": {},
   "outputs": [
    {
     "name": "stdout",
     "output_type": "stream",
     "text": [
      "40648\n",
      "label_size : 2 prediction_size : 10.0\n",
      "0.2\n",
      "1.0\n",
      "\n",
      "\n",
      "66052\n",
      "label_size : 2 prediction_size : 17.0\n",
      "0.11764705882352941\n",
      "1.0\n",
      "\n",
      "\n",
      "37783\n",
      "label_size : 2 prediction_size : 5.0\n",
      "0.4\n",
      "1.0\n",
      "\n",
      "\n",
      "59761\n",
      "label_size : 2 prediction_size : 5.0\n",
      "0.4\n",
      "1.0\n",
      "\n",
      "\n",
      "16639\n",
      "label_size : 4 prediction_size : 4.0\n",
      "1.0\n",
      "1.0\n",
      "\n",
      "\n",
      "17958\n",
      "label_size : 5 prediction_size : 5.0\n",
      "1.0\n",
      "1.0\n",
      "\n",
      "\n",
      "10918\n",
      "label_size : 5 prediction_size : 18.0\n",
      "0.2777777777777778\n",
      "1.0\n",
      "\n",
      "\n",
      "26542\n",
      "label_size : 4 prediction_size : 4.0\n",
      "1.0\n",
      "1.0\n",
      "\n",
      "\n",
      "71651\n",
      "label_size : 2 prediction_size : 5.0\n",
      "0.4\n",
      "1.0\n",
      "\n",
      "\n",
      "45696\n",
      "label_size : 1 prediction_size : 2.0\n",
      "0.5\n",
      "1.0\n",
      "\n",
      "\n",
      "4253\n",
      "label_size : 8 prediction_size : 12.0\n",
      "0.6666666666666666\n",
      "1.0\n",
      "\n",
      "\n",
      "63461\n",
      "label_size : 2 prediction_size : 96.0\n",
      "0.020833333333333332\n",
      "1.0\n",
      "\n",
      "\n",
      "572\n",
      "label_size : 14 prediction_size : 17.0\n",
      "0.8235294117647058\n",
      "1.0\n",
      "\n",
      "\n",
      "66460\n",
      "label_size : 0 prediction_size : 1.0\n",
      "0.0\n",
      "0.0\n",
      "\n",
      "\n",
      "70828\n",
      "label_size : 1 prediction_size : 24.0\n",
      "0.041666666666666664\n",
      "1.0\n",
      "\n",
      "\n",
      "34741\n",
      "label_size : 4 prediction_size : 170.0\n",
      "0.023529411764705882\n",
      "1.0\n",
      "\n",
      "\n",
      "14588\n",
      "label_size : 5 prediction_size : 5.0\n",
      "1.0\n",
      "1.0\n",
      "\n",
      "\n",
      "8647\n",
      "label_size : 4 prediction_size : 12.0\n",
      "0.3333333333333333\n",
      "1.0\n",
      "\n",
      "\n",
      "51675\n",
      "label_size : 3 prediction_size : 7.0\n",
      "0.42857142857142855\n",
      "1.0\n",
      "\n",
      "\n",
      "44240\n",
      "label_size : 3 prediction_size : 5.0\n",
      "0.6\n",
      "1.0\n",
      "\n",
      "\n",
      "15772\n",
      "label_size : 4 prediction_size : 8.0\n",
      "0.5\n",
      "1.0\n",
      "\n",
      "\n",
      "37766\n",
      "label_size : 0 prediction_size : 1.0\n",
      "0.0\n",
      "0.0\n",
      "\n",
      "\n",
      "39183\n",
      "label_size : 2 prediction_size : 2.0\n",
      "1.0\n",
      "1.0\n",
      "\n",
      "\n",
      "67190\n",
      "label_size : 2 prediction_size : 11.0\n",
      "0.18181818181818182\n",
      "1.0\n",
      "\n",
      "\n",
      "53857\n",
      "label_size : 3 prediction_size : 8.0\n",
      "0.375\n",
      "1.0\n",
      "\n",
      "\n",
      "62549\n",
      "label_size : 2 prediction_size : 2.0\n",
      "1.0\n",
      "1.0\n",
      "\n",
      "\n",
      "4438\n",
      "label_size : 11 prediction_size : 16.0\n",
      "0.6875\n",
      "1.0\n",
      "\n",
      "\n",
      "71984\n",
      "label_size : 2 prediction_size : 2.0\n",
      "1.0\n",
      "1.0\n",
      "\n",
      "\n",
      "18607\n",
      "label_size : 4 prediction_size : 30.0\n",
      "0.13333333333333333\n",
      "1.0\n",
      "\n",
      "\n",
      "29566\n",
      "label_size : 3 prediction_size : 3.0\n",
      "1.0\n",
      "1.0\n",
      "\n",
      "\n",
      "42329\n",
      "label_size : 2 prediction_size : 14.0\n",
      "0.14285714285714285\n",
      "1.0\n",
      "\n",
      "\n",
      "41649\n",
      "label_size : 3 prediction_size : 27.0\n",
      "0.1111111111111111\n",
      "1.0\n",
      "\n",
      "\n",
      "57323\n",
      "label_size : 1 prediction_size : 2.0\n",
      "0.5\n",
      "1.0\n",
      "\n",
      "\n",
      "35622\n",
      "label_size : 4 prediction_size : 8.0\n",
      "0.5\n",
      "1.0\n",
      "\n",
      "\n",
      "19669\n",
      "label_size : 4 prediction_size : 8.0\n",
      "0.5\n",
      "1.0\n",
      "\n",
      "\n",
      "54420\n",
      "label_size : 3 prediction_size : 52.0\n",
      "0.057692307692307696\n",
      "1.0\n",
      "\n",
      "\n",
      "65907\n",
      "label_size : 2 prediction_size : 12.0\n",
      "0.16666666666666666\n",
      "1.0\n",
      "\n",
      "\n",
      "6304\n",
      "label_size : 1 prediction_size : 1.0\n",
      "1.0\n",
      "1.0\n",
      "\n",
      "\n",
      "46173\n",
      "label_size : 3 prediction_size : 3.0\n",
      "1.0\n",
      "1.0\n",
      "\n",
      "\n",
      "32207\n",
      "label_size : 2 prediction_size : 2.0\n",
      "1.0\n",
      "1.0\n",
      "\n",
      "\n",
      "68498\n",
      "label_size : 1 prediction_size : 1.0\n",
      "1.0\n",
      "1.0\n",
      "\n",
      "\n",
      "24879\n",
      "label_size : 1 prediction_size : 1.0\n",
      "1.0\n",
      "1.0\n",
      "\n",
      "\n",
      "26550\n",
      "label_size : 4 prediction_size : 21.0\n",
      "0.19047619047619047\n",
      "1.0\n",
      "\n",
      "\n",
      "6336\n",
      "label_size : 7 prediction_size : 22.0\n",
      "0.3181818181818182\n",
      "1.0\n",
      "\n",
      "\n",
      "673\n",
      "label_size : 16 prediction_size : 32.0\n",
      "0.5\n",
      "1.0\n",
      "\n",
      "\n",
      "11706\n",
      "label_size : 8 prediction_size : 8.0\n",
      "1.0\n",
      "1.0\n",
      "\n",
      "\n",
      "6168\n",
      "label_size : 7 prediction_size : 519.0\n",
      "0.01348747591522158\n",
      "1.0\n",
      "\n",
      "\n",
      "63675\n",
      "label_size : 2 prediction_size : 2.0\n",
      "1.0\n",
      "1.0\n",
      "\n",
      "\n",
      "45015\n",
      "label_size : 3 prediction_size : 7.0\n",
      "0.42857142857142855\n",
      "1.0\n",
      "\n",
      "\n",
      "60\n",
      "label_size : 15 prediction_size : 28.0\n",
      "0.5357142857142857\n",
      "1.0\n",
      "\n",
      "\n",
      "31880\n",
      "label_size : 3 prediction_size : 7.0\n",
      "0.42857142857142855\n",
      "1.0\n",
      "\n",
      "\n",
      "9461\n",
      "label_size : 5 prediction_size : 7.0\n",
      "0.7142857142857143\n",
      "1.0\n",
      "\n",
      "\n",
      "54931\n",
      "label_size : 3 prediction_size : 8.0\n",
      "0.375\n",
      "1.0\n",
      "\n",
      "\n",
      "11074\n",
      "label_size : 7 prediction_size : 7.0\n",
      "1.0\n",
      "1.0\n",
      "\n",
      "\n",
      "25928\n",
      "label_size : 5 prediction_size : 12.0\n",
      "0.4166666666666667\n",
      "1.0\n",
      "\n",
      "\n",
      "52850\n",
      "label_size : 2 prediction_size : 2.0\n",
      "1.0\n",
      "1.0\n",
      "\n",
      "\n",
      "38244\n",
      "label_size : 3 prediction_size : 7.0\n",
      "0.42857142857142855\n",
      "1.0\n",
      "\n",
      "\n",
      "14092\n",
      "label_size : 6 prediction_size : 6.0\n",
      "1.0\n",
      "1.0\n",
      "\n",
      "\n",
      "29533\n",
      "label_size : 4 prediction_size : 4.0\n",
      "1.0\n",
      "1.0\n",
      "\n",
      "\n",
      "72633\n",
      "label_size : 2 prediction_size : 8.0\n",
      "0.25\n",
      "1.0\n",
      "\n",
      "\n",
      "19729\n",
      "label_size : 4 prediction_size : 12.0\n",
      "0.3333333333333333\n",
      "1.0\n",
      "\n",
      "\n",
      "63959\n",
      "label_size : 2 prediction_size : 84.0\n",
      "0.023809523809523808\n",
      "1.0\n",
      "\n",
      "\n",
      "65697\n",
      "label_size : 1 prediction_size : 1.0\n",
      "1.0\n",
      "1.0\n",
      "\n",
      "\n",
      "63092\n",
      "label_size : 2 prediction_size : 2.0\n",
      "1.0\n",
      "1.0\n",
      "\n",
      "\n",
      "12067\n",
      "label_size : 1 prediction_size : 2.0\n",
      "0.5\n",
      "1.0\n",
      "\n",
      "\n",
      "9712\n",
      "label_size : 6 prediction_size : 10.0\n",
      "0.6\n",
      "1.0\n",
      "\n",
      "\n",
      "35832\n",
      "label_size : 3 prediction_size : 7.0\n",
      "0.42857142857142855\n",
      "1.0\n",
      "\n",
      "\n",
      "50058\n",
      "label_size : 3 prediction_size : 3.0\n",
      "1.0\n",
      "1.0\n",
      "\n",
      "\n",
      "8878\n",
      "label_size : 1 prediction_size : 10.0\n",
      "0.1\n",
      "1.0\n",
      "\n",
      "\n",
      "10198\n",
      "label_size : 8 prediction_size : 12.0\n",
      "0.6666666666666666\n",
      "1.0\n",
      "\n",
      "\n",
      "7132\n",
      "label_size : 7 prediction_size : 7.0\n"
     ]
    },
    {
     "name": "stderr",
     "output_type": "stream",
     "text": [
      "/home/wmind/anaconda3/lib/python3.8/site-packages/sklearn/metrics/_classification.py:1272: UndefinedMetricWarning: Recall is ill-defined and being set to 0.0 due to no true samples. Use `zero_division` parameter to control this behavior.\n",
      "  _warn_prf(average, modifier, msg_start, len(result))\n"
     ]
    },
    {
     "name": "stdout",
     "output_type": "stream",
     "text": [
      "1.0\n",
      "1.0\n",
      "\n",
      "\n",
      "19158\n",
      "label_size : 6 prediction_size : 9.0\n",
      "0.6666666666666666\n",
      "1.0\n",
      "\n",
      "\n",
      "71760\n",
      "label_size : 2 prediction_size : 2.0\n",
      "1.0\n",
      "1.0\n",
      "\n",
      "\n",
      "29882\n",
      "label_size : 3 prediction_size : 7.0\n",
      "0.42857142857142855\n",
      "1.0\n",
      "\n",
      "\n",
      "2487\n",
      "label_size : 12 prediction_size : 25.0\n",
      "0.48\n",
      "1.0\n",
      "\n",
      "\n",
      "45553\n",
      "label_size : 2 prediction_size : 11.0\n",
      "0.18181818181818182\n",
      "1.0\n",
      "\n",
      "\n",
      "41970\n",
      "label_size : 2 prediction_size : 18.0\n",
      "0.1111111111111111\n",
      "1.0\n",
      "\n",
      "\n",
      "37904\n",
      "label_size : 4 prediction_size : 64.0\n",
      "0.0625\n",
      "1.0\n",
      "\n",
      "\n",
      "23021\n",
      "label_size : 4 prediction_size : 93.0\n",
      "0.043010752688172046\n",
      "1.0\n",
      "\n",
      "\n",
      "16687\n",
      "label_size : 5 prediction_size : 5.0\n",
      "1.0\n",
      "1.0\n",
      "\n",
      "\n",
      "20559\n",
      "label_size : 3 prediction_size : 322.0\n",
      "0.009316770186335404\n",
      "1.0\n",
      "\n",
      "\n",
      "71620\n",
      "label_size : 1 prediction_size : 8.0\n",
      "0.125\n",
      "1.0\n",
      "\n",
      "\n",
      "35756\n",
      "label_size : 3 prediction_size : 7.0\n",
      "0.42857142857142855\n",
      "1.0\n",
      "\n",
      "\n",
      "65107\n",
      "label_size : 0 prediction_size : 1.0\n",
      "0.0\n",
      "0.0\n",
      "\n",
      "\n",
      "62058\n",
      "label_size : 1 prediction_size : 7.0\n",
      "0.14285714285714285\n",
      "1.0\n",
      "\n",
      "\n",
      "68572\n",
      "label_size : 2 prediction_size : 29.0\n",
      "0.06896551724137931\n",
      "1.0\n",
      "\n",
      "\n",
      "30575\n",
      "label_size : 5 prediction_size : 19.0\n",
      "0.2631578947368421\n",
      "1.0\n",
      "\n",
      "\n",
      "28196\n",
      "label_size : 3 prediction_size : 3.0\n",
      "1.0\n",
      "1.0\n",
      "\n",
      "\n",
      "44633\n",
      "label_size : 2 prediction_size : 10.0\n",
      "0.2\n",
      "1.0\n",
      "\n",
      "\n",
      "51809\n",
      "label_size : 3 prediction_size : 3.0\n",
      "1.0\n",
      "1.0\n",
      "\n",
      "\n",
      "62029\n",
      "label_size : 1 prediction_size : 1.0\n",
      "1.0\n",
      "1.0\n",
      "\n",
      "\n",
      "16289\n",
      "label_size : 4 prediction_size : 4.0\n",
      "1.0\n",
      "1.0\n",
      "\n",
      "\n",
      "53259\n",
      "label_size : 3 prediction_size : 7.0\n",
      "0.42857142857142855\n",
      "1.0\n",
      "\n",
      "\n",
      "33764\n",
      "label_size : 2 prediction_size : 5.0\n",
      "0.4\n",
      "1.0\n",
      "\n",
      "\n",
      "50154\n",
      "label_size : 3 prediction_size : 3.0\n",
      "1.0\n",
      "1.0\n",
      "\n",
      "\n",
      "9641\n",
      "label_size : 7 prediction_size : 7.0\n",
      "1.0\n",
      "1.0\n",
      "\n",
      "\n",
      "14665\n",
      "label_size : 5 prediction_size : 5.0\n",
      "1.0\n",
      "1.0\n",
      "\n",
      "\n",
      "63916\n",
      "label_size : 0 prediction_size : 9.0\n",
      "0.0\n",
      "0.0\n",
      "\n",
      "\n",
      "47939\n",
      "label_size : 1 prediction_size : 1.0\n",
      "1.0\n",
      "1.0\n",
      "\n",
      "\n",
      "43573\n",
      "label_size : 3 prediction_size : 3.0\n",
      "1.0\n",
      "1.0\n",
      "\n",
      "\n"
     ]
    }
   ],
   "source": [
    "precision_100 = []\n",
    "recall_100 = []\n",
    "\n",
    "for ind, predicted in prediction_poly3_dict.items(): \n",
    "    print(ind)\n",
    "    print('label_size : {}'.format(np.sum(test_label[ind])), \n",
    "          'prediction_size : {}'.format(np.sum(predicted)) )\n",
    "    \n",
    "    # calculate precision / recall\n",
    "    precision_ = metrics.precision_score( test_label[ind] , predicted )\n",
    "    recall_ = metrics.recall_score( test_label[ind] , predicted )\n",
    "    \n",
    "    # print\n",
    "    print( precision_ )\n",
    "    print( recall_ )\n",
    "    print('\\n')\n",
    "    \n",
    "    # append precision / recall\n",
    "    precision_100.append( precision_ )\n",
    "    recall_100.append( recall_ )\n",
    "    "
   ]
  },
  {
   "cell_type": "code",
   "execution_count": 34,
   "metadata": {},
   "outputs": [
    {
     "name": "stdout",
     "output_type": "stream",
     "text": [
      "100 100\n"
     ]
    }
   ],
   "source": [
    "print(len(precision_100), len(recall_100) )"
   ]
  },
  {
   "cell_type": "code",
   "execution_count": 35,
   "metadata": {},
   "outputs": [
    {
     "data": {
      "text/plain": [
       "0.5438155954453614"
      ]
     },
     "execution_count": 35,
     "metadata": {},
     "output_type": "execute_result"
    }
   ],
   "source": [
    "np.mean(precision_100)"
   ]
  },
  {
   "cell_type": "code",
   "execution_count": 36,
   "metadata": {},
   "outputs": [
    {
     "data": {
      "text/plain": [
       "0.96"
      ]
     },
     "execution_count": 36,
     "metadata": {},
     "output_type": "execute_result"
    }
   ],
   "source": [
    "np.mean(recall_100)"
   ]
  },
  {
   "cell_type": "code",
   "execution_count": null,
   "metadata": {},
   "outputs": [],
   "source": []
  },
  {
   "cell_type": "code",
   "execution_count": null,
   "metadata": {},
   "outputs": [],
   "source": []
  },
  {
   "cell_type": "code",
   "execution_count": null,
   "metadata": {},
   "outputs": [],
   "source": []
  }
 ],
 "metadata": {
  "kernelspec": {
   "display_name": "Python 3",
   "language": "python",
   "name": "python3"
  },
  "language_info": {
   "codemirror_mode": {
    "name": "ipython",
    "version": 3
   },
   "file_extension": ".py",
   "mimetype": "text/x-python",
   "name": "python",
   "nbconvert_exporter": "python",
   "pygments_lexer": "ipython3",
   "version": "3.8.2"
  }
 },
 "nbformat": 4,
 "nbformat_minor": 4
}
