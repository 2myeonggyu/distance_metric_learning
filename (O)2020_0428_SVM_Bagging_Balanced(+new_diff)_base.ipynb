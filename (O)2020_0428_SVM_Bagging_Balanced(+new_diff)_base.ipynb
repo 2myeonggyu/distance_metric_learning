{
 "cells": [
  {
   "cell_type": "markdown",
   "metadata": {},
   "source": [
    "- 0429 새로만든 훈련데이터 (balanced 엄격하게)"
   ]
  },
  {
   "cell_type": "markdown",
   "metadata": {},
   "source": [
    "원본 : (중요)2020_0417_Training_with_difference_vector_wo_balance(Bagging-probX)_ver4_iter_estimators.ipynb"
   ]
  },
  {
   "cell_type": "code",
   "execution_count": 1,
   "metadata": {},
   "outputs": [],
   "source": [
    "import pandas as pd\n",
    "import numpy as np\n",
    "import matplotlib.pyplot as plt\n",
    "\n",
    "from sklearn import svm\n",
    "from sklearn.model_selection import train_test_split\n",
    "\n",
    "import glob\n",
    "import os\n",
    "import multiprocessing\n",
    "\n",
    "import pickle\n",
    "import time\n",
    "import random"
   ]
  },
  {
   "cell_type": "markdown",
   "metadata": {},
   "source": [
    "---"
   ]
  },
  {
   "cell_type": "code",
   "execution_count": 2,
   "metadata": {},
   "outputs": [],
   "source": [
    "def chunkIt(seq, num):\n",
    "    if len(seq) % int(num) == 0:\n",
    "        avg = int(len(seq) / int(num))\n",
    "    else:\n",
    "        avg = int(len(seq) / int(num)) + 1 # 이렇게 해야하네!\n",
    "    out = []\n",
    "    last = 0.0\n",
    "\n",
    "    while last < len(seq):\n",
    "        out.append(seq[int(last):int(last + avg)])\n",
    "        last += avg\n",
    "\n",
    "    return out"
   ]
  },
  {
   "cell_type": "markdown",
   "metadata": {},
   "source": [
    "---"
   ]
  },
  {
   "cell_type": "markdown",
   "metadata": {},
   "source": [
    "# data load"
   ]
  },
  {
   "cell_type": "markdown",
   "metadata": {},
   "source": [
    "### - train/test index"
   ]
  },
  {
   "cell_type": "code",
   "execution_count": 3,
   "metadata": {},
   "outputs": [
    {
     "data": {
      "text/plain": [
       "['../2_svm2+data/data/without_validation/test_index.pkl',\n",
       " '../2_svm2+data/data/without_validation/train_sampling_dict.pkl',\n",
       " '../2_svm2+data/data/without_validation/train_pair.pkl',\n",
       " '../2_svm2+data/data/without_validation/train_index.pkl',\n",
       " '../2_svm2+data/data/without_validation/balanced',\n",
       " '../2_svm2+data/data/without_validation/without_balanced']"
      ]
     },
     "execution_count": 3,
     "metadata": {},
     "output_type": "execute_result"
    }
   ],
   "source": [
    "glob.glob('../2_svm2+data/data/without_validation/*')"
   ]
  },
  {
   "cell_type": "code",
   "execution_count": 4,
   "metadata": {},
   "outputs": [],
   "source": [
    "# load train/text index\n",
    "with open('../2_svm2+data/data/without_validation/train_index.pkl', 'rb') as f:\n",
    "    train_index = pickle.load(f)\n",
    "    \n",
    "with open('../2_svm2+data/data/without_validation/test_index.pkl', 'rb') as f:\n",
    "    test_index = pickle.load(f)"
   ]
  },
  {
   "cell_type": "code",
   "execution_count": null,
   "metadata": {},
   "outputs": [],
   "source": []
  },
  {
   "cell_type": "markdown",
   "metadata": {},
   "source": [
    "---"
   ]
  },
  {
   "cell_type": "markdown",
   "metadata": {},
   "source": [
    "### - load train_array"
   ]
  },
  {
   "cell_type": "code",
   "execution_count": 5,
   "metadata": {},
   "outputs": [
    {
     "data": {
      "text/plain": [
       "['X_tain.pkl',\n",
       " 'train_sampling_dict.pkl',\n",
       " '(중요)2020_0428_SVM_Bagging_Unbalanced(+new_diff).ipynb',\n",
       " '2020_0428_make_train_data_with_balanced(+wo_balanced+no_validation)+EDA.ipynb',\n",
       " 'y_train.pkl',\n",
       " 'ReadME.txt']"
      ]
     },
     "execution_count": 5,
     "metadata": {},
     "output_type": "execute_result"
    }
   ],
   "source": [
    "glob.glob('*')"
   ]
  },
  {
   "cell_type": "code",
   "execution_count": 6,
   "metadata": {},
   "outputs": [],
   "source": [
    "with open('X_tain.pkl', 'rb') as f:\n",
    "    X_train = pickle.load(f)"
   ]
  },
  {
   "cell_type": "code",
   "execution_count": 7,
   "metadata": {},
   "outputs": [],
   "source": [
    "with open('y_train.pkl', 'rb') as f:\n",
    "    y_train = pickle.load(f)"
   ]
  },
  {
   "cell_type": "code",
   "execution_count": 8,
   "metadata": {},
   "outputs": [
    {
     "name": "stdout",
     "output_type": "stream",
     "text": [
      "(330519, 512) (330519,)\n"
     ]
    }
   ],
   "source": [
    "print(X_train.shape, y_train.shape)"
   ]
  },
  {
   "cell_type": "markdown",
   "metadata": {},
   "source": [
    "---"
   ]
  },
  {
   "cell_type": "markdown",
   "metadata": {},
   "source": [
    "# data make"
   ]
  },
  {
   "cell_type": "markdown",
   "metadata": {},
   "source": [
    "### - new-diff"
   ]
  },
  {
   "cell_type": "markdown",
   "metadata": {},
   "source": [
    " *** multiprocessing ***"
   ]
  },
  {
   "cell_type": "code",
   "execution_count": 22,
   "metadata": {},
   "outputs": [],
   "source": [
    "# X , y 합쳐주기\n",
    "\n",
    "train = np.append(X_train, y_train.reshape(len(X_train), -1), axis=1)"
   ]
  },
  {
   "cell_type": "code",
   "execution_count": 23,
   "metadata": {},
   "outputs": [],
   "source": [
    "train_chunk = chunkIt(train, 36)"
   ]
  },
  {
   "cell_type": "code",
   "execution_count": 24,
   "metadata": {},
   "outputs": [
    {
     "data": {
      "text/plain": [
       "(9182, 513)"
      ]
     },
     "execution_count": 24,
     "metadata": {},
     "output_type": "execute_result"
    }
   ],
   "source": [
    "train_chunk[0].shape"
   ]
  },
  {
   "cell_type": "code",
   "execution_count": null,
   "metadata": {},
   "outputs": [],
   "source": []
  },
  {
   "cell_type": "code",
   "execution_count": 25,
   "metadata": {},
   "outputs": [],
   "source": [
    "def parallelize_dataframe(chunk_pair, func):\n",
    "    #\n",
    "    #ctx = multiprocessing.get_context(\"spawn\")\n",
    "    #pool  = ctx.Pool(num_cores)\n",
    "    pool = multiprocessing.Pool( num_cores )\n",
    "    stats_list = pool.map(func, chunk_pair) # 리스트 형태로 떨궈준다\n",
    "    pool.close()\n",
    "    pool.join()\n",
    "    print('parallel finished !')\n",
    "    return stats_list"
   ]
  },
  {
   "cell_type": "code",
   "execution_count": 26,
   "metadata": {},
   "outputs": [],
   "source": [
    "def make_stats( chunk_pair ):\n",
    "    \n",
    "    data_chunk = chunk_pair\n",
    "    \n",
    "    # x1-x2 : X_diff   \n",
    "    for i, x in enumerate( data_chunk ):\n",
    "        if i == 0:\n",
    "            X_diff = (x[:256] - x[256:512]).reshape(1, 256)\n",
    "            y_chunk = x[512:]\n",
    "        else:\n",
    "            X_diff = np.append(X_diff, (x[:256] - x[256:512]).reshape(1, 256) , axis=0)\n",
    "            y_chunk = np.append(y_chunk, x[512:] )\n",
    "    \n",
    "    # x2-x1 : X_diff_reversed\n",
    "    for i, x in enumerate( data_chunk ):\n",
    "        if i == 0:\n",
    "            X_diff_reversed = (x[256:512] - x[:256]).reshape(1, 256)\n",
    "            y_chunk_reversed = x[512:]\n",
    "        else:\n",
    "            X_diff_reversed = np.append(X_diff_reversed, (x[256:512] - x[:256]).reshape(1, 256) , axis=0)\n",
    "            y_chunk_reversed = np.append(y_chunk_reversed, x[512:] )\n",
    "            \n",
    "    # append\n",
    "    X_diff = np.append(X_diff, X_diff_reversed, axis=0)  \n",
    "    y_chunk = np.append( y_chunk, y_chunk_reversed )\n",
    "    \n",
    "    return (X_diff, y_chunk)"
   ]
  },
  {
   "cell_type": "markdown",
   "metadata": {},
   "source": [
    "- for Train"
   ]
  },
  {
   "cell_type": "code",
   "execution_count": 27,
   "metadata": {},
   "outputs": [
    {
     "name": "stdout",
     "output_type": "stream",
     "text": [
      "parallel finished !\n",
      "CPU times: user 6.35 s, sys: 11.1 s, total: 17.4 s\n",
      "Wall time: 2min 53s\n"
     ]
    }
   ],
   "source": [
    "%%time\n",
    "\n",
    "num_cores = len(train_chunk)  # \n",
    "\n",
    "# df_split은 위에 정의했다\n",
    "train_parallel = parallelize_dataframe( train_chunk , make_stats )"
   ]
  },
  {
   "cell_type": "code",
   "execution_count": 28,
   "metadata": {
    "scrolled": true
   },
   "outputs": [
    {
     "data": {
      "text/plain": [
       "18364"
      ]
     },
     "execution_count": 28,
     "metadata": {},
     "output_type": "execute_result"
    }
   ],
   "source": [
    "len(train_parallel[0][0])"
   ]
  },
  {
   "cell_type": "markdown",
   "metadata": {},
   "source": [
    "---"
   ]
  },
  {
   "cell_type": "markdown",
   "metadata": {},
   "source": [
    "- 데이터 합치기"
   ]
  },
  {
   "cell_type": "code",
   "execution_count": 29,
   "metadata": {},
   "outputs": [],
   "source": [
    "X_diff_train = np.array([])\n",
    "y_diff_train = np.array([])\n",
    "for i,(x,y) in enumerate( train_parallel ):\n",
    "    if i == 0:\n",
    "        X_diff_train = x\n",
    "        y_diff_train = y\n",
    "    else:\n",
    "        X_diff_train = np.append( X_diff_train, x, axis=0 )\n",
    "        y_diff_train = np.append( y_diff_train, y, axis=0 )"
   ]
  },
  {
   "cell_type": "code",
   "execution_count": 30,
   "metadata": {},
   "outputs": [
    {
     "name": "stdout",
     "output_type": "stream",
     "text": [
      "(661038, 256) (661038,)\n"
     ]
    }
   ],
   "source": [
    "print(X_diff_train.shape, y_diff_train.shape )"
   ]
  },
  {
   "cell_type": "code",
   "execution_count": null,
   "metadata": {},
   "outputs": [],
   "source": []
  },
  {
   "cell_type": "markdown",
   "metadata": {},
   "source": [
    "---\n",
    "---"
   ]
  },
  {
   "cell_type": "markdown",
   "metadata": {},
   "source": [
    "# # Training"
   ]
  },
  {
   "cell_type": "code",
   "execution_count": 10,
   "metadata": {},
   "outputs": [],
   "source": [
    "import time\n",
    "import numpy as np\n",
    "from sklearn.ensemble import BaggingClassifier, RandomForestClassifier\n",
    "from sklearn import datasets\n",
    "from sklearn.multiclass import OneVsRestClassifier\n",
    "from sklearn.svm import SVC"
   ]
  },
  {
   "cell_type": "markdown",
   "metadata": {},
   "source": [
    "# # with rbf\n",
    "- non-scaling"
   ]
  },
  {
   "cell_type": "code",
   "execution_count": 32,
   "metadata": {},
   "outputs": [
    {
     "name": "stdout",
     "output_type": "stream",
     "text": [
      "CPU times: user 483 ms, sys: 4.27 s, total: 4.75 s\n",
      "Wall time: 29.5 s\n"
     ]
    },
    {
     "data": {
      "text/plain": [
       "BaggingClassifier(base_estimator=SVC(C=1.0, break_ties=False, cache_size=200,\n",
       "                                     class_weight=None, coef0=0.0,\n",
       "                                     decision_function_shape='ovr', degree=3,\n",
       "                                     gamma='scale', kernel='rbf', max_iter=100,\n",
       "                                     probability=False, random_state=None,\n",
       "                                     shrinking=True, tol=0.001, verbose=False),\n",
       "                  bootstrap=True, bootstrap_features=False, max_features=1.0,\n",
       "                  max_samples=0.03333333333333333, n_estimators=30, n_jobs=36,\n",
       "                  oob_score=False, random_state=None, verbose=0,\n",
       "                  warm_start=False)"
      ]
     },
     "execution_count": 32,
     "metadata": {},
     "output_type": "execute_result"
    }
   ],
   "source": [
    "%%time\n",
    "n_estimators = 30\n",
    "\n",
    "estimator = SVC( max_iter = 100 ) # class_weight : 'balanced'로 해야할까?\n",
    "bagging = BaggingClassifier(base_estimator = estimator, max_samples=1.0 / n_estimators, \n",
    "                        n_estimators=n_estimators, n_jobs=36)\n",
    "bagging.fit(X_diff_train, y_diff_train)"
   ]
  },
  {
   "cell_type": "markdown",
   "metadata": {},
   "source": [
    "---"
   ]
  },
  {
   "cell_type": "markdown",
   "metadata": {},
   "source": [
    "- 테스트 환경 일지 기록\n",
    "> 기본적으로 n_estimators : 30, max_iter : 100, n_jobs : 36 으로 시작\n",
    "\n",
    "> - kernel : linear -> 훈련시간 27초\n",
    "> - kernel : rbf(default) -> 훈련시간 30초"
   ]
  },
  {
   "cell_type": "code",
   "execution_count": null,
   "metadata": {},
   "outputs": [],
   "source": []
  },
  {
   "cell_type": "markdown",
   "metadata": {},
   "source": [
    "# # with poly3"
   ]
  },
  {
   "cell_type": "code",
   "execution_count": 42,
   "metadata": {},
   "outputs": [
    {
     "name": "stdout",
     "output_type": "stream",
     "text": [
      "CPU times: user 353 ms, sys: 580 ms, total: 933 ms\n",
      "Wall time: 22.7 s\n"
     ]
    },
    {
     "data": {
      "text/plain": [
       "BaggingClassifier(base_estimator=SVC(C=1.0, break_ties=False, cache_size=200,\n",
       "                                     class_weight=None, coef0=0.0,\n",
       "                                     decision_function_shape='ovr', degree=3,\n",
       "                                     gamma='scale', kernel='poly', max_iter=100,\n",
       "                                     probability=False, random_state=None,\n",
       "                                     shrinking=True, tol=0.001, verbose=False),\n",
       "                  bootstrap=True, bootstrap_features=False, max_features=1.0,\n",
       "                  max_samples=0.03333333333333333, n_estimators=30, n_jobs=36,\n",
       "                  oob_score=False, random_state=None, verbose=0,\n",
       "                  warm_start=False)"
      ]
     },
     "execution_count": 42,
     "metadata": {},
     "output_type": "execute_result"
    }
   ],
   "source": [
    "%%time\n",
    "n_estimators = 30\n",
    "\n",
    "estimator = SVC( kernel = 'poly' , max_iter = 100 ) # \n",
    "bagging_poly3 = BaggingClassifier(base_estimator = estimator, max_samples=1.0 / n_estimators, \n",
    "                        n_estimators=n_estimators, n_jobs=36)\n",
    "bagging_poly3.fit(X_diff_train, y_diff_train)"
   ]
  },
  {
   "cell_type": "code",
   "execution_count": null,
   "metadata": {},
   "outputs": [],
   "source": []
  },
  {
   "cell_type": "code",
   "execution_count": null,
   "metadata": {},
   "outputs": [],
   "source": []
  },
  {
   "cell_type": "markdown",
   "metadata": {},
   "source": [
    "---"
   ]
  },
  {
   "cell_type": "markdown",
   "metadata": {},
   "source": [
    "## ## evaluate test set"
   ]
  },
  {
   "cell_type": "markdown",
   "metadata": {},
   "source": [
    "- multiprocessing 활용하기 위해선, 훈련때 n_jobs=1로 해야해.. \n",
    "- bagging_1"
   ]
  },
  {
   "cell_type": "code",
   "execution_count": 14,
   "metadata": {
    "scrolled": true
   },
   "outputs": [
    {
     "data": {
      "text/plain": [
       "[40648, 66052, 37783, 59761, 16639]"
      ]
     },
     "execution_count": 14,
     "metadata": {},
     "output_type": "execute_result"
    }
   ],
   "source": [
    "test_index[:5]"
   ]
  },
  {
   "cell_type": "code",
   "execution_count": 15,
   "metadata": {},
   "outputs": [
    {
     "data": {
      "text/plain": [
       "['../1_svm/data/new_feat_df.csv']"
      ]
     },
     "execution_count": 15,
     "metadata": {},
     "output_type": "execute_result"
    }
   ],
   "source": [
    "glob.glob('../1_svm/data/*.csv')"
   ]
  },
  {
   "cell_type": "code",
   "execution_count": 16,
   "metadata": {},
   "outputs": [],
   "source": [
    "data = pd.read_csv('../1_svm/data/new_feat_df.csv')"
   ]
  },
  {
   "cell_type": "code",
   "execution_count": 17,
   "metadata": {},
   "outputs": [],
   "source": [
    "group_no_df = data.groupby('group_no').size().reset_index()\n",
    "group_no_df.columns = ['group_no', 'size_']\n",
    "\n",
    "filtering_grp = group_no_df[group_no_df.size_ > 2].group_no.tolist()\n",
    "data_filter = data[data.group_no.isin( filtering_grp )]"
   ]
  },
  {
   "cell_type": "code",
   "execution_count": 18,
   "metadata": {},
   "outputs": [
    {
     "data": {
      "text/plain": [
       "(73681, 266)"
      ]
     },
     "execution_count": 18,
     "metadata": {},
     "output_type": "execute_result"
    }
   ],
   "source": [
    "data_filter.shape"
   ]
  },
  {
   "cell_type": "markdown",
   "metadata": {},
   "source": [
    "---\n",
    "---"
   ]
  },
  {
   "cell_type": "markdown",
   "metadata": {},
   "source": [
    "- 이런식으로 하면 될것같아\n",
    "> (문제점!) 그치만 램을 쭉쭉 뽑아먹고, 커널이 죽는다 (test_index 1000개에 대한 pair 데이터 다 만들면)"
   ]
  },
  {
   "cell_type": "markdown",
   "metadata": {},
   "source": [
    "- 테스트 pair 데이터 500개 정도 저장해서 사용하고 싶었는데, 30기가가 넘는것 같아\n",
    "> - 일단은 100개 정도만 활용하자"
   ]
  },
  {
   "cell_type": "code",
   "execution_count": null,
   "metadata": {},
   "outputs": [],
   "source": []
  },
  {
   "cell_type": "code",
   "execution_count": 19,
   "metadata": {},
   "outputs": [
    {
     "name": "stdout",
     "output_type": "stream",
     "text": [
      "17.7384512424469\n",
      "CPU times: user 7.27 s, sys: 10.5 s, total: 17.7 s\n",
      "Wall time: 17.7 s\n"
     ]
    }
   ],
   "source": [
    "%%time\n",
    "# init\n",
    "test_pair_array = {}\n",
    "test_label = {}   \n",
    "start_time = time.time()\n",
    "# loop\n",
    "for j,test_ in enumerate(test_index[:100]):\n",
    "    \n",
    "    # init\n",
    "    test_pair_array[test_] = np.array([])\n",
    "    test_label[test_] = np.array([])\n",
    "    ###\n",
    "    pair_array = data_filter.iloc[:, 7:-3].values\n",
    "    label_array = data_filter.group_no.values\n",
    "    \n",
    "    anchor_array = pair_array[test_]\n",
    "    anchor_label = data_filter.iloc[test_].group_no\n",
    "    \n",
    "    candidate_array = np.delete( pair_array, test_, axis=0)\n",
    "    candidate_label = np.delete(label_array, test_)\n",
    "    \n",
    "    # append - diff 형태\n",
    "    test_pair_array[test_] = (anchor_array - candidate_array)\n",
    "    test_label[test_] = ( candidate_label == anchor_label ).astype(int)\n",
    "    if (j+1) % 100 == 0:\n",
    "        elapsed_time = time.time() - start_time\n",
    "        print(elapsed_time)"
   ]
  },
  {
   "cell_type": "code",
   "execution_count": 33,
   "metadata": {},
   "outputs": [
    {
     "data": {
      "text/plain": [
       "100"
      ]
     },
     "execution_count": 33,
     "metadata": {},
     "output_type": "execute_result"
    }
   ],
   "source": [
    "len(test_pair_array)"
   ]
  },
  {
   "cell_type": "markdown",
   "metadata": {},
   "source": [
    "----"
   ]
  },
  {
   "cell_type": "markdown",
   "metadata": {},
   "source": [
    "- prediction 만들기"
   ]
  },
  {
   "cell_type": "code",
   "execution_count": 34,
   "metadata": {},
   "outputs": [
    {
     "name": "stdout",
     "output_type": "stream",
     "text": [
      "CPU times: user 13.6 s, sys: 10.5 s, total: 24.1 s\n",
      "Wall time: 12min 12s\n"
     ]
    }
   ],
   "source": [
    "%%time\n",
    "prediction_dict = {}\n",
    "\n",
    "for key_ in list(test_label.keys())[:100]:\n",
    "    prediction_dict[key_] = bagging.predict(test_pair_array[key_])"
   ]
  },
  {
   "cell_type": "markdown",
   "metadata": {},
   "source": [
    "### max_iter & n_estimators 테스트\n",
    "###<n_jobs:36>\n",
    "- max_iter 100 & n_estimators 30 : 100개 테스트 객체 통해서 prediction 구할 때, 약 12분 소요 \n",
    "\n"
   ]
  },
  {
   "cell_type": "code",
   "execution_count": 35,
   "metadata": {
    "scrolled": true
   },
   "outputs": [
    {
     "data": {
      "text/plain": [
       "100"
      ]
     },
     "execution_count": 35,
     "metadata": {},
     "output_type": "execute_result"
    }
   ],
   "source": [
    "len(prediction_dict)"
   ]
  },
  {
   "cell_type": "code",
   "execution_count": 36,
   "metadata": {},
   "outputs": [],
   "source": [
    "from sklearn import metrics"
   ]
  },
  {
   "cell_type": "markdown",
   "metadata": {},
   "source": [
    "- test_set에 대한 성능 살피기\n",
    "> precision / recall"
   ]
  },
  {
   "cell_type": "markdown",
   "metadata": {},
   "source": [
    "## # rbf(=default)"
   ]
  },
  {
   "cell_type": "markdown",
   "metadata": {},
   "source": [
    "### 1. max_iter 100 & n_estimators 30"
   ]
  },
  {
   "cell_type": "code",
   "execution_count": 37,
   "metadata": {},
   "outputs": [
    {
     "name": "stdout",
     "output_type": "stream",
     "text": [
      "40648\n",
      "label_size : 4 prediction_size : 1.0\n",
      "1.0\n",
      "0.25\n",
      "\n",
      "\n",
      "66052\n",
      "label_size : 2 prediction_size : 17.0\n",
      "0.11764705882352941\n",
      "1.0\n",
      "\n",
      "\n",
      "37783\n",
      "label_size : 3 prediction_size : 0.0\n",
      "0.0\n",
      "0.0\n",
      "\n",
      "\n",
      "59761\n",
      "label_size : 2 prediction_size : 2.0\n"
     ]
    },
    {
     "name": "stderr",
     "output_type": "stream",
     "text": [
      "/home/wmind/anaconda3/lib/python3.8/site-packages/sklearn/metrics/_classification.py:1272: UndefinedMetricWarning: Precision is ill-defined and being set to 0.0 due to no predicted samples. Use `zero_division` parameter to control this behavior.\n",
      "  _warn_prf(average, modifier, msg_start, len(result))\n"
     ]
    },
    {
     "name": "stdout",
     "output_type": "stream",
     "text": [
      "1.0\n",
      "1.0\n",
      "\n",
      "\n",
      "16639\n",
      "label_size : 4 prediction_size : 4.0\n",
      "1.0\n",
      "1.0\n",
      "\n",
      "\n",
      "17958\n",
      "label_size : 5 prediction_size : 5.0\n",
      "1.0\n",
      "1.0\n",
      "\n",
      "\n",
      "10918\n",
      "label_size : 5 prediction_size : 18.0\n",
      "0.2777777777777778\n",
      "1.0\n",
      "\n",
      "\n",
      "26542\n",
      "label_size : 4 prediction_size : 4.0\n",
      "1.0\n",
      "1.0\n",
      "\n",
      "\n",
      "71651\n",
      "label_size : 2 prediction_size : 2.0\n",
      "1.0\n",
      "1.0\n",
      "\n",
      "\n",
      "45696\n",
      "label_size : 3 prediction_size : 1.0\n",
      "1.0\n",
      "0.3333333333333333\n",
      "\n",
      "\n",
      "4253\n",
      "label_size : 8 prediction_size : 12.0\n",
      "0.6666666666666666\n",
      "1.0\n",
      "\n",
      "\n",
      "63461\n",
      "label_size : 2 prediction_size : 29.0\n",
      "0.06896551724137931\n",
      "1.0\n",
      "\n",
      "\n",
      "572\n",
      "label_size : 14 prediction_size : 17.0\n",
      "0.8235294117647058\n",
      "1.0\n",
      "\n",
      "\n",
      "66460\n",
      "label_size : 2 prediction_size : 0.0\n",
      "0.0\n",
      "0.0\n",
      "\n",
      "\n",
      "70828\n",
      "label_size : 2 prediction_size : 0.0\n",
      "0.0\n",
      "0.0\n",
      "\n",
      "\n",
      "34741\n",
      "label_size : 4 prediction_size : 3.0\n",
      "1.0\n",
      "0.75\n",
      "\n",
      "\n",
      "14588\n",
      "label_size : 7 prediction_size : 0.0\n",
      "0.0\n",
      "0.0\n",
      "\n",
      "\n",
      "8647\n",
      "label_size : 4 prediction_size : 4.0\n",
      "0.25\n",
      "0.25\n",
      "\n",
      "\n",
      "51675\n",
      "label_size : 3 prediction_size : 7.0\n",
      "0.42857142857142855\n",
      "1.0\n",
      "\n",
      "\n",
      "44240\n",
      "label_size : 3 prediction_size : 3.0\n",
      "1.0\n",
      "1.0\n",
      "\n",
      "\n",
      "15772\n",
      "label_size : 4 prediction_size : 8.0\n",
      "0.5\n",
      "1.0\n",
      "\n",
      "\n",
      "37766\n",
      "label_size : 4 prediction_size : 0.0\n",
      "0.0\n",
      "0.0\n",
      "\n",
      "\n",
      "39183\n",
      "label_size : 2 prediction_size : 2.0\n",
      "1.0\n",
      "1.0\n",
      "\n",
      "\n",
      "67190\n",
      "label_size : 2 prediction_size : 2.0\n",
      "1.0\n",
      "1.0\n",
      "\n",
      "\n",
      "53857\n",
      "label_size : 3 prediction_size : 5.0\n",
      "0.2\n",
      "0.3333333333333333\n",
      "\n",
      "\n",
      "62549\n",
      "label_size : 2 prediction_size : 1.0\n",
      "1.0\n",
      "0.5\n",
      "\n",
      "\n",
      "4438\n",
      "label_size : 11 prediction_size : 16.0\n",
      "0.6875\n",
      "1.0\n",
      "\n",
      "\n",
      "71984\n",
      "label_size : 2 prediction_size : 2.0\n",
      "1.0\n",
      "1.0\n",
      "\n",
      "\n",
      "18607\n",
      "label_size : 5 prediction_size : 2.0\n",
      "1.0\n",
      "0.4\n",
      "\n",
      "\n",
      "29566\n",
      "label_size : 3 prediction_size : 1.0\n",
      "1.0\n",
      "0.3333333333333333\n",
      "\n",
      "\n",
      "42329\n",
      "label_size : 2 prediction_size : 14.0\n",
      "0.14285714285714285\n",
      "1.0\n",
      "\n",
      "\n",
      "41649\n",
      "label_size : 3 prediction_size : 27.0\n",
      "0.1111111111111111\n",
      "1.0\n",
      "\n",
      "\n",
      "57323\n",
      "label_size : 2 prediction_size : 0.0\n",
      "0.0\n",
      "0.0\n",
      "\n",
      "\n",
      "35622\n",
      "label_size : 4 prediction_size : 8.0\n",
      "0.5\n",
      "1.0\n",
      "\n",
      "\n",
      "19669\n",
      "label_size : 4 prediction_size : 4.0\n",
      "1.0\n",
      "1.0\n",
      "\n",
      "\n",
      "54420\n",
      "label_size : 3 prediction_size : 5.0\n",
      "0.2\n",
      "0.3333333333333333\n",
      "\n",
      "\n",
      "65907\n",
      "label_size : 2 prediction_size : 12.0\n",
      "0.16666666666666666\n",
      "1.0\n",
      "\n",
      "\n",
      "6304\n",
      "label_size : 5 prediction_size : 0.0\n",
      "0.0\n",
      "0.0\n",
      "\n",
      "\n",
      "46173\n",
      "label_size : 3 prediction_size : 2.0\n",
      "1.0\n",
      "0.6666666666666666\n",
      "\n",
      "\n",
      "32207\n",
      "label_size : 2 prediction_size : 2.0\n",
      "1.0\n",
      "1.0\n",
      "\n",
      "\n",
      "68498\n",
      "label_size : 2 prediction_size : 0.0\n",
      "0.0\n",
      "0.0\n",
      "\n",
      "\n",
      "24879\n",
      "label_size : 5 prediction_size : 0.0\n",
      "0.0\n",
      "0.0\n",
      "\n",
      "\n",
      "26550\n",
      "label_size : 4 prediction_size : 4.0\n",
      "1.0\n",
      "1.0\n",
      "\n",
      "\n",
      "6336\n",
      "label_size : 7 prediction_size : 22.0\n",
      "0.3181818181818182\n",
      "1.0\n",
      "\n",
      "\n",
      "673\n",
      "label_size : 16 prediction_size : 25.0\n",
      "0.4\n",
      "0.625\n",
      "\n",
      "\n",
      "11706\n",
      "label_size : 8 prediction_size : 2.0\n",
      "1.0\n",
      "0.25\n",
      "\n",
      "\n",
      "6168\n",
      "label_size : 7 prediction_size : 244.0\n",
      "0.028688524590163935\n",
      "1.0\n",
      "\n",
      "\n",
      "63675\n",
      "label_size : 2 prediction_size : 2.0\n",
      "1.0\n",
      "1.0\n",
      "\n",
      "\n",
      "45015\n",
      "label_size : 3 prediction_size : 3.0\n",
      "1.0\n",
      "1.0\n",
      "\n",
      "\n",
      "60\n",
      "label_size : 16 prediction_size : 21.0\n",
      "0.7142857142857143\n",
      "0.9375\n",
      "\n",
      "\n",
      "31880\n",
      "label_size : 3 prediction_size : 3.0\n",
      "1.0\n",
      "1.0\n",
      "\n",
      "\n",
      "9461\n",
      "label_size : 8 prediction_size : 7.0\n",
      "0.7142857142857143\n",
      "0.625\n",
      "\n",
      "\n",
      "54931\n",
      "label_size : 3 prediction_size : 2.0\n",
      "1.0\n",
      "0.6666666666666666\n",
      "\n",
      "\n",
      "11074\n",
      "label_size : 7 prediction_size : 7.0\n",
      "1.0\n",
      "1.0\n",
      "\n",
      "\n",
      "25928\n",
      "label_size : 5 prediction_size : 12.0\n",
      "0.4166666666666667\n",
      "1.0\n",
      "\n",
      "\n",
      "52850\n",
      "label_size : 2 prediction_size : 2.0\n",
      "1.0\n",
      "1.0\n",
      "\n",
      "\n",
      "38244\n",
      "label_size : 3 prediction_size : 7.0\n",
      "0.42857142857142855\n",
      "1.0\n",
      "\n",
      "\n",
      "14092\n",
      "label_size : 6 prediction_size : 6.0\n",
      "1.0\n",
      "1.0\n",
      "\n",
      "\n",
      "29533\n",
      "label_size : 4 prediction_size : 4.0\n",
      "1.0\n",
      "1.0\n",
      "\n",
      "\n",
      "72633\n",
      "label_size : 2 prediction_size : 2.0\n",
      "1.0\n",
      "1.0\n",
      "\n",
      "\n",
      "19729\n",
      "label_size : 4 prediction_size : 10.0\n",
      "0.4\n",
      "1.0\n",
      "\n",
      "\n",
      "63959\n",
      "label_size : 2 prediction_size : 43.0\n",
      "0.046511627906976744\n",
      "1.0\n",
      "\n",
      "\n",
      "65697\n",
      "label_size : 2 prediction_size : 1.0\n",
      "1.0\n",
      "0.5\n",
      "\n",
      "\n",
      "63092\n",
      "label_size : 2 prediction_size : 2.0\n",
      "1.0\n",
      "1.0\n",
      "\n",
      "\n",
      "12067\n",
      "label_size : 7 prediction_size : 1.0\n",
      "1.0\n",
      "0.14285714285714285\n",
      "\n",
      "\n",
      "9712\n",
      "label_size : 6 prediction_size : 10.0\n",
      "0.6\n",
      "1.0\n",
      "\n",
      "\n",
      "35832\n",
      "label_size : 3 prediction_size : 7.0\n",
      "0.42857142857142855\n",
      "1.0\n",
      "\n",
      "\n",
      "50058\n",
      "label_size : 3 prediction_size : 3.0\n",
      "1.0\n",
      "1.0\n",
      "\n",
      "\n",
      "8878\n",
      "label_size : 9 prediction_size : 0.0\n",
      "0.0\n",
      "0.0\n",
      "\n",
      "\n",
      "10198\n",
      "label_size : 8 prediction_size : 12.0\n",
      "0.6666666666666666\n",
      "1.0\n",
      "\n",
      "\n",
      "7132\n",
      "label_size : 9 prediction_size : 7.0\n",
      "1.0\n",
      "0.7777777777777778\n",
      "\n",
      "\n",
      "19158\n",
      "label_size : 6 prediction_size : 2.0\n",
      "1.0\n",
      "0.3333333333333333\n",
      "\n",
      "\n",
      "71760\n",
      "label_size : 2 prediction_size : 2.0\n",
      "1.0\n",
      "1.0\n",
      "\n",
      "\n",
      "29882\n",
      "label_size : 3 prediction_size : 3.0\n",
      "1.0\n",
      "1.0\n",
      "\n",
      "\n",
      "2487\n",
      "label_size : 12 prediction_size : 25.0\n",
      "0.48\n",
      "1.0\n",
      "\n",
      "\n",
      "45553\n",
      "label_size : 2 prediction_size : 4.0\n",
      "0.25\n",
      "0.5\n",
      "\n",
      "\n",
      "41970\n",
      "label_size : 2 prediction_size : 18.0\n",
      "0.1111111111111111\n",
      "1.0\n",
      "\n",
      "\n",
      "37904\n",
      "label_size : 4 prediction_size : 3.0\n",
      "1.0\n",
      "0.75\n",
      "\n",
      "\n",
      "23021\n",
      "label_size : 5 prediction_size : 4.0\n",
      "1.0\n",
      "0.8\n",
      "\n",
      "\n",
      "16687\n",
      "label_size : 5 prediction_size : 5.0\n",
      "1.0\n",
      "1.0\n",
      "\n",
      "\n",
      "20559\n",
      "label_size : 3 prediction_size : 77.0\n",
      "0.03896103896103896\n",
      "1.0\n",
      "\n",
      "\n",
      "71620\n",
      "label_size : 2 prediction_size : 4.0\n",
      "0.0\n",
      "0.0\n",
      "\n",
      "\n",
      "35756\n",
      "label_size : 3 prediction_size : 7.0\n",
      "0.42857142857142855\n",
      "1.0\n",
      "\n",
      "\n",
      "65107\n",
      "label_size : 2 prediction_size : 0.0\n",
      "0.0\n",
      "0.0\n",
      "\n",
      "\n",
      "62058\n",
      "label_size : 2 prediction_size : 0.0\n",
      "0.0\n",
      "0.0\n",
      "\n",
      "\n",
      "68572\n",
      "label_size : 2 prediction_size : 5.0\n",
      "0.2\n",
      "0.5\n",
      "\n",
      "\n",
      "30575\n",
      "label_size : 5 prediction_size : 19.0\n",
      "0.2631578947368421\n",
      "1.0\n",
      "\n",
      "\n",
      "28196\n",
      "label_size : 5 prediction_size : 1.0\n",
      "1.0\n",
      "0.2\n",
      "\n",
      "\n",
      "44633\n",
      "label_size : 2 prediction_size : 2.0\n",
      "1.0\n",
      "1.0\n",
      "\n",
      "\n",
      "51809\n",
      "label_size : 3 prediction_size : 3.0\n",
      "1.0\n",
      "1.0\n",
      "\n",
      "\n",
      "62029\n",
      "label_size : 2 prediction_size : 0.0\n",
      "0.0\n",
      "0.0\n",
      "\n",
      "\n",
      "16289\n",
      "label_size : 4 prediction_size : 4.0\n",
      "1.0\n",
      "1.0\n",
      "\n",
      "\n",
      "53259\n",
      "label_size : 3 prediction_size : 7.0\n",
      "0.42857142857142855\n",
      "1.0\n",
      "\n",
      "\n",
      "33764\n",
      "label_size : 2 prediction_size : 2.0\n",
      "1.0\n",
      "1.0\n",
      "\n",
      "\n",
      "50154\n",
      "label_size : 3 prediction_size : 3.0\n",
      "1.0\n",
      "1.0\n",
      "\n",
      "\n",
      "9641\n",
      "label_size : 7 prediction_size : 7.0\n",
      "1.0\n",
      "1.0\n",
      "\n",
      "\n",
      "14665\n",
      "label_size : 5 prediction_size : 5.0\n",
      "1.0\n",
      "1.0\n",
      "\n",
      "\n",
      "63916\n",
      "label_size : 2 prediction_size : 0.0\n",
      "0.0\n",
      "0.0\n",
      "\n",
      "\n",
      "47939\n",
      "label_size : 3 prediction_size : 1.0\n",
      "1.0\n",
      "0.3333333333333333\n",
      "\n",
      "\n",
      "43573\n",
      "label_size : 3 prediction_size : 2.0\n",
      "1.0\n",
      "0.6666666666666666\n",
      "\n",
      "\n"
     ]
    }
   ],
   "source": [
    "precision_100 = []\n",
    "recall_100 = []\n",
    "\n",
    "for ind, predicted in prediction_dict.items(): \n",
    "    print(ind)\n",
    "    print('label_size : {}'.format(np.sum(test_label[ind])), \n",
    "          'prediction_size : {}'.format(np.sum(predicted)) )\n",
    "    \n",
    "    # calculate precision / recall\n",
    "    precision_ = metrics.precision_score( test_label[ind] , predicted )\n",
    "    recall_ = metrics.recall_score( test_label[ind] , predicted )\n",
    "    \n",
    "    # print\n",
    "    print( precision_ )\n",
    "    print( recall_ )\n",
    "    print('\\n')\n",
    "    \n",
    "    # append precision / recall\n",
    "    precision_100.append( precision_ )\n",
    "    recall_100.append( recall_ )\n",
    "    "
   ]
  },
  {
   "cell_type": "code",
   "execution_count": 38,
   "metadata": {},
   "outputs": [
    {
     "name": "stdout",
     "output_type": "stream",
     "text": [
      "100 100\n"
     ]
    }
   ],
   "source": [
    "print(len(precision_100), len(recall_100) )"
   ]
  },
  {
   "cell_type": "code",
   "execution_count": 39,
   "metadata": {},
   "outputs": [
    {
     "data": {
      "text/plain": [
       "0.6250409527315884"
      ]
     },
     "execution_count": 39,
     "metadata": {},
     "output_type": "execute_result"
    }
   ],
   "source": [
    "np.mean(precision_100)"
   ]
  },
  {
   "cell_type": "code",
   "execution_count": 40,
   "metadata": {},
   "outputs": [
    {
     "data": {
      "text/plain": [
       "0.7175813492063492"
      ]
     },
     "execution_count": 40,
     "metadata": {},
     "output_type": "execute_result"
    }
   ],
   "source": [
    "np.mean(recall_100)"
   ]
  },
  {
   "cell_type": "markdown",
   "metadata": {},
   "source": [
    "---\n",
    "---"
   ]
  },
  {
   "cell_type": "markdown",
   "metadata": {},
   "source": [
    "# # bagging_poly3 결과"
   ]
  },
  {
   "cell_type": "markdown",
   "metadata": {},
   "source": [
    "- prediction 만들기"
   ]
  },
  {
   "cell_type": "code",
   "execution_count": null,
   "metadata": {},
   "outputs": [],
   "source": [
    "%%time\n",
    "prediction_poly3_dict = {}\n",
    "\n",
    "for key_ in list(test_label.keys())[:100]:\n",
    "    prediction_poly3_dict[key_] = bagging_poly3.predict(test_pair_array[key_])"
   ]
  },
  {
   "cell_type": "code",
   "execution_count": 44,
   "metadata": {
    "scrolled": true
   },
   "outputs": [
    {
     "data": {
      "text/plain": [
       "100"
      ]
     },
     "execution_count": 44,
     "metadata": {},
     "output_type": "execute_result"
    }
   ],
   "source": [
    "len(prediction_poly3_dict)"
   ]
  },
  {
   "cell_type": "markdown",
   "metadata": {},
   "source": [
    "### 테스트 결과 (test_index[:100])"
   ]
  },
  {
   "cell_type": "code",
   "execution_count": 45,
   "metadata": {},
   "outputs": [
    {
     "name": "stdout",
     "output_type": "stream",
     "text": [
      "40648\n",
      "label_size : 4 prediction_size : 73680.0\n",
      "5.428881650380022e-05\n",
      "1.0\n",
      "\n",
      "\n",
      "66052\n",
      "label_size : 2 prediction_size : 73680.0\n",
      "2.714440825190011e-05\n",
      "1.0\n",
      "\n",
      "\n",
      "37783\n",
      "label_size : 3 prediction_size : 73680.0\n",
      "4.0716612377850165e-05\n",
      "1.0\n",
      "\n",
      "\n",
      "59761\n",
      "label_size : 2 prediction_size : 73680.0\n",
      "2.714440825190011e-05\n",
      "1.0\n",
      "\n",
      "\n",
      "16639\n",
      "label_size : 4 prediction_size : 73680.0\n",
      "5.428881650380022e-05\n",
      "1.0\n",
      "\n",
      "\n",
      "17958\n",
      "label_size : 5 prediction_size : 73680.0\n",
      "6.786102062975027e-05\n",
      "1.0\n",
      "\n",
      "\n",
      "10918\n",
      "label_size : 5 prediction_size : 73680.0\n",
      "6.786102062975027e-05\n",
      "1.0\n",
      "\n",
      "\n",
      "26542\n",
      "label_size : 4 prediction_size : 73680.0\n",
      "5.428881650380022e-05\n",
      "1.0\n",
      "\n",
      "\n",
      "71651\n",
      "label_size : 2 prediction_size : 73680.0\n",
      "2.714440825190011e-05\n",
      "1.0\n",
      "\n",
      "\n",
      "45696\n",
      "label_size : 3 prediction_size : 73680.0\n",
      "4.0716612377850165e-05\n",
      "1.0\n",
      "\n",
      "\n",
      "4253\n",
      "label_size : 8 prediction_size : 73680.0\n",
      "0.00010857763300760044\n",
      "1.0\n",
      "\n",
      "\n",
      "63461\n",
      "label_size : 2 prediction_size : 73680.0\n",
      "2.714440825190011e-05\n",
      "1.0\n",
      "\n",
      "\n",
      "572\n",
      "label_size : 14 prediction_size : 73680.0\n",
      "0.00019001085776330077\n",
      "1.0\n",
      "\n",
      "\n",
      "66460\n",
      "label_size : 2 prediction_size : 73680.0\n",
      "2.714440825190011e-05\n",
      "1.0\n",
      "\n",
      "\n",
      "70828\n",
      "label_size : 2 prediction_size : 73680.0\n",
      "2.714440825190011e-05\n",
      "1.0\n",
      "\n",
      "\n",
      "34741\n",
      "label_size : 4 prediction_size : 73680.0\n",
      "5.428881650380022e-05\n",
      "1.0\n",
      "\n",
      "\n",
      "14588\n",
      "label_size : 7 prediction_size : 73680.0\n",
      "9.500542888165038e-05\n",
      "1.0\n",
      "\n",
      "\n",
      "8647\n",
      "label_size : 4 prediction_size : 73680.0\n",
      "5.428881650380022e-05\n",
      "1.0\n",
      "\n",
      "\n",
      "51675\n",
      "label_size : 3 prediction_size : 73680.0\n",
      "4.0716612377850165e-05\n",
      "1.0\n",
      "\n",
      "\n",
      "44240\n",
      "label_size : 3 prediction_size : 73680.0\n",
      "4.0716612377850165e-05\n",
      "1.0\n",
      "\n",
      "\n",
      "15772\n",
      "label_size : 4 prediction_size : 73680.0\n",
      "5.428881650380022e-05\n",
      "1.0\n",
      "\n",
      "\n",
      "37766\n",
      "label_size : 4 prediction_size : 73680.0\n",
      "5.428881650380022e-05\n",
      "1.0\n",
      "\n",
      "\n",
      "39183\n",
      "label_size : 2 prediction_size : 73680.0\n",
      "2.714440825190011e-05\n",
      "1.0\n",
      "\n",
      "\n",
      "67190\n",
      "label_size : 2 prediction_size : 73671.0\n",
      "2.7147724342007032e-05\n",
      "1.0\n",
      "\n",
      "\n",
      "53857\n",
      "label_size : 3 prediction_size : 73680.0\n",
      "4.0716612377850165e-05\n",
      "1.0\n",
      "\n",
      "\n",
      "62549\n",
      "label_size : 2 prediction_size : 73680.0\n",
      "2.714440825190011e-05\n",
      "1.0\n",
      "\n",
      "\n",
      "4438\n",
      "label_size : 11 prediction_size : 73680.0\n",
      "0.0001492942453854506\n",
      "1.0\n",
      "\n",
      "\n",
      "71984\n",
      "label_size : 2 prediction_size : 73680.0\n",
      "2.714440825190011e-05\n",
      "1.0\n",
      "\n",
      "\n",
      "18607\n",
      "label_size : 5 prediction_size : 73680.0\n",
      "6.786102062975027e-05\n",
      "1.0\n",
      "\n",
      "\n",
      "29566\n",
      "label_size : 3 prediction_size : 73677.0\n",
      "4.071827028787817e-05\n",
      "1.0\n",
      "\n",
      "\n",
      "42329\n",
      "label_size : 2 prediction_size : 73680.0\n",
      "2.714440825190011e-05\n",
      "1.0\n",
      "\n",
      "\n",
      "41649\n",
      "label_size : 3 prediction_size : 73671.0\n",
      "4.072158651301055e-05\n",
      "1.0\n",
      "\n",
      "\n",
      "57323\n",
      "label_size : 2 prediction_size : 73680.0\n",
      "2.714440825190011e-05\n",
      "1.0\n",
      "\n",
      "\n",
      "35622\n",
      "label_size : 4 prediction_size : 73680.0\n",
      "5.428881650380022e-05\n",
      "1.0\n",
      "\n",
      "\n",
      "19669\n",
      "label_size : 4 prediction_size : 73680.0\n",
      "5.428881650380022e-05\n",
      "1.0\n",
      "\n",
      "\n",
      "54420\n",
      "label_size : 3 prediction_size : 73680.0\n",
      "4.0716612377850165e-05\n",
      "1.0\n",
      "\n",
      "\n",
      "65907\n",
      "label_size : 2 prediction_size : 73680.0\n",
      "2.714440825190011e-05\n",
      "1.0\n",
      "\n",
      "\n",
      "6304\n",
      "label_size : 5 prediction_size : 73680.0\n",
      "6.786102062975027e-05\n",
      "1.0\n",
      "\n",
      "\n",
      "46173\n",
      "label_size : 3 prediction_size : 73680.0\n",
      "4.0716612377850165e-05\n",
      "1.0\n",
      "\n",
      "\n",
      "32207\n",
      "label_size : 2 prediction_size : 73680.0\n",
      "2.714440825190011e-05\n",
      "1.0\n",
      "\n",
      "\n",
      "68498\n",
      "label_size : 2 prediction_size : 73680.0\n",
      "2.714440825190011e-05\n",
      "1.0\n",
      "\n",
      "\n",
      "24879\n",
      "label_size : 5 prediction_size : 73680.0\n",
      "6.786102062975027e-05\n",
      "1.0\n",
      "\n",
      "\n",
      "26550\n",
      "label_size : 4 prediction_size : 73680.0\n",
      "5.428881650380022e-05\n",
      "1.0\n",
      "\n",
      "\n",
      "6336\n",
      "label_size : 7 prediction_size : 73680.0\n",
      "9.500542888165038e-05\n",
      "1.0\n",
      "\n",
      "\n",
      "673\n",
      "label_size : 16 prediction_size : 73680.0\n",
      "0.00021715526601520088\n",
      "1.0\n",
      "\n",
      "\n",
      "11706\n",
      "label_size : 8 prediction_size : 73680.0\n",
      "0.00010857763300760044\n",
      "1.0\n",
      "\n",
      "\n",
      "6168\n",
      "label_size : 7 prediction_size : 73680.0\n",
      "9.500542888165038e-05\n",
      "1.0\n",
      "\n",
      "\n",
      "63675\n",
      "label_size : 2 prediction_size : 73680.0\n",
      "2.714440825190011e-05\n",
      "1.0\n",
      "\n",
      "\n",
      "45015\n",
      "label_size : 3 prediction_size : 73680.0\n",
      "4.0716612377850165e-05\n",
      "1.0\n",
      "\n",
      "\n",
      "60\n",
      "label_size : 16 prediction_size : 73680.0\n",
      "0.00021715526601520088\n",
      "1.0\n",
      "\n",
      "\n",
      "31880\n",
      "label_size : 3 prediction_size : 73680.0\n",
      "4.0716612377850165e-05\n",
      "1.0\n",
      "\n",
      "\n",
      "9461\n",
      "label_size : 8 prediction_size : 73680.0\n",
      "0.00010857763300760044\n",
      "1.0\n",
      "\n",
      "\n",
      "54931\n",
      "label_size : 3 prediction_size : 73680.0\n",
      "4.0716612377850165e-05\n",
      "1.0\n",
      "\n",
      "\n",
      "11074\n",
      "label_size : 7 prediction_size : 73677.0\n",
      "9.50092973383824e-05\n",
      "1.0\n",
      "\n",
      "\n",
      "25928\n",
      "label_size : 5 prediction_size : 73680.0\n",
      "6.786102062975027e-05\n",
      "1.0\n",
      "\n",
      "\n",
      "52850\n",
      "label_size : 2 prediction_size : 73680.0\n",
      "2.714440825190011e-05\n",
      "1.0\n",
      "\n",
      "\n",
      "38244\n",
      "label_size : 3 prediction_size : 73680.0\n",
      "4.0716612377850165e-05\n",
      "1.0\n",
      "\n",
      "\n",
      "14092\n",
      "label_size : 6 prediction_size : 73680.0\n",
      "8.143322475570033e-05\n",
      "1.0\n",
      "\n",
      "\n",
      "29533\n",
      "label_size : 4 prediction_size : 73680.0\n",
      "5.428881650380022e-05\n",
      "1.0\n",
      "\n",
      "\n",
      "72633\n",
      "label_size : 2 prediction_size : 73680.0\n",
      "2.714440825190011e-05\n",
      "1.0\n",
      "\n",
      "\n",
      "19729\n",
      "label_size : 4 prediction_size : 73680.0\n",
      "5.428881650380022e-05\n",
      "1.0\n",
      "\n",
      "\n",
      "63959\n",
      "label_size : 2 prediction_size : 73680.0\n",
      "2.714440825190011e-05\n",
      "1.0\n",
      "\n",
      "\n",
      "65697\n",
      "label_size : 2 prediction_size : 73680.0\n",
      "2.714440825190011e-05\n",
      "1.0\n",
      "\n",
      "\n",
      "63092\n",
      "label_size : 2 prediction_size : 73680.0\n",
      "2.714440825190011e-05\n",
      "1.0\n",
      "\n",
      "\n",
      "12067\n",
      "label_size : 7 prediction_size : 73680.0\n",
      "9.500542888165038e-05\n",
      "1.0\n",
      "\n",
      "\n",
      "9712\n",
      "label_size : 6 prediction_size : 73680.0\n",
      "8.143322475570033e-05\n",
      "1.0\n",
      "\n",
      "\n",
      "35832\n",
      "label_size : 3 prediction_size : 73680.0\n",
      "4.0716612377850165e-05\n",
      "1.0\n",
      "\n",
      "\n",
      "50058\n",
      "label_size : 3 prediction_size : 73680.0\n",
      "4.0716612377850165e-05\n",
      "1.0\n",
      "\n",
      "\n",
      "8878\n",
      "label_size : 9 prediction_size : 73680.0\n",
      "0.0001221498371335505\n",
      "1.0\n",
      "\n",
      "\n",
      "10198\n",
      "label_size : 8 prediction_size : 73680.0\n",
      "0.00010857763300760044\n",
      "1.0\n",
      "\n",
      "\n",
      "7132\n",
      "label_size : 9 prediction_size : 73680.0\n",
      "0.0001221498371335505\n",
      "1.0\n",
      "\n",
      "\n",
      "19158\n",
      "label_size : 6 prediction_size : 73680.0\n",
      "8.143322475570033e-05\n",
      "1.0\n",
      "\n",
      "\n",
      "71760\n",
      "label_size : 2 prediction_size : 73680.0\n",
      "2.714440825190011e-05\n",
      "1.0\n",
      "\n",
      "\n",
      "29882\n",
      "label_size : 3 prediction_size : 73680.0\n",
      "4.0716612377850165e-05\n",
      "1.0\n",
      "\n",
      "\n",
      "2487\n",
      "label_size : 12 prediction_size : 73680.0\n",
      "0.00016286644951140066\n",
      "1.0\n",
      "\n",
      "\n",
      "45553\n",
      "label_size : 2 prediction_size : 73680.0\n",
      "2.714440825190011e-05\n",
      "1.0\n",
      "\n",
      "\n",
      "41970\n",
      "label_size : 2 prediction_size : 73680.0\n",
      "2.714440825190011e-05\n",
      "1.0\n",
      "\n",
      "\n",
      "37904\n",
      "label_size : 4 prediction_size : 73680.0\n",
      "5.428881650380022e-05\n",
      "1.0\n",
      "\n",
      "\n",
      "23021\n",
      "label_size : 5 prediction_size : 73680.0\n",
      "6.786102062975027e-05\n",
      "1.0\n",
      "\n",
      "\n",
      "16687\n",
      "label_size : 5 prediction_size : 73680.0\n",
      "6.786102062975027e-05\n",
      "1.0\n",
      "\n",
      "\n",
      "20559\n",
      "label_size : 3 prediction_size : 73680.0\n",
      "4.0716612377850165e-05\n",
      "1.0\n",
      "\n",
      "\n",
      "71620\n",
      "label_size : 2 prediction_size : 73680.0\n",
      "2.714440825190011e-05\n",
      "1.0\n",
      "\n",
      "\n",
      "35756\n",
      "label_size : 3 prediction_size : 73680.0\n",
      "4.0716612377850165e-05\n",
      "1.0\n",
      "\n",
      "\n",
      "65107\n",
      "label_size : 2 prediction_size : 73680.0\n",
      "2.714440825190011e-05\n",
      "1.0\n",
      "\n",
      "\n",
      "62058\n",
      "label_size : 2 prediction_size : 73680.0\n",
      "2.714440825190011e-05\n",
      "1.0\n",
      "\n",
      "\n",
      "68572\n",
      "label_size : 2 prediction_size : 73680.0\n",
      "2.714440825190011e-05\n",
      "1.0\n",
      "\n",
      "\n",
      "30575\n",
      "label_size : 5 prediction_size : 73680.0\n",
      "6.786102062975027e-05\n",
      "1.0\n",
      "\n",
      "\n",
      "28196\n",
      "label_size : 5 prediction_size : 73680.0\n",
      "6.786102062975027e-05\n",
      "1.0\n",
      "\n",
      "\n",
      "44633\n",
      "label_size : 2 prediction_size : 73680.0\n",
      "2.714440825190011e-05\n",
      "1.0\n",
      "\n",
      "\n",
      "51809\n",
      "label_size : 3 prediction_size : 73680.0\n",
      "4.0716612377850165e-05\n",
      "1.0\n",
      "\n",
      "\n",
      "62029\n",
      "label_size : 2 prediction_size : 73680.0\n",
      "2.714440825190011e-05\n",
      "1.0\n",
      "\n",
      "\n",
      "16289\n",
      "label_size : 4 prediction_size : 73674.0\n",
      "5.429323777723484e-05\n",
      "1.0\n",
      "\n",
      "\n",
      "53259\n",
      "label_size : 3 prediction_size : 73680.0\n",
      "4.0716612377850165e-05\n",
      "1.0\n",
      "\n",
      "\n",
      "33764\n",
      "label_size : 2 prediction_size : 73680.0\n",
      "2.714440825190011e-05\n",
      "1.0\n",
      "\n",
      "\n",
      "50154\n",
      "label_size : 3 prediction_size : 73677.0\n",
      "4.071827028787817e-05\n",
      "1.0\n",
      "\n",
      "\n",
      "9641\n",
      "label_size : 7 prediction_size : 73680.0\n",
      "9.500542888165038e-05\n",
      "1.0\n",
      "\n",
      "\n",
      "14665\n",
      "label_size : 5 prediction_size : 73680.0\n",
      "6.786102062975027e-05\n",
      "1.0\n",
      "\n",
      "\n",
      "63916\n",
      "label_size : 2 prediction_size : 73680.0\n",
      "2.714440825190011e-05\n",
      "1.0\n",
      "\n",
      "\n",
      "47939\n",
      "label_size : 3 prediction_size : 73680.0\n",
      "4.0716612377850165e-05\n",
      "1.0\n",
      "\n",
      "\n",
      "43573\n",
      "label_size : 3 prediction_size : 73680.0\n",
      "4.0716612377850165e-05\n",
      "1.0\n",
      "\n",
      "\n"
     ]
    }
   ],
   "source": [
    "precision_100 = []\n",
    "recall_100 = []\n",
    "\n",
    "for ind, predicted in prediction_poly3_dict.items(): \n",
    "    print(ind)\n",
    "    print('label_size : {}'.format(np.sum(test_label[ind])), \n",
    "          'prediction_size : {}'.format(np.sum(predicted)) )\n",
    "    \n",
    "    # calculate precision / recall\n",
    "    precision_ = metrics.precision_score( test_label[ind] , predicted )\n",
    "    recall_ = metrics.recall_score( test_label[ind] , predicted )\n",
    "    \n",
    "    # print\n",
    "    print( precision_ )\n",
    "    print( recall_ )\n",
    "    print('\\n')\n",
    "    \n",
    "    # append precision / recall\n",
    "    precision_100.append( precision_ )\n",
    "    recall_100.append( recall_ )\n",
    "    "
   ]
  },
  {
   "cell_type": "code",
   "execution_count": 46,
   "metadata": {},
   "outputs": [
    {
     "name": "stdout",
     "output_type": "stream",
     "text": [
      "100 100\n"
     ]
    }
   ],
   "source": [
    "print(len(precision_100), len(recall_100) )"
   ]
  },
  {
   "cell_type": "code",
   "execution_count": 47,
   "metadata": {},
   "outputs": [
    {
     "data": {
      "text/plain": [
       "5.7410622410523634e-05"
      ]
     },
     "execution_count": 47,
     "metadata": {},
     "output_type": "execute_result"
    }
   ],
   "source": [
    "np.mean(precision_100)"
   ]
  },
  {
   "cell_type": "code",
   "execution_count": 48,
   "metadata": {},
   "outputs": [
    {
     "data": {
      "text/plain": [
       "1.0"
      ]
     },
     "execution_count": 48,
     "metadata": {},
     "output_type": "execute_result"
    }
   ],
   "source": [
    "np.mean(recall_100)"
   ]
  },
  {
   "cell_type": "code",
   "execution_count": null,
   "metadata": {},
   "outputs": [],
   "source": []
  },
  {
   "cell_type": "code",
   "execution_count": null,
   "metadata": {},
   "outputs": [],
   "source": []
  },
  {
   "cell_type": "code",
   "execution_count": null,
   "metadata": {},
   "outputs": [],
   "source": []
  }
 ],
 "metadata": {
  "kernelspec": {
   "display_name": "Python 3",
   "language": "python",
   "name": "python3"
  },
  "language_info": {
   "codemirror_mode": {
    "name": "ipython",
    "version": 3
   },
   "file_extension": ".py",
   "mimetype": "text/x-python",
   "name": "python",
   "nbconvert_exporter": "python",
   "pygments_lexer": "ipython3",
   "version": "3.6.5"
  }
 },
 "nbformat": 4,
 "nbformat_minor": 4
}
