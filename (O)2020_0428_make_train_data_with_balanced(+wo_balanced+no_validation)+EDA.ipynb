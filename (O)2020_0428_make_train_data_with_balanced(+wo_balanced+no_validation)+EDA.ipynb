{
 "cells": [
  {
   "cell_type": "markdown",
   "metadata": {},
   "source": [
    "# # readme"
   ]
  },
  {
   "cell_type": "markdown",
   "metadata": {},
   "source": [
    "- metric learning을 위한 훈련데이터 생성\n",
    "    - 기준 데이터 : 가공식품 이미지의 feature extraction 데이터(unit단위인 normalized vector)\n",
    "        - 일정 distance 기준에 의한 positive/negative set 생성 (balanced/imbalanced)\n",
    "        - cf. negative 기준 : 0.35 기준에 들고, positive 개수와 맞춰진 negative sample(가까운순)"
   ]
  },
  {
   "cell_type": "code",
   "execution_count": 1,
   "metadata": {},
   "outputs": [],
   "source": [
    "import pandas as pd\n",
    "import numpy as np\n",
    "import matplotlib.pyplot as plt\n",
    "\n",
    "from sklearn import svm\n",
    "from sklearn.model_selection import train_test_split\n",
    "\n",
    "import glob\n",
    "import os\n",
    "import multiprocessing"
   ]
  },
  {
   "cell_type": "code",
   "execution_count": 2,
   "metadata": {},
   "outputs": [],
   "source": [
    "import pickle\n",
    "import time\n",
    "import random"
   ]
  },
  {
   "cell_type": "markdown",
   "metadata": {},
   "source": [
    "---"
   ]
  },
  {
   "cell_type": "code",
   "execution_count": 3,
   "metadata": {},
   "outputs": [],
   "source": [
    "def chunkIt(seq, num):\n",
    "    if len(seq) % int(num) == 0:\n",
    "        avg = int(len(seq) / int(num))\n",
    "    else:\n",
    "        avg = int(len(seq) / int(num)) + 1 # 이렇게 해야하네!\n",
    "    out = []\n",
    "    last = 0.0\n",
    "\n",
    "    while last < len(seq):\n",
    "        out.append(seq[int(last):int(last + avg)])\n",
    "        last += avg\n",
    "\n",
    "    return out       "
   ]
  },
  {
   "cell_type": "markdown",
   "metadata": {},
   "source": [
    "---"
   ]
  },
  {
   "cell_type": "markdown",
   "metadata": {},
   "source": [
    "# data load"
   ]
  },
  {
   "cell_type": "code",
   "execution_count": 4,
   "metadata": {},
   "outputs": [],
   "source": [
    "data = pd.read_csv('new_feat_df.csv')"
   ]
  },
  {
   "cell_type": "code",
   "execution_count": 5,
   "metadata": {},
   "outputs": [
    {
     "data": {
      "text/plain": [
       "(305999, 266)"
      ]
     },
     "execution_count": 5,
     "metadata": {},
     "output_type": "execute_result"
    }
   ],
   "source": [
    "data.shape"
   ]
  },
  {
   "cell_type": "code",
   "execution_count": 6,
   "metadata": {},
   "outputs": [
    {
     "data": {
      "text/html": [
       "<div>\n",
       "<style scoped>\n",
       "    .dataframe tbody tr th:only-of-type {\n",
       "        vertical-align: middle;\n",
       "    }\n",
       "\n",
       "    .dataframe tbody tr th {\n",
       "        vertical-align: top;\n",
       "    }\n",
       "\n",
       "    .dataframe thead th {\n",
       "        text-align: right;\n",
       "    }\n",
       "</style>\n",
       "<table border=\"1\" class=\"dataframe\">\n",
       "  <thead>\n",
       "    <tr style=\"text-align: right;\">\n",
       "      <th></th>\n",
       "      <th>prod_id</th>\n",
       "      <th>title</th>\n",
       "      <th>cleaned_title</th>\n",
       "      <th>model_id</th>\n",
       "      <th>weight</th>\n",
       "      <th>group_no</th>\n",
       "      <th>group_cnt</th>\n",
       "      <th>0</th>\n",
       "      <th>1</th>\n",
       "      <th>2</th>\n",
       "      <th>...</th>\n",
       "      <th>249</th>\n",
       "      <th>250</th>\n",
       "      <th>251</th>\n",
       "      <th>252</th>\n",
       "      <th>253</th>\n",
       "      <th>254</th>\n",
       "      <th>255</th>\n",
       "      <th>top3_word</th>\n",
       "      <th>top2_word</th>\n",
       "      <th>word_cnt</th>\n",
       "    </tr>\n",
       "  </thead>\n",
       "  <tbody>\n",
       "    <tr>\n",
       "      <th>0</th>\n",
       "      <td>107751656</td>\n",
       "      <td>산고추 고추절임 업소용식자재 (500gX10개) 한푸드</td>\n",
       "      <td>산고추 고추절임 업소용식자재 한푸드</td>\n",
       "      <td>NaN</td>\n",
       "      <td>500G</td>\n",
       "      <td>124012401</td>\n",
       "      <td>38</td>\n",
       "      <td>0.095858</td>\n",
       "      <td>0.027997</td>\n",
       "      <td>0.027619</td>\n",
       "      <td>...</td>\n",
       "      <td>0.062841</td>\n",
       "      <td>0.019664</td>\n",
       "      <td>0.095381</td>\n",
       "      <td>0.000538</td>\n",
       "      <td>0.01662</td>\n",
       "      <td>0.030399</td>\n",
       "      <td>0.011093</td>\n",
       "      <td>한푸드 고추절임 산고추</td>\n",
       "      <td>한푸드 고추절임</td>\n",
       "      <td>4</td>\n",
       "    </tr>\n",
       "    <tr>\n",
       "      <th>1</th>\n",
       "      <td>107751669</td>\n",
       "      <td>산고추 고추절임 업소용식자재 (500gX20개) 한푸드</td>\n",
       "      <td>산고추 고추절임 업소용식자재 한푸드</td>\n",
       "      <td>NaN</td>\n",
       "      <td>500G</td>\n",
       "      <td>124012401</td>\n",
       "      <td>38</td>\n",
       "      <td>0.095858</td>\n",
       "      <td>0.027998</td>\n",
       "      <td>0.027619</td>\n",
       "      <td>...</td>\n",
       "      <td>0.062841</td>\n",
       "      <td>0.019664</td>\n",
       "      <td>0.095381</td>\n",
       "      <td>0.000538</td>\n",
       "      <td>0.01662</td>\n",
       "      <td>0.030399</td>\n",
       "      <td>0.011093</td>\n",
       "      <td>한푸드 고추절임 산고추</td>\n",
       "      <td>한푸드 고추절임</td>\n",
       "      <td>4</td>\n",
       "    </tr>\n",
       "    <tr>\n",
       "      <th>2</th>\n",
       "      <td>108218728</td>\n",
       "      <td>한푸드 업소용 식자재 고추절임 산고추 500g 10EA</td>\n",
       "      <td>한푸드 업소용 식자재 고추절임 산고추</td>\n",
       "      <td>NaN</td>\n",
       "      <td>500G</td>\n",
       "      <td>124012401</td>\n",
       "      <td>38</td>\n",
       "      <td>0.095858</td>\n",
       "      <td>0.027997</td>\n",
       "      <td>0.027619</td>\n",
       "      <td>...</td>\n",
       "      <td>0.062841</td>\n",
       "      <td>0.019664</td>\n",
       "      <td>0.095381</td>\n",
       "      <td>0.000538</td>\n",
       "      <td>0.01662</td>\n",
       "      <td>0.030399</td>\n",
       "      <td>0.011093</td>\n",
       "      <td>한푸드 고추절임 산고추</td>\n",
       "      <td>한푸드 고추절임</td>\n",
       "      <td>5</td>\n",
       "    </tr>\n",
       "  </tbody>\n",
       "</table>\n",
       "<p>3 rows × 266 columns</p>\n",
       "</div>"
      ],
      "text/plain": [
       "     prod_id                           title         cleaned_title model_id  \\\n",
       "0  107751656  산고추 고추절임 업소용식자재 (500gX10개) 한푸드   산고추 고추절임 업소용식자재 한푸드      NaN   \n",
       "1  107751669  산고추 고추절임 업소용식자재 (500gX20개) 한푸드   산고추 고추절임 업소용식자재 한푸드      NaN   \n",
       "2  108218728  한푸드 업소용 식자재 고추절임 산고추 500g 10EA  한푸드 업소용 식자재 고추절임 산고추      NaN   \n",
       "\n",
       "  weight   group_no  group_cnt         0         1         2  ...       249  \\\n",
       "0   500G  124012401         38  0.095858  0.027997  0.027619  ...  0.062841   \n",
       "1   500G  124012401         38  0.095858  0.027998  0.027619  ...  0.062841   \n",
       "2   500G  124012401         38  0.095858  0.027997  0.027619  ...  0.062841   \n",
       "\n",
       "        250       251       252      253       254       255     top3_word  \\\n",
       "0  0.019664  0.095381  0.000538  0.01662  0.030399  0.011093  한푸드 고추절임 산고추   \n",
       "1  0.019664  0.095381  0.000538  0.01662  0.030399  0.011093  한푸드 고추절임 산고추   \n",
       "2  0.019664  0.095381  0.000538  0.01662  0.030399  0.011093  한푸드 고추절임 산고추   \n",
       "\n",
       "   top2_word  word_cnt  \n",
       "0   한푸드 고추절임         4  \n",
       "1   한푸드 고추절임         4  \n",
       "2   한푸드 고추절임         5  \n",
       "\n",
       "[3 rows x 266 columns]"
      ]
     },
     "execution_count": 6,
     "metadata": {},
     "output_type": "execute_result"
    }
   ],
   "source": [
    "data.head(3)"
   ]
  },
  {
   "cell_type": "markdown",
   "metadata": {},
   "source": [
    "---"
   ]
  },
  {
   "cell_type": "code",
   "execution_count": 7,
   "metadata": {},
   "outputs": [],
   "source": [
    "group_no_df = data.groupby('group_no').size().reset_index()"
   ]
  },
  {
   "cell_type": "code",
   "execution_count": 8,
   "metadata": {},
   "outputs": [],
   "source": [
    "group_no_df.columns = ['group_no', 'size_']"
   ]
  },
  {
   "cell_type": "code",
   "execution_count": 9,
   "metadata": {},
   "outputs": [
    {
     "data": {
      "text/plain": [
       "0         2\n",
       "1         2\n",
       "2         2\n",
       "3         3\n",
       "4         5\n",
       "         ..\n",
       "222426    1\n",
       "222427    1\n",
       "222428    1\n",
       "222429    2\n",
       "222430    1\n",
       "Name: size_, Length: 222431, dtype: int64"
      ]
     },
     "execution_count": 9,
     "metadata": {},
     "output_type": "execute_result"
    }
   ],
   "source": [
    "group_no_df.size_"
   ]
  },
  {
   "cell_type": "markdown",
   "metadata": {},
   "source": [
    "---"
   ]
  },
  {
   "cell_type": "markdown",
   "metadata": {},
   "source": [
    "# filtering data\n",
    "- 최근 기준 : 그룹 크기 2이상"
   ]
  },
  {
   "cell_type": "code",
   "execution_count": 10,
   "metadata": {},
   "outputs": [
    {
     "data": {
      "text/plain": [
       "[100000254, 100003111, 100003607, 100003821, 100033511]"
      ]
     },
     "execution_count": 10,
     "metadata": {},
     "output_type": "execute_result"
    }
   ],
   "source": [
    "group_no_df[group_no_df.size_ > 4].group_no.tolist()[:5]"
   ]
  },
  {
   "cell_type": "code",
   "execution_count": 11,
   "metadata": {},
   "outputs": [],
   "source": [
    "filtering_grp = group_no_df[group_no_df.size_ > 2].group_no.tolist()"
   ]
  },
  {
   "cell_type": "code",
   "execution_count": 12,
   "metadata": {},
   "outputs": [],
   "source": [
    "data_filter = data[data.group_no.isin( filtering_grp )]"
   ]
  },
  {
   "cell_type": "code",
   "execution_count": 13,
   "metadata": {},
   "outputs": [
    {
     "data": {
      "text/plain": [
       "(73681, 266)"
      ]
     },
     "execution_count": 13,
     "metadata": {},
     "output_type": "execute_result"
    }
   ],
   "source": [
    "data_filter.shape"
   ]
  },
  {
   "cell_type": "code",
   "execution_count": 14,
   "metadata": {},
   "outputs": [
    {
     "data": {
      "text/plain": [
       "0.24078836858943983"
      ]
     },
     "execution_count": 14,
     "metadata": {},
     "output_type": "execute_result"
    }
   ],
   "source": [
    "data_filter.shape[0]/data.shape[0] # 24% 정도의 prod_id 남음"
   ]
  },
  {
   "cell_type": "markdown",
   "metadata": {},
   "source": [
    "---"
   ]
  },
  {
   "cell_type": "code",
   "execution_count": 15,
   "metadata": {},
   "outputs": [],
   "source": [
    "data_renew = data_filter.drop(\n",
    "            columns = ['title', 'cleaned_title', 'model_id', 'weight', 'top3_word', 'top2_word', 'word_cnt'])"
   ]
  },
  {
   "cell_type": "code",
   "execution_count": 16,
   "metadata": {},
   "outputs": [
    {
     "data": {
      "text/html": [
       "<div>\n",
       "<style scoped>\n",
       "    .dataframe tbody tr th:only-of-type {\n",
       "        vertical-align: middle;\n",
       "    }\n",
       "\n",
       "    .dataframe tbody tr th {\n",
       "        vertical-align: top;\n",
       "    }\n",
       "\n",
       "    .dataframe thead th {\n",
       "        text-align: right;\n",
       "    }\n",
       "</style>\n",
       "<table border=\"1\" class=\"dataframe\">\n",
       "  <thead>\n",
       "    <tr style=\"text-align: right;\">\n",
       "      <th></th>\n",
       "      <th>prod_id</th>\n",
       "      <th>group_no</th>\n",
       "      <th>group_cnt</th>\n",
       "      <th>0</th>\n",
       "      <th>1</th>\n",
       "      <th>2</th>\n",
       "      <th>3</th>\n",
       "      <th>4</th>\n",
       "      <th>5</th>\n",
       "      <th>6</th>\n",
       "      <th>...</th>\n",
       "      <th>246</th>\n",
       "      <th>247</th>\n",
       "      <th>248</th>\n",
       "      <th>249</th>\n",
       "      <th>250</th>\n",
       "      <th>251</th>\n",
       "      <th>252</th>\n",
       "      <th>253</th>\n",
       "      <th>254</th>\n",
       "      <th>255</th>\n",
       "    </tr>\n",
       "  </thead>\n",
       "  <tbody>\n",
       "    <tr>\n",
       "      <th>0</th>\n",
       "      <td>107751656</td>\n",
       "      <td>124012401</td>\n",
       "      <td>38</td>\n",
       "      <td>0.095858</td>\n",
       "      <td>0.027997</td>\n",
       "      <td>0.027619</td>\n",
       "      <td>0.000000</td>\n",
       "      <td>0.000000</td>\n",
       "      <td>0.041419</td>\n",
       "      <td>0.000223</td>\n",
       "      <td>...</td>\n",
       "      <td>0.039504</td>\n",
       "      <td>0.118242</td>\n",
       "      <td>0.016577</td>\n",
       "      <td>0.062841</td>\n",
       "      <td>0.019664</td>\n",
       "      <td>0.095381</td>\n",
       "      <td>0.000538</td>\n",
       "      <td>0.016620</td>\n",
       "      <td>0.030399</td>\n",
       "      <td>0.011093</td>\n",
       "    </tr>\n",
       "    <tr>\n",
       "      <th>1</th>\n",
       "      <td>107751669</td>\n",
       "      <td>124012401</td>\n",
       "      <td>38</td>\n",
       "      <td>0.095858</td>\n",
       "      <td>0.027998</td>\n",
       "      <td>0.027619</td>\n",
       "      <td>0.000000</td>\n",
       "      <td>0.000000</td>\n",
       "      <td>0.041419</td>\n",
       "      <td>0.000223</td>\n",
       "      <td>...</td>\n",
       "      <td>0.039504</td>\n",
       "      <td>0.118242</td>\n",
       "      <td>0.016577</td>\n",
       "      <td>0.062841</td>\n",
       "      <td>0.019664</td>\n",
       "      <td>0.095381</td>\n",
       "      <td>0.000538</td>\n",
       "      <td>0.016620</td>\n",
       "      <td>0.030399</td>\n",
       "      <td>0.011093</td>\n",
       "    </tr>\n",
       "    <tr>\n",
       "      <th>2</th>\n",
       "      <td>108218728</td>\n",
       "      <td>124012401</td>\n",
       "      <td>38</td>\n",
       "      <td>0.095858</td>\n",
       "      <td>0.027997</td>\n",
       "      <td>0.027619</td>\n",
       "      <td>0.000000</td>\n",
       "      <td>0.000000</td>\n",
       "      <td>0.041419</td>\n",
       "      <td>0.000223</td>\n",
       "      <td>...</td>\n",
       "      <td>0.039504</td>\n",
       "      <td>0.118242</td>\n",
       "      <td>0.016577</td>\n",
       "      <td>0.062841</td>\n",
       "      <td>0.019664</td>\n",
       "      <td>0.095381</td>\n",
       "      <td>0.000538</td>\n",
       "      <td>0.016620</td>\n",
       "      <td>0.030399</td>\n",
       "      <td>0.011093</td>\n",
       "    </tr>\n",
       "    <tr>\n",
       "      <th>3</th>\n",
       "      <td>124011122</td>\n",
       "      <td>124012401</td>\n",
       "      <td>38</td>\n",
       "      <td>0.092860</td>\n",
       "      <td>0.032256</td>\n",
       "      <td>0.029344</td>\n",
       "      <td>0.000000</td>\n",
       "      <td>0.000578</td>\n",
       "      <td>0.040821</td>\n",
       "      <td>0.000427</td>\n",
       "      <td>...</td>\n",
       "      <td>0.042548</td>\n",
       "      <td>0.116558</td>\n",
       "      <td>0.012958</td>\n",
       "      <td>0.068049</td>\n",
       "      <td>0.018716</td>\n",
       "      <td>0.096427</td>\n",
       "      <td>0.000931</td>\n",
       "      <td>0.014353</td>\n",
       "      <td>0.036047</td>\n",
       "      <td>0.011458</td>\n",
       "    </tr>\n",
       "    <tr>\n",
       "      <th>4</th>\n",
       "      <td>124011144</td>\n",
       "      <td>124012401</td>\n",
       "      <td>38</td>\n",
       "      <td>0.092860</td>\n",
       "      <td>0.032256</td>\n",
       "      <td>0.029344</td>\n",
       "      <td>0.000000</td>\n",
       "      <td>0.000578</td>\n",
       "      <td>0.040821</td>\n",
       "      <td>0.000427</td>\n",
       "      <td>...</td>\n",
       "      <td>0.042548</td>\n",
       "      <td>0.116558</td>\n",
       "      <td>0.012958</td>\n",
       "      <td>0.068049</td>\n",
       "      <td>0.018716</td>\n",
       "      <td>0.096427</td>\n",
       "      <td>0.000931</td>\n",
       "      <td>0.014353</td>\n",
       "      <td>0.036047</td>\n",
       "      <td>0.011458</td>\n",
       "    </tr>\n",
       "    <tr>\n",
       "      <th>...</th>\n",
       "      <td>...</td>\n",
       "      <td>...</td>\n",
       "      <td>...</td>\n",
       "      <td>...</td>\n",
       "      <td>...</td>\n",
       "      <td>...</td>\n",
       "      <td>...</td>\n",
       "      <td>...</td>\n",
       "      <td>...</td>\n",
       "      <td>...</td>\n",
       "      <td>...</td>\n",
       "      <td>...</td>\n",
       "      <td>...</td>\n",
       "      <td>...</td>\n",
       "      <td>...</td>\n",
       "      <td>...</td>\n",
       "      <td>...</td>\n",
       "      <td>...</td>\n",
       "      <td>...</td>\n",
       "      <td>...</td>\n",
       "      <td>...</td>\n",
       "    </tr>\n",
       "    <tr>\n",
       "      <th>82471</th>\n",
       "      <td>152799569</td>\n",
       "      <td>152799569</td>\n",
       "      <td>3</td>\n",
       "      <td>0.169476</td>\n",
       "      <td>0.021603</td>\n",
       "      <td>0.032281</td>\n",
       "      <td>0.007862</td>\n",
       "      <td>0.001533</td>\n",
       "      <td>0.262756</td>\n",
       "      <td>0.007244</td>\n",
       "      <td>...</td>\n",
       "      <td>0.148308</td>\n",
       "      <td>0.063719</td>\n",
       "      <td>0.000000</td>\n",
       "      <td>0.050773</td>\n",
       "      <td>0.001786</td>\n",
       "      <td>0.115408</td>\n",
       "      <td>0.043102</td>\n",
       "      <td>0.000000</td>\n",
       "      <td>0.024779</td>\n",
       "      <td>0.000776</td>\n",
       "    </tr>\n",
       "    <tr>\n",
       "      <th>82472</th>\n",
       "      <td>152799776</td>\n",
       "      <td>152799569</td>\n",
       "      <td>3</td>\n",
       "      <td>0.137807</td>\n",
       "      <td>0.029813</td>\n",
       "      <td>0.011102</td>\n",
       "      <td>0.002626</td>\n",
       "      <td>0.000000</td>\n",
       "      <td>0.220677</td>\n",
       "      <td>0.007591</td>\n",
       "      <td>...</td>\n",
       "      <td>0.151050</td>\n",
       "      <td>0.066073</td>\n",
       "      <td>0.001325</td>\n",
       "      <td>0.104724</td>\n",
       "      <td>0.006390</td>\n",
       "      <td>0.120621</td>\n",
       "      <td>0.034829</td>\n",
       "      <td>0.000000</td>\n",
       "      <td>0.008911</td>\n",
       "      <td>0.000552</td>\n",
       "    </tr>\n",
       "    <tr>\n",
       "      <th>92330</th>\n",
       "      <td>125008424</td>\n",
       "      <td>125008424</td>\n",
       "      <td>2</td>\n",
       "      <td>0.094371</td>\n",
       "      <td>0.006952</td>\n",
       "      <td>0.034753</td>\n",
       "      <td>0.040075</td>\n",
       "      <td>0.061682</td>\n",
       "      <td>0.121551</td>\n",
       "      <td>0.087817</td>\n",
       "      <td>...</td>\n",
       "      <td>0.083730</td>\n",
       "      <td>0.014073</td>\n",
       "      <td>0.000047</td>\n",
       "      <td>0.073444</td>\n",
       "      <td>0.075622</td>\n",
       "      <td>0.199791</td>\n",
       "      <td>0.009518</td>\n",
       "      <td>0.000000</td>\n",
       "      <td>0.001497</td>\n",
       "      <td>0.040486</td>\n",
       "    </tr>\n",
       "    <tr>\n",
       "      <th>92331</th>\n",
       "      <td>125008425</td>\n",
       "      <td>125008424</td>\n",
       "      <td>2</td>\n",
       "      <td>0.105567</td>\n",
       "      <td>0.004273</td>\n",
       "      <td>0.003390</td>\n",
       "      <td>0.037910</td>\n",
       "      <td>0.020251</td>\n",
       "      <td>0.146470</td>\n",
       "      <td>0.115562</td>\n",
       "      <td>...</td>\n",
       "      <td>0.092375</td>\n",
       "      <td>0.034384</td>\n",
       "      <td>0.000000</td>\n",
       "      <td>0.133222</td>\n",
       "      <td>0.082380</td>\n",
       "      <td>0.214659</td>\n",
       "      <td>0.010539</td>\n",
       "      <td>0.000000</td>\n",
       "      <td>0.003605</td>\n",
       "      <td>0.042854</td>\n",
       "    </tr>\n",
       "    <tr>\n",
       "      <th>92332</th>\n",
       "      <td>125009331</td>\n",
       "      <td>125008424</td>\n",
       "      <td>2</td>\n",
       "      <td>0.080405</td>\n",
       "      <td>0.023900</td>\n",
       "      <td>0.055742</td>\n",
       "      <td>0.038553</td>\n",
       "      <td>0.055987</td>\n",
       "      <td>0.115783</td>\n",
       "      <td>0.101524</td>\n",
       "      <td>...</td>\n",
       "      <td>0.048742</td>\n",
       "      <td>0.009749</td>\n",
       "      <td>0.000000</td>\n",
       "      <td>0.062932</td>\n",
       "      <td>0.054083</td>\n",
       "      <td>0.169358</td>\n",
       "      <td>0.023739</td>\n",
       "      <td>0.000000</td>\n",
       "      <td>0.005667</td>\n",
       "      <td>0.067532</td>\n",
       "    </tr>\n",
       "  </tbody>\n",
       "</table>\n",
       "<p>73681 rows × 259 columns</p>\n",
       "</div>"
      ],
      "text/plain": [
       "         prod_id   group_no  group_cnt         0         1         2  \\\n",
       "0      107751656  124012401         38  0.095858  0.027997  0.027619   \n",
       "1      107751669  124012401         38  0.095858  0.027998  0.027619   \n",
       "2      108218728  124012401         38  0.095858  0.027997  0.027619   \n",
       "3      124011122  124012401         38  0.092860  0.032256  0.029344   \n",
       "4      124011144  124012401         38  0.092860  0.032256  0.029344   \n",
       "...          ...        ...        ...       ...       ...       ...   \n",
       "82471  152799569  152799569          3  0.169476  0.021603  0.032281   \n",
       "82472  152799776  152799569          3  0.137807  0.029813  0.011102   \n",
       "92330  125008424  125008424          2  0.094371  0.006952  0.034753   \n",
       "92331  125008425  125008424          2  0.105567  0.004273  0.003390   \n",
       "92332  125009331  125008424          2  0.080405  0.023900  0.055742   \n",
       "\n",
       "              3         4         5         6  ...       246       247  \\\n",
       "0      0.000000  0.000000  0.041419  0.000223  ...  0.039504  0.118242   \n",
       "1      0.000000  0.000000  0.041419  0.000223  ...  0.039504  0.118242   \n",
       "2      0.000000  0.000000  0.041419  0.000223  ...  0.039504  0.118242   \n",
       "3      0.000000  0.000578  0.040821  0.000427  ...  0.042548  0.116558   \n",
       "4      0.000000  0.000578  0.040821  0.000427  ...  0.042548  0.116558   \n",
       "...         ...       ...       ...       ...  ...       ...       ...   \n",
       "82471  0.007862  0.001533  0.262756  0.007244  ...  0.148308  0.063719   \n",
       "82472  0.002626  0.000000  0.220677  0.007591  ...  0.151050  0.066073   \n",
       "92330  0.040075  0.061682  0.121551  0.087817  ...  0.083730  0.014073   \n",
       "92331  0.037910  0.020251  0.146470  0.115562  ...  0.092375  0.034384   \n",
       "92332  0.038553  0.055987  0.115783  0.101524  ...  0.048742  0.009749   \n",
       "\n",
       "            248       249       250       251       252       253       254  \\\n",
       "0      0.016577  0.062841  0.019664  0.095381  0.000538  0.016620  0.030399   \n",
       "1      0.016577  0.062841  0.019664  0.095381  0.000538  0.016620  0.030399   \n",
       "2      0.016577  0.062841  0.019664  0.095381  0.000538  0.016620  0.030399   \n",
       "3      0.012958  0.068049  0.018716  0.096427  0.000931  0.014353  0.036047   \n",
       "4      0.012958  0.068049  0.018716  0.096427  0.000931  0.014353  0.036047   \n",
       "...         ...       ...       ...       ...       ...       ...       ...   \n",
       "82471  0.000000  0.050773  0.001786  0.115408  0.043102  0.000000  0.024779   \n",
       "82472  0.001325  0.104724  0.006390  0.120621  0.034829  0.000000  0.008911   \n",
       "92330  0.000047  0.073444  0.075622  0.199791  0.009518  0.000000  0.001497   \n",
       "92331  0.000000  0.133222  0.082380  0.214659  0.010539  0.000000  0.003605   \n",
       "92332  0.000000  0.062932  0.054083  0.169358  0.023739  0.000000  0.005667   \n",
       "\n",
       "            255  \n",
       "0      0.011093  \n",
       "1      0.011093  \n",
       "2      0.011093  \n",
       "3      0.011458  \n",
       "4      0.011458  \n",
       "...         ...  \n",
       "82471  0.000776  \n",
       "82472  0.000552  \n",
       "92330  0.040486  \n",
       "92331  0.042854  \n",
       "92332  0.067532  \n",
       "\n",
       "[73681 rows x 259 columns]"
      ]
     },
     "execution_count": 16,
     "metadata": {},
     "output_type": "execute_result"
    }
   ],
   "source": [
    "data_renew"
   ]
  },
  {
   "cell_type": "markdown",
   "metadata": {},
   "source": [
    "----"
   ]
  },
  {
   "cell_type": "markdown",
   "metadata": {},
   "source": [
    "# distance matrix"
   ]
  },
  {
   "cell_type": "code",
   "execution_count": 17,
   "metadata": {},
   "outputs": [],
   "source": [
    "from sklearn.metrics import pairwise_distances"
   ]
  },
  {
   "cell_type": "code",
   "execution_count": 19,
   "metadata": {},
   "outputs": [],
   "source": [
    "data_renew_distances = pairwise_distances( data_renew.iloc[:, 3:].values, metric='euclidean', n_jobs=-1 )"
   ]
  },
  {
   "cell_type": "code",
   "execution_count": 20,
   "metadata": {},
   "outputs": [
    {
     "data": {
      "text/plain": [
       "(73681, 73681)"
      ]
     },
     "execution_count": 20,
     "metadata": {},
     "output_type": "execute_result"
    }
   ],
   "source": [
    "data_renew_distances.shape"
   ]
  },
  {
   "cell_type": "markdown",
   "metadata": {},
   "source": [
    "---"
   ]
  },
  {
   "cell_type": "markdown",
   "metadata": {},
   "source": [
    "# prod index"
   ]
  },
  {
   "cell_type": "code",
   "execution_count": 22,
   "metadata": {},
   "outputs": [
    {
     "data": {
      "text/plain": [
       "(73681, 259)"
      ]
     },
     "execution_count": 22,
     "metadata": {},
     "output_type": "execute_result"
    }
   ],
   "source": [
    "data_renew.shape"
   ]
  },
  {
   "cell_type": "code",
   "execution_count": 23,
   "metadata": {},
   "outputs": [],
   "source": [
    "# i -> prod 사전\n",
    "# prod -> i 사전\n",
    "index_to_prod = {}\n",
    "prod_to_index = {}\n",
    "\n",
    "for k in data_renew.prod_id.values: # distinct 하니깐 set() 으로 안한다\n",
    "    i = len(index_to_prod)\n",
    "    index_to_prod[i] = k\n",
    "    prod_to_index[k] = i"
   ]
  },
  {
   "cell_type": "code",
   "execution_count": 24,
   "metadata": {},
   "outputs": [
    {
     "data": {
      "text/plain": [
       "array([107751656, 107751669, 108218728, ..., 125008424, 125008425,\n",
       "       125009331])"
      ]
     },
     "execution_count": 24,
     "metadata": {},
     "output_type": "execute_result"
    }
   ],
   "source": [
    "data_renew.prod_id.values"
   ]
  },
  {
   "cell_type": "code",
   "execution_count": 25,
   "metadata": {},
   "outputs": [
    {
     "data": {
      "text/plain": [
       "0"
      ]
     },
     "execution_count": 25,
     "metadata": {},
     "output_type": "execute_result"
    }
   ],
   "source": [
    "prod_to_index[107751656]"
   ]
  },
  {
   "cell_type": "code",
   "execution_count": 26,
   "metadata": {},
   "outputs": [
    {
     "data": {
      "text/plain": [
       "1"
      ]
     },
     "execution_count": 26,
     "metadata": {},
     "output_type": "execute_result"
    }
   ],
   "source": [
    "prod_to_index[107751669]"
   ]
  },
  {
   "cell_type": "markdown",
   "metadata": {},
   "source": [
    "----"
   ]
  },
  {
   "cell_type": "markdown",
   "metadata": {},
   "source": [
    "# group index data"
   ]
  },
  {
   "cell_type": "code",
   "execution_count": 28,
   "metadata": {},
   "outputs": [],
   "source": [
    "# grp에 속하는 prod list\n",
    "grp_prod = dict(data_renew.groupby(['group_no'])['prod_id'].apply(list))"
   ]
  },
  {
   "cell_type": "code",
   "execution_count": 30,
   "metadata": {},
   "outputs": [],
   "source": [
    "# prod별 grp\n",
    "prod_grp = {v_e : k for k, v in grp_prod.items() for v_e in v}"
   ]
  },
  {
   "cell_type": "code",
   "execution_count": null,
   "metadata": {},
   "outputs": [],
   "source": []
  },
  {
   "cell_type": "markdown",
   "metadata": {},
   "source": [
    "---\n",
    "---\n",
    "---"
   ]
  },
  {
   "cell_type": "markdown",
   "metadata": {},
   "source": [
    "# # pair-data EDA"
   ]
  },
  {
   "cell_type": "markdown",
   "metadata": {},
   "source": [
    "### ### step1 : make pair index data"
   ]
  },
  {
   "cell_type": "code",
   "execution_count": 32,
   "metadata": {},
   "outputs": [],
   "source": [
    "index_list = list(index_to_prod.keys())"
   ]
  },
  {
   "cell_type": "code",
   "execution_count": 33,
   "metadata": {},
   "outputs": [],
   "source": [
    "from sklearn.model_selection import train_test_split\n",
    "\n",
    "train_index_list, test_index_list = train_test_split(index_list, test_size = 0.2 , random_state = 37)"
   ]
  },
  {
   "cell_type": "code",
   "execution_count": 34,
   "metadata": {},
   "outputs": [
    {
     "data": {
      "text/plain": [
       "0.799989142384061"
      ]
     },
     "execution_count": 34,
     "metadata": {},
     "output_type": "execute_result"
    }
   ],
   "source": [
    "len(train_index_list)/len(index_list)"
   ]
  },
  {
   "cell_type": "markdown",
   "metadata": {},
   "source": [
    "---"
   ]
  },
  {
   "cell_type": "markdown",
   "metadata": {},
   "source": [
    "- 기준 : distance 0.3 이하인 애들만 pair 훈련데이터로 생성한다"
   ]
  },
  {
   "cell_type": "code",
   "execution_count": 104,
   "metadata": {},
   "outputs": [
    {
     "name": "stdout",
     "output_type": "stream",
     "text": [
      "1, 2\n"
     ]
    }
   ],
   "source": [
    "print('{}, {}'.format(1,2))"
   ]
  },
  {
   "cell_type": "code",
   "execution_count": 38,
   "metadata": {},
   "outputs": [
    {
     "data": {
      "text/plain": [
       "{2}"
      ]
     },
     "execution_count": 38,
     "metadata": {},
     "output_type": "execute_result"
    }
   ],
   "source": [
    "set([1,2]) & set([2,3])"
   ]
  },
  {
   "cell_type": "code",
   "execution_count": null,
   "metadata": {},
   "outputs": [],
   "source": [
    "%%time\n",
    "### sampling-dict(pair) ###\n",
    "sampling_dict_wo_balance = {}\n",
    "#####################\n",
    "\n",
    "positive_length = []\n",
    "negative_length = []\n",
    "sampling_length = []\n",
    "\n",
    "start_time = time.time()\n",
    "\n",
    "for _,i in enumerate(train_index_list):\n",
    "    #if _ %5000 == 0:\n",
    "    #    elapsed_time = time.time() - start_time\n",
    "    #    print( _, ',', _/len(train_index_list) )\n",
    "    #    print( time.strftime(\"%H:%M:%S\", time.gmtime(elapsed_time)), '\\n' )\n",
    "    \n",
    "    \n",
    "    ### 자기자신을 뺀, positive + semi_hard_negative ###\n",
    "    sampling_index = set(np.where( data_renew_distances[ i ] <= 0.35 )[0]) - set([i])\n",
    "    \n",
    "    positive_sample = set(grp_prod[ prod_grp[index_to_prod[i]] ]) - set( [index_to_prod[i] ] )\n",
    "    positive_index_list = []\n",
    "    for p in positive_sample:\n",
    "        positive_index_list.append( prod_to_index[p] )\n",
    "    \n",
    "    # positive_index : 0.35 거리 안에 존재하는, positive\n",
    "    positive_index = set(positive_index_list) & set(sampling_index)\n",
    "    \n",
    "    # negative_index : 0.35 거리 안에 존재하는, negative\n",
    "    negative_index = set(sampling_index) - set(positive_index)\n",
    "    \n",
    "    # negative 와 전체 sampling 규모\n",
    "    print( 'negative_size : {}, total_sampling_size : {}'.format(len(negative_index), len(sampling_index)) )\n",
    "    \n",
    "    \n",
    "    positive_length.append( len(positive_index) )\n",
    "    negative_length.append( len(negative_index) )\n",
    "    sampling_length.append( len(sampling_index) )\n",
    "    \n",
    "    \n",
    "    ### pair 쌍 만들어주기 ###\n",
    "    #sampling_dict_wo_balance[ index_to_prod[i] ] = []\n",
    "    \n",
    "    #for s in sampling_index:\n",
    "    #    sampling_dict_wo_balance[ index_to_prod[i] ].append( [index_to_prod[i] , index_to_prod[s] ] )"
   ]
  },
  {
   "cell_type": "code",
   "execution_count": 43,
   "metadata": {},
   "outputs": [],
   "source": [
    "ratio_ = []\n",
    "for i in range(len(positive_length)):\n",
    "    try:\n",
    "        r = negative_length[i]/sampling_length[i]\n",
    "    except:\n",
    "        r = 0\n",
    "    ratio_.append(r)"
   ]
  },
  {
   "cell_type": "code",
   "execution_count": 45,
   "metadata": {},
   "outputs": [
    {
     "data": {
      "text/plain": [
       "0.4039883871036081"
      ]
     },
     "execution_count": 45,
     "metadata": {},
     "output_type": "execute_result"
    }
   ],
   "source": [
    "# mean of ratio of negative_length\n",
    "\n",
    "np.mean(ratio_)"
   ]
  },
  {
   "cell_type": "code",
   "execution_count": 55,
   "metadata": {},
   "outputs": [],
   "source": [
    "ratio_array = np.array(ratio_)"
   ]
  },
  {
   "cell_type": "code",
   "execution_count": 58,
   "metadata": {},
   "outputs": [
    {
     "data": {
      "text/plain": [
       "0.6985242443366114"
      ]
     },
     "execution_count": 58,
     "metadata": {},
     "output_type": "execute_result"
    }
   ],
   "source": [
    "# 0.35 이내 sampling 없는 경우 제외하고 ratio_mean\n",
    "ratio_array[ratio_array!=0].mean()"
   ]
  },
  {
   "cell_type": "code",
   "execution_count": 60,
   "metadata": {},
   "outputs": [
    {
     "data": {
      "text/plain": [
       "0.5783455483170467"
      ]
     },
     "execution_count": 60,
     "metadata": {},
     "output_type": "execute_result"
    }
   ],
   "source": [
    "# 이정도 비율로만 0.35 sampling 군집 존재해\n",
    "len(ratio_array[ratio_array!=0])/len(ratio_array)"
   ]
  },
  {
   "cell_type": "code",
   "execution_count": null,
   "metadata": {},
   "outputs": [],
   "source": []
  },
  {
   "cell_type": "markdown",
   "metadata": {},
   "source": [
    "---"
   ]
  },
  {
   "cell_type": "markdown",
   "metadata": {},
   "source": [
    "### 0.35 이내의 positive의 최장 거리, 그리고 이 최장 거리 이내에 존재하는 negative sample 개수"
   ]
  },
  {
   "cell_type": "code",
   "execution_count": null,
   "metadata": {},
   "outputs": [],
   "source": [
    "sampling_index = set(np.argsort(data_renew_distances[ i ])) - set( grp_prod[ prod_grp[index_to_prod[i]] ] )\n",
    "sampling_index = list(sampling_index)[ :positive_length]"
   ]
  },
  {
   "cell_type": "code",
   "execution_count": 65,
   "metadata": {},
   "outputs": [],
   "source": [
    "a = np.array([1,2,3,4,5])"
   ]
  },
  {
   "cell_type": "code",
   "execution_count": 66,
   "metadata": {},
   "outputs": [
    {
     "data": {
      "text/plain": [
       "array([1, 2])"
      ]
     },
     "execution_count": 66,
     "metadata": {},
     "output_type": "execute_result"
    }
   ],
   "source": [
    "a[[0,1]]"
   ]
  },
  {
   "cell_type": "code",
   "execution_count": 67,
   "metadata": {},
   "outputs": [
    {
     "data": {
      "text/plain": [
       "array([4, 5])"
      ]
     },
     "execution_count": 67,
     "metadata": {},
     "output_type": "execute_result"
    }
   ],
   "source": [
    "a[a>3]"
   ]
  },
  {
   "cell_type": "code",
   "execution_count": null,
   "metadata": {},
   "outputs": [],
   "source": [
    "%%time\n",
    "### sampling-dict(pair) ###\n",
    "sampling_dict_wo_balance = {}\n",
    "#####################\n",
    "\n",
    "negative_within_ratio = []\n",
    "\n",
    "start_time = time.time()\n",
    "\n",
    "for _,i in enumerate(train_index_list):\n",
    "    #if _ %5000 == 0:\n",
    "    #    elapsed_time = time.time() - start_time\n",
    "    #    print( _, ',', _/len(train_index_list) )\n",
    "    #    print( time.strftime(\"%H:%M:%S\", time.gmtime(elapsed_time)), '\\n' )\n",
    "    \n",
    "    \n",
    "    ### 자기자신을 뺀, positive + semi_hard_negative ###\n",
    "    sampling_index = set(np.where( data_renew_distances[ i ] <= 0.35 )[0]) - set([i])\n",
    "    \n",
    "    positive_sample = set(grp_prod[ prod_grp[index_to_prod[i]] ]) - set( [index_to_prod[i] ] )\n",
    "    positive_index_list = []\n",
    "    for p in positive_sample:\n",
    "        positive_index_list.append( prod_to_index[p] )\n",
    "    \n",
    "    # positive_index : 0.35 거리 안에 존재하는, positive\n",
    "    positive_index = set(positive_index_list) & set(sampling_index)\n",
    "    \n",
    "    # negative_index : 0.35 거리 안에 존재하는, negative\n",
    "    negative_index = set(sampling_index) - set(positive_index)\n",
    "    \n",
    "    #\n",
    "    try:\n",
    "        positive_max = np.max(data_renew_distances[ i ][list(positive_index)] )\n",
    "        print('positive_max : {}'.format(positive_max))\n",
    "        negative_distance = data_renew_distances[i][list(negative_index)]\n",
    "        print(len( negative_distance[ negative_distance < positive_max])/len(negative_index))\n",
    "        print('\\n')\n",
    "        negative_within_ratio.append( len( negative_distance[ negative_distance < positive_max])/len(negative_index) )\n",
    "    except:\n",
    "        negative_within_ratio.append(-1)\n",
    "    # negative 와 전체 sampling 규모\n",
    "    #print( 'negative_size : {}, total_sampling_size : {}'.format(len(negative_index), len(sampling_index)) )\n",
    "    \n",
    "    \n",
    "    #positive_length.append( len(positive_index) )\n",
    "    #negative_length.append( len(negative_index) )\n",
    "    #sampling_length.append( len(sampling_index) )\n",
    "    \n",
    "    \n",
    "    ### pair 쌍 만들어주기 ###\n",
    "    #sampling_dict_wo_balance[ index_to_prod[i] ] = []\n",
    "    \n",
    "    #for s in sampling_index:\n",
    "    #    sampling_dict_wo_balance[ index_to_prod[i] ].append( [index_to_prod[i] , index_to_prod[s] ] )"
   ]
  },
  {
   "cell_type": "code",
   "execution_count": null,
   "metadata": {},
   "outputs": [],
   "source": []
  },
  {
   "cell_type": "code",
   "execution_count": 83,
   "metadata": {},
   "outputs": [],
   "source": [
    "negative_within_ratio_array = np.array(negative_within_ratio)"
   ]
  },
  {
   "cell_type": "code",
   "execution_count": 84,
   "metadata": {},
   "outputs": [
    {
     "data": {
      "text/plain": [
       "0.25953993225504185"
      ]
     },
     "execution_count": 84,
     "metadata": {},
     "output_type": "execute_result"
    }
   ],
   "source": [
    "# 0.35 이내에 존재하는 negative 중, 25% 정도가 positive_max 거리 안에 존재한다\n",
    "negative_within_ratio_array[negative_within_ratio_array>=0].mean()"
   ]
  },
  {
   "cell_type": "code",
   "execution_count": null,
   "metadata": {},
   "outputs": [],
   "source": []
  },
  {
   "cell_type": "code",
   "execution_count": null,
   "metadata": {},
   "outputs": [],
   "source": []
  },
  {
   "cell_type": "code",
   "execution_count": null,
   "metadata": {},
   "outputs": [],
   "source": []
  },
  {
   "cell_type": "markdown",
   "metadata": {},
   "source": [
    "---"
   ]
  },
  {
   "cell_type": "markdown",
   "metadata": {},
   "source": [
    "# make balanced data\n",
    "- 0.35 기준에 들고, positive 개수와 맞춰진 negative sample(가까운순)"
   ]
  },
  {
   "cell_type": "code",
   "execution_count": 104,
   "metadata": {},
   "outputs": [
    {
     "data": {
      "text/plain": [
       "0.2625203583061889"
      ]
     },
     "execution_count": 104,
     "metadata": {},
     "output_type": "execute_result"
    }
   ],
   "source": [
    "_/len(train_index_list)"
   ]
  },
  {
   "cell_type": "code",
   "execution_count": null,
   "metadata": {},
   "outputs": [],
   "source": []
  },
  {
   "cell_type": "code",
   "execution_count": 123,
   "metadata": {},
   "outputs": [
    {
     "name": "stdout",
     "output_type": "stream",
     "text": [
      "0 , 0.0\n",
      "00:00:00 \n",
      "\n",
      "5000 , 0.08482627578718784\n",
      "00:01:28 \n",
      "\n",
      "10000 , 0.16965255157437567\n",
      "00:02:57 \n",
      "\n",
      "15000 , 0.2544788273615635\n",
      "00:04:26 \n",
      "\n",
      "20000 , 0.33930510314875134\n",
      "00:05:54 \n",
      "\n",
      "25000 , 0.4241313789359392\n",
      "00:07:23 \n",
      "\n",
      "30000 , 0.508957654723127\n",
      "00:08:51 \n",
      "\n",
      "35000 , 0.5937839305103149\n",
      "00:10:20 \n",
      "\n",
      "40000 , 0.6786102062975027\n",
      "00:11:48 \n",
      "\n",
      "45000 , 0.7634364820846905\n",
      "00:13:15 \n",
      "\n",
      "50000 , 0.8482627578718784\n",
      "00:14:43 \n",
      "\n",
      "55000 , 0.9330890336590663\n",
      "00:16:11 \n",
      "\n",
      "CPU times: user 17min 21s, sys: 328 ms, total: 17min 21s\n",
      "Wall time: 17min 21s\n"
     ]
    }
   ],
   "source": [
    "%%time\n",
    "### sampling-dict(pair) ###\n",
    "sampling_dict = {}\n",
    "#####################\n",
    "\n",
    "negative_within_ratio = []\n",
    "\n",
    "start_time = time.time()\n",
    "\n",
    "for _,i in enumerate(train_index_list):\n",
    "    if _ %5000 == 0:\n",
    "        elapsed_time = time.time() - start_time\n",
    "        print( _, ',', _/len(train_index_list) )\n",
    "        print( time.strftime(\"%H:%M:%S\", time.gmtime(elapsed_time)), '\\n' )\n",
    "    \n",
    "    #################################################\n",
    "    ### 자기자신을 뺀, positive + semi_hard_negative ###\n",
    "    sampling_index = set(np.where( data_renew_distances[ i ] <= 0.35 )[0]) - set([i])\n",
    "    \n",
    "    positive_sample = set(grp_prod[ prod_grp[index_to_prod[i]] ]) - set( [index_to_prod[i] ] )\n",
    "    positive_index_list = []\n",
    "    for p in positive_sample:\n",
    "        positive_index_list.append( prod_to_index[p] )\n",
    "    \n",
    "    # positive_index : 0.35 거리 안에 존재하는, positive\n",
    "    positive_index = set(positive_index_list) & set(sampling_index)\n",
    "    \n",
    "    # negative_index : 0.35 거리 안에 존재하는, negative\n",
    "    negative_index = set(sampling_index) - set(positive_index)\n",
    "    \n",
    "    \n",
    "    #sampling - negative_index : positive_index 개수에 맞춰준다(그 중에서도 가까운 negative sample)\n",
    "    sampling_index = set(np.argsort(data_renew_distances[ i ])) - set( positive_index ) # 거리순 index에서 positive 제외\n",
    "    negative_sampling_index = list(set(sampling_index) & set(negative_index))[:len(positive_index)]\n",
    "    \n",
    "    \n",
    "    #################################################\n",
    "    ### pair 쌍 만들어주기 - negative / positive ###\n",
    "    sampling_dict[ index_to_prod[i] ] = []\n",
    "    \n",
    "    # negative 데이터 붙여주기\n",
    "    for s in negative_sampling_index:\n",
    "        sampling_dict[ index_to_prod[i] ].append( [index_to_prod[i] , index_to_prod[s] ] )\n",
    "    # positive 데이터 붙여주기\n",
    "    for p in positive_index:\n",
    "        sampling_dict[ index_to_prod[i] ].append( [index_to_prod[i] , index_to_prod[p] ] )"
   ]
  },
  {
   "cell_type": "code",
   "execution_count": null,
   "metadata": {},
   "outputs": [],
   "source": []
  },
  {
   "cell_type": "markdown",
   "metadata": {},
   "source": [
    "----"
   ]
  },
  {
   "cell_type": "markdown",
   "metadata": {},
   "source": [
    "- save pair index"
   ]
  },
  {
   "cell_type": "code",
   "execution_count": 124,
   "metadata": {},
   "outputs": [],
   "source": [
    "# save train_pair, valid_pair, test_index\n",
    "with open('../train_within_0_35_balanced/train_sampling_dict.pkl', 'wb') as f:\n",
    "    pickle.dump(sampling_dict, f)\n"
   ]
  },
  {
   "cell_type": "markdown",
   "metadata": {},
   "source": [
    "---"
   ]
  },
  {
   "cell_type": "markdown",
   "metadata": {},
   "source": [
    "- sampling_dict 펼치기 : train_pair"
   ]
  },
  {
   "cell_type": "code",
   "execution_count": 125,
   "metadata": {},
   "outputs": [],
   "source": [
    "train_pair = []\n",
    "\n",
    "for k,v in sampling_dict.items():\n",
    "    train_pair.extend(v)"
   ]
  },
  {
   "cell_type": "code",
   "execution_count": 126,
   "metadata": {},
   "outputs": [
    {
     "data": {
      "text/plain": [
       "330519"
      ]
     },
     "execution_count": 126,
     "metadata": {},
     "output_type": "execute_result"
    }
   ],
   "source": [
    "len(train_pair) # 60만에서 30만으로..!"
   ]
  },
  {
   "cell_type": "code",
   "execution_count": 127,
   "metadata": {},
   "outputs": [
    {
     "data": {
      "text/plain": [
       "[[155410538, 155398714],\n",
       " [155410538, 155399143],\n",
       " [155410538, 155399731],\n",
       " [155410538, 155407379],\n",
       " [155410538, 155407810]]"
      ]
     },
     "execution_count": 127,
     "metadata": {},
     "output_type": "execute_result"
    }
   ],
   "source": [
    "train_pair[:5]"
   ]
  },
  {
   "cell_type": "markdown",
   "metadata": {},
   "source": [
    "---\n",
    "---"
   ]
  },
  {
   "cell_type": "markdown",
   "metadata": {},
   "source": [
    "### ### step2 : make pair array data"
   ]
  },
  {
   "cell_type": "markdown",
   "metadata": {},
   "source": [
    "### ### step2.1 : train"
   ]
  },
  {
   "cell_type": "markdown",
   "metadata": {},
   "source": [
    "### *** multiprocessing"
   ]
  },
  {
   "cell_type": "code",
   "execution_count": 129,
   "metadata": {},
   "outputs": [],
   "source": [
    "train_pair_chunk = chunkIt(train_pair, 36)"
   ]
  },
  {
   "cell_type": "code",
   "execution_count": 130,
   "metadata": {},
   "outputs": [
    {
     "data": {
      "text/plain": [
       "36"
      ]
     },
     "execution_count": 130,
     "metadata": {},
     "output_type": "execute_result"
    }
   ],
   "source": [
    "len(train_pair_chunk)"
   ]
  },
  {
   "cell_type": "markdown",
   "metadata": {},
   "source": [
    "---"
   ]
  },
  {
   "cell_type": "code",
   "execution_count": 139,
   "metadata": {},
   "outputs": [],
   "source": [
    "def parallelize_dataframe(chunk_pair, func):\n",
    "    #\n",
    "    #ctx = multiprocessing.get_context(\"spawn\")\n",
    "    #pool  = ctx.Pool(num_cores)\n",
    "    pool = multiprocessing.Pool( num_cores )\n",
    "    stats_list = pool.map(func, chunk_pair) # 리스트 형태로 떨궈준다\n",
    "    pool.close()\n",
    "    pool.join()\n",
    "    print('parallel finished !')\n",
    "    return stats_list"
   ]
  },
  {
   "cell_type": "code",
   "execution_count": 140,
   "metadata": {},
   "outputs": [],
   "source": [
    "def make_stats( chunk_pair ):\n",
    "            \n",
    "    # input 데이터 정의\n",
    "    train_pair  = chunk_pair\n",
    "    \n",
    "    for i,pair in enumerate( train_pair ):\n",
    "    \n",
    "        ###### X_train ######\n",
    "        # row 생성\n",
    "        ttt = np.array([])\n",
    "        ttt = np.append( ttt, data_renew[data_renew.prod_id == pair[0]].iloc[:,3:].values )\n",
    "        ttt = np.append( ttt, data_renew[data_renew.prod_id == pair[1]].iloc[:,3:].values )\n",
    "        ttt = ttt.reshape(1, -1)\n",
    "        \n",
    "        # row 붙이기\n",
    "        if i == 0:\n",
    "            X_train = ttt\n",
    "            y_train = np.array([])\n",
    "        else:\n",
    "            X_train = np.append( X_train, ttt, axis=0 )\n",
    "        \n",
    "        ###### y_train ######\n",
    "        left_grp  = data_renew[data_renew.prod_id == pair[0]].group_no.values[0]\n",
    "        right_grp = data_renew[data_renew.prod_id == pair[1]].group_no.values[0]\n",
    "        \n",
    "        # row 붙이기\n",
    "        \n",
    "        if left_grp == right_grp:\n",
    "            y_train = np.append( y_train, [1] , axis=0 ) # 같다면 True\n",
    "        else:\n",
    "            y_train = np.append( y_train, [0] , axis=0 )\n",
    "    \n",
    "    return (X_train, y_train)"
   ]
  },
  {
   "cell_type": "code",
   "execution_count": 142,
   "metadata": {},
   "outputs": [
    {
     "name": "stdout",
     "output_type": "stream",
     "text": [
      "parallel finished !\n",
      "CPU times: user 5.59 s, sys: 11.3 s, total: 16.9 s\n",
      "Wall time: 3min 27s\n"
     ]
    }
   ],
   "source": [
    "%%time\n",
    "\n",
    "num_cores = len(train_pair_chunk)  # \n",
    "\n",
    "# df_split은 위에 정의했다\n",
    "data_parallel = parallelize_dataframe( train_pair_chunk , make_stats )"
   ]
  },
  {
   "cell_type": "code",
   "execution_count": 143,
   "metadata": {},
   "outputs": [
    {
     "data": {
      "text/plain": [
       "36"
      ]
     },
     "execution_count": 143,
     "metadata": {},
     "output_type": "execute_result"
    }
   ],
   "source": [
    "len(data_parallel)"
   ]
  },
  {
   "cell_type": "markdown",
   "metadata": {},
   "source": [
    "---"
   ]
  },
  {
   "cell_type": "markdown",
   "metadata": {},
   "source": [
    "- 펴주기"
   ]
  },
  {
   "cell_type": "code",
   "execution_count": 144,
   "metadata": {},
   "outputs": [],
   "source": [
    "X_train = np.array([])\n",
    "y_train = np.array([])\n",
    "for i,(x,y) in enumerate(data_parallel):\n",
    "    if i == 0:\n",
    "        X_train = x\n",
    "        y_train = y\n",
    "    else:\n",
    "        X_train = np.append( X_train, x, axis=0 )\n",
    "        y_train = np.append( y_train, y, axis=0 )"
   ]
  },
  {
   "cell_type": "code",
   "execution_count": 145,
   "metadata": {},
   "outputs": [
    {
     "data": {
      "text/plain": [
       "(330519, 512)"
      ]
     },
     "execution_count": 145,
     "metadata": {},
     "output_type": "execute_result"
    }
   ],
   "source": [
    "X_train.shape"
   ]
  },
  {
   "cell_type": "code",
   "execution_count": 146,
   "metadata": {},
   "outputs": [
    {
     "data": {
      "text/plain": [
       "(330519,)"
      ]
     },
     "execution_count": 146,
     "metadata": {},
     "output_type": "execute_result"
    }
   ],
   "source": [
    "y_train.shape"
   ]
  },
  {
   "cell_type": "code",
   "execution_count": 147,
   "metadata": {
    "scrolled": true
   },
   "outputs": [
    {
     "data": {
      "text/plain": [
       "0.6322753003609475"
      ]
     },
     "execution_count": 147,
     "metadata": {},
     "output_type": "execute_result"
    }
   ],
   "source": [
    "np.sum(y_train)/y_train.shape[0] # 비율 63% 맞췄다 -> positive가 조금 더 많은 상태"
   ]
  },
  {
   "cell_type": "markdown",
   "metadata": {},
   "source": [
    "---"
   ]
  },
  {
   "cell_type": "markdown",
   "metadata": {},
   "source": [
    "- save"
   ]
  },
  {
   "cell_type": "code",
   "execution_count": 148,
   "metadata": {},
   "outputs": [
    {
     "data": {
      "text/plain": [
       "'/mnt/sda1/myeonggyulee/myeonggyulee/VISION_AI/metric learning/2_svm2+data'"
      ]
     },
     "execution_count": 148,
     "metadata": {},
     "output_type": "execute_result"
    }
   ],
   "source": [
    "os.getcwd()"
   ]
  },
  {
   "cell_type": "code",
   "execution_count": 149,
   "metadata": {},
   "outputs": [],
   "source": [
    "### save array data ###\n",
    "# train\n",
    "with open('../train_within_0_35_balanced/X_tain.pkl', 'wb') as f:\n",
    "    pickle.dump(X_train, f)\n",
    "\n",
    "with open('../train_within_0_35_balanced/y_train.pkl', 'wb') as f:\n",
    "    pickle.dump(y_train, f)\n"
   ]
  },
  {
   "cell_type": "code",
   "execution_count": null,
   "metadata": {},
   "outputs": [],
   "source": []
  },
  {
   "cell_type": "code",
   "execution_count": null,
   "metadata": {},
   "outputs": [],
   "source": []
  },
  {
   "cell_type": "code",
   "execution_count": null,
   "metadata": {},
   "outputs": [],
   "source": []
  }
 ],
 "metadata": {
  "kernelspec": {
   "display_name": "Python 3",
   "language": "python",
   "name": "python3"
  },
  "language_info": {
   "codemirror_mode": {
    "name": "ipython",
    "version": 3
   },
   "file_extension": ".py",
   "mimetype": "text/x-python",
   "name": "python",
   "nbconvert_exporter": "python",
   "pygments_lexer": "ipython3",
   "version": "3.6.5"
  }
 },
 "nbformat": 4,
 "nbformat_minor": 2
}
