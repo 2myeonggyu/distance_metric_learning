{
 "cells": [
  {
   "cell_type": "markdown",
   "metadata": {},
   "source": [
    "# readme"
   ]
  },
  {
   "cell_type": "markdown",
   "metadata": {},
   "source": [
    "### # contrastive loss를 사용할 때 주의점\n",
    "- distance 를 기준으로, 거리가 가까우면 '같다'고 정의. 따라서, accuracy를 측정할때 살펴보면 아래와 같이 정의되어 있다는점에 주의하자!\n"
   ]
  },
  {
   "cell_type": "code",
   "execution_count": null,
   "metadata": {},
   "outputs": [],
   "source": [
    "'''\n",
    "def compute_accuracy(y_true, y_pred):\n",
    "    #Compute classification accuracy with a fixed threshold on distances.\n",
    "    pred = y_pred.ravel() < 0.5\n",
    "    return np.mean(pred == y_true)\n",
    "'''"
   ]
  },
  {
   "cell_type": "markdown",
   "metadata": {},
   "source": [
    "---"
   ]
  },
  {
   "cell_type": "code",
   "execution_count": 1,
   "metadata": {},
   "outputs": [],
   "source": [
    "import pandas as pd\n",
    "import numpy as np\n",
    "import matplotlib.pyplot as plt\n",
    "\n",
    "from sklearn import svm\n",
    "from sklearn.model_selection import train_test_split\n",
    "\n",
    "import glob\n",
    "import os\n",
    "import multiprocessing\n",
    "\n",
    "import pickle\n",
    "import time\n",
    "import random"
   ]
  },
  {
   "cell_type": "markdown",
   "metadata": {},
   "source": [
    "---"
   ]
  },
  {
   "cell_type": "code",
   "execution_count": 2,
   "metadata": {},
   "outputs": [],
   "source": [
    "def chunkIt(seq, num):\n",
    "    if len(seq) % int(num) == 0:\n",
    "        avg = int(len(seq) / int(num))\n",
    "    else:\n",
    "        avg = int(len(seq) / int(num)) + 1 # 이렇게 해야하네!\n",
    "    out = []\n",
    "    last = 0.0\n",
    "\n",
    "    while last < len(seq):\n",
    "        out.append(seq[int(last):int(last + avg)])\n",
    "        last += avg\n",
    "\n",
    "    return out"
   ]
  },
  {
   "cell_type": "markdown",
   "metadata": {},
   "source": [
    "---"
   ]
  },
  {
   "cell_type": "markdown",
   "metadata": {},
   "source": [
    "# data load"
   ]
  },
  {
   "cell_type": "markdown",
   "metadata": {},
   "source": [
    "## # Train data"
   ]
  },
  {
   "cell_type": "code",
   "execution_count": 3,
   "metadata": {},
   "outputs": [],
   "source": [
    "with open('../train_within_0_35_balanced/X_tain.pkl', 'rb') as f:\n",
    "    X_train = pickle.load( f )\n",
    "    \n",
    "with open('../train_within_0_35_balanced/y_train.pkl', 'rb') as f:\n",
    "    y_train = pickle.load( f )"
   ]
  },
  {
   "cell_type": "code",
   "execution_count": 4,
   "metadata": {},
   "outputs": [
    {
     "name": "stdout",
     "output_type": "stream",
     "text": [
      "(330519, 512) (330519,)\n"
     ]
    }
   ],
   "source": [
    "print(X_train.shape, y_train.shape)"
   ]
  },
  {
   "cell_type": "markdown",
   "metadata": {},
   "source": [
    "---"
   ]
  },
  {
   "cell_type": "markdown",
   "metadata": {},
   "source": [
    "## ## Test data"
   ]
  },
  {
   "cell_type": "code",
   "execution_count": 5,
   "metadata": {},
   "outputs": [],
   "source": [
    "with open('../test_data(common)/TEST_within_035/test_pair_v2_035.pkl', 'rb') as f:\n",
    "    X_test_dict = pickle.load( f )\n",
    "    \n",
    "with open('../test_data(common)/TEST_within_035/test_label_035.pkl', 'rb') as f:\n",
    "    y_test_dict = pickle.load( f )"
   ]
  },
  {
   "cell_type": "code",
   "execution_count": 6,
   "metadata": {
    "scrolled": true
   },
   "outputs": [
    {
     "data": {
      "text/plain": [
       "100"
      ]
     },
     "execution_count": 6,
     "metadata": {},
     "output_type": "execute_result"
    }
   ],
   "source": [
    "len(X_test_dict)"
   ]
  },
  {
   "cell_type": "code",
   "execution_count": 7,
   "metadata": {
    "scrolled": true
   },
   "outputs": [
    {
     "data": {
      "text/plain": [
       "100"
      ]
     },
     "execution_count": 7,
     "metadata": {},
     "output_type": "execute_result"
    }
   ],
   "source": [
    "len(y_test_dict)"
   ]
  },
  {
   "cell_type": "code",
   "execution_count": 8,
   "metadata": {},
   "outputs": [],
   "source": [
    "# test data 100개 array로\n",
    "\n",
    "X_test = np.array([])\n",
    "y_test = np.array([])\n",
    "\n",
    "for i,key in enumerate(X_test_dict.keys()):\n",
    "    if i == 0:\n",
    "        X_test = X_test_dict[key]\n",
    "        y_test = y_test_dict[key]\n",
    "    else:\n",
    "        X_test = np.append( X_test, X_test_dict[key], axis=0 )\n",
    "        y_test = np.append( y_test, y_test_dict[key], axis=0 )"
   ]
  },
  {
   "cell_type": "code",
   "execution_count": 9,
   "metadata": {},
   "outputs": [
    {
     "name": "stdout",
     "output_type": "stream",
     "text": [
      "(2183, 512) (2183,)\n"
     ]
    }
   ],
   "source": [
    "print(X_test.shape, y_test.shape)"
   ]
  },
  {
   "cell_type": "markdown",
   "metadata": {},
   "source": [
    "---\n",
    "---"
   ]
  },
  {
   "cell_type": "markdown",
   "metadata": {},
   "source": [
    "## ## Training"
   ]
  },
  {
   "cell_type": "code",
   "execution_count": null,
   "metadata": {},
   "outputs": [],
   "source": []
  },
  {
   "cell_type": "code",
   "execution_count": null,
   "metadata": {},
   "outputs": [],
   "source": []
  },
  {
   "cell_type": "code",
   "execution_count": null,
   "metadata": {},
   "outputs": [],
   "source": []
  },
  {
   "cell_type": "code",
   "execution_count": 18,
   "metadata": {},
   "outputs": [
    {
     "name": "stderr",
     "output_type": "stream",
     "text": [
      "Using TensorFlow backend.\n"
     ]
    }
   ],
   "source": [
    "from __future__ import absolute_import\n",
    "from __future__ import print_function\n",
    "import numpy as np\n",
    "\n",
    "import random\n",
    "from keras.datasets import mnist\n",
    "from keras.models import Model\n",
    "from keras.layers import Input, Flatten, Dense, Dropout, Lambda\n",
    "from keras.optimizers import RMSprop\n",
    "from keras import backend as K"
   ]
  },
  {
   "cell_type": "code",
   "execution_count": 19,
   "metadata": {},
   "outputs": [],
   "source": [
    "def euclidean_distance(vects):\n",
    "    x, y = vects\n",
    "    sum_square = K.sum(K.square(x - y), axis=1, keepdims=True)\n",
    "    return K.sqrt(K.maximum(sum_square, K.epsilon()))\n",
    "\n",
    "\n",
    "def eucl_dist_output_shape(shapes):\n",
    "    shape1, shape2 = shapes\n",
    "    return (shape1[0], 1)\n",
    "\n",
    "\n",
    "def contrastive_loss(y_true, y_pred):\n",
    "    '''Contrastive loss from Hadsell-et-al.'06\n",
    "    http://yann.lecun.com/exdb/publis/pdf/hadsell-chopra-lecun-06.pdf\n",
    "    '''\n",
    "    margin = 1\n",
    "    square_pred = K.square(y_pred)\n",
    "    margin_square = K.square(K.maximum(margin - y_pred, 0))\n",
    "    return K.mean(y_true * square_pred + (1 - y_true) * margin_square)\n",
    "\n",
    "\n",
    "def create_pairs(x, digit_indices): # balance 하게 만들어주네???(가장 작은 class의 개수에 맞춰서)\n",
    "    '''Positive and negative pair creation.\n",
    "    Alternates between positive and negative pairs.\n",
    "    '''\n",
    "    pairs = []\n",
    "    labels = []\n",
    "    n = min([len(digit_indices[d]) for d in range(num_classes)]) - 1\n",
    "    for d in range(num_classes):\n",
    "        for i in range(n):\n",
    "            z1, z2 = digit_indices[d][i], digit_indices[d][i + 1]\n",
    "            pairs += [[x[z1], x[z2]]]\n",
    "            inc = random.randrange(1, num_classes)\n",
    "            dn = (d + inc) % num_classes\n",
    "            z1, z2 = digit_indices[d][i], digit_indices[dn][i]\n",
    "            pairs += [[x[z1], x[z2]]]\n",
    "            labels += [1, 0]\n",
    "    return np.array(pairs), np.array(labels)\n",
    "\n",
    "\n",
    "def create_base_network(input_shape):\n",
    "    '''Base network to be shared (eq. to feature extraction).\n",
    "    '''\n",
    "    input = Input(shape=input_shape)\n",
    "    #x = Flatten()(input)\n",
    "    x = input\n",
    "    x = Dense(128, activation='relu')(x)\n",
    "    x = Dropout(0.2)(x)\n",
    "    x = Dense(128, activation='relu')(x)\n",
    "    x = Dropout(0.2)(x)\n",
    "    x = Dense(128, activation='relu')(x)\n",
    "    return Model(input, x)\n",
    "\n",
    "\n",
    "def compute_accuracy(y_true, y_pred):\n",
    "    '''Compute classification accuracy with a fixed threshold on distances.\n",
    "    '''\n",
    "    pred = y_pred.ravel() < 0.5\n",
    "    return np.mean(pred == y_true)\n",
    "\n",
    "\n",
    "def accuracy(y_true, y_pred):\n",
    "    '''Compute classification accuracy with a fixed threshold on distances.\n",
    "    '''\n",
    "    return K.mean(K.equal(y_true, K.cast(y_pred < 0.5, y_true.dtype)))\n"
   ]
  },
  {
   "cell_type": "markdown",
   "metadata": {},
   "source": [
    "- train pair 형태로 변환"
   ]
  },
  {
   "cell_type": "code",
   "execution_count": 12,
   "metadata": {},
   "outputs": [],
   "source": [
    "tr_pairs = X_train.reshape(len(X_train), 2, -1)\n",
    "tr_y  = y_train"
   ]
  },
  {
   "cell_type": "code",
   "execution_count": 21,
   "metadata": {},
   "outputs": [
    {
     "data": {
      "text/plain": [
       "array([0., 0., 0., 0., 0.])"
      ]
     },
     "execution_count": 21,
     "metadata": {},
     "output_type": "execute_result"
    }
   ],
   "source": [
    "tr_y[:5]"
   ]
  },
  {
   "cell_type": "code",
   "execution_count": 23,
   "metadata": {},
   "outputs": [],
   "source": [
    "te_pairs = X_test.reshape(len(X_test), 2, -1)\n",
    "te_y  = np.array(y_test, dtype=float)"
   ]
  },
  {
   "cell_type": "code",
   "execution_count": 13,
   "metadata": {},
   "outputs": [
    {
     "name": "stdout",
     "output_type": "stream",
     "text": [
      "(330519, 2, 256) (330519,)\n"
     ]
    }
   ],
   "source": [
    "print(tr_pairs.shape, tr_y.shape) # 최신 new_diff"
   ]
  },
  {
   "cell_type": "code",
   "execution_count": 18,
   "metadata": {},
   "outputs": [
    {
     "name": "stdout",
     "output_type": "stream",
     "text": [
      "(534002, 2, 256) (534002,)\n"
     ]
    }
   ],
   "source": [
    "print(tr_pairs.shape, tr_y.shape)"
   ]
  },
  {
   "cell_type": "code",
   "execution_count": 16,
   "metadata": {},
   "outputs": [
    {
     "name": "stdout",
     "output_type": "stream",
     "text": [
      "(2183, 2, 256) (2183,)\n"
     ]
    }
   ],
   "source": [
    "print(te_pairs.shape, te_y.shape) # 최신 new_diff"
   ]
  },
  {
   "cell_type": "code",
   "execution_count": null,
   "metadata": {},
   "outputs": [],
   "source": []
  },
  {
   "cell_type": "code",
   "execution_count": 26,
   "metadata": {},
   "outputs": [],
   "source": [
    "input_shape = (256,)\n",
    "epochs = 50"
   ]
  },
  {
   "cell_type": "code",
   "execution_count": 27,
   "metadata": {
    "scrolled": false
   },
   "outputs": [
    {
     "name": "stdout",
     "output_type": "stream",
     "text": [
      "Epoch 1/50\n",
      "662/662 [==============================] - 4s 5ms/step - loss: 0.2155 - accuracy: 0.6599 - val_loss: 0.3685 - val_accuracy: 0.5279\n",
      "Epoch 2/50\n",
      "662/662 [==============================] - 4s 5ms/step - loss: 0.1877 - accuracy: 0.7212 - val_loss: 0.3841 - val_accuracy: 0.5331\n",
      "Epoch 3/50\n",
      "662/662 [==============================] - 4s 5ms/step - loss: 0.1765 - accuracy: 0.7408 - val_loss: 0.3411 - val_accuracy: 0.5675\n",
      "Epoch 4/50\n",
      "662/662 [==============================] - 4s 6ms/step - loss: 0.1698 - accuracy: 0.7517 - val_loss: 0.3820 - val_accuracy: 0.5363\n",
      "Epoch 5/50\n",
      "662/662 [==============================] - 3s 5ms/step - loss: 0.1650 - accuracy: 0.7586 - val_loss: 0.3818 - val_accuracy: 0.5223\n",
      "Epoch 6/50\n",
      "662/662 [==============================] - 4s 5ms/step - loss: 0.1617 - accuracy: 0.7624 - val_loss: 0.3378 - val_accuracy: 0.5856\n",
      "Epoch 7/50\n",
      "662/662 [==============================] - 3s 5ms/step - loss: 0.1584 - accuracy: 0.7673 - val_loss: 0.3220 - val_accuracy: 0.5835\n",
      "Epoch 8/50\n",
      "662/662 [==============================] - 3s 5ms/step - loss: 0.1557 - accuracy: 0.7710 - val_loss: 0.3333 - val_accuracy: 0.5945\n",
      "Epoch 9/50\n",
      "662/662 [==============================] - 3s 5ms/step - loss: 0.1537 - accuracy: 0.7738 - val_loss: 0.3567 - val_accuracy: 0.5462\n",
      "Epoch 10/50\n",
      "662/662 [==============================] - 4s 5ms/step - loss: 0.1518 - accuracy: 0.7754 - val_loss: 0.3538 - val_accuracy: 0.5740\n",
      "Epoch 11/50\n",
      "662/662 [==============================] - 3s 5ms/step - loss: 0.1502 - accuracy: 0.7778 - val_loss: 0.3421 - val_accuracy: 0.5648\n",
      "Epoch 12/50\n",
      "662/662 [==============================] - 3s 5ms/step - loss: 0.1490 - accuracy: 0.7796 - val_loss: 0.3446 - val_accuracy: 0.5530\n",
      "Epoch 13/50\n",
      "662/662 [==============================] - 3s 5ms/step - loss: 0.1475 - accuracy: 0.7813 - val_loss: 0.3380 - val_accuracy: 0.5678\n",
      "Epoch 14/50\n",
      "662/662 [==============================] - 3s 5ms/step - loss: 0.1464 - accuracy: 0.7832 - val_loss: 0.3167 - val_accuracy: 0.5984\n",
      "Epoch 15/50\n",
      "662/662 [==============================] - 4s 5ms/step - loss: 0.1451 - accuracy: 0.7850 - val_loss: 0.3427 - val_accuracy: 0.5786\n",
      "Epoch 16/50\n",
      "662/662 [==============================] - 3s 5ms/step - loss: 0.1443 - accuracy: 0.7864 - val_loss: 0.3352 - val_accuracy: 0.5826\n",
      "Epoch 17/50\n",
      "662/662 [==============================] - 3s 5ms/step - loss: 0.1431 - accuracy: 0.7874 - val_loss: 0.3287 - val_accuracy: 0.5884\n",
      "Epoch 18/50\n",
      "662/662 [==============================] - 3s 5ms/step - loss: 0.1425 - accuracy: 0.7886 - val_loss: 0.3310 - val_accuracy: 0.5854\n",
      "Epoch 19/50\n",
      "662/662 [==============================] - 4s 5ms/step - loss: 0.1415 - accuracy: 0.7900 - val_loss: 0.3431 - val_accuracy: 0.5674\n",
      "Epoch 20/50\n",
      "662/662 [==============================] - 3s 5ms/step - loss: 0.1406 - accuracy: 0.7906 - val_loss: 0.3210 - val_accuracy: 0.5968\n",
      "Epoch 21/50\n",
      "662/662 [==============================] - 3s 5ms/step - loss: 0.1402 - accuracy: 0.7911 - val_loss: 0.3450 - val_accuracy: 0.5756\n",
      "Epoch 22/50\n",
      "662/662 [==============================] - 3s 5ms/step - loss: 0.1394 - accuracy: 0.7926 - val_loss: 0.3499 - val_accuracy: 0.5733\n",
      "Epoch 23/50\n",
      "662/662 [==============================] - 3s 5ms/step - loss: 0.1389 - accuracy: 0.7926 - val_loss: 0.3368 - val_accuracy: 0.5790\n",
      "Epoch 24/50\n",
      "662/662 [==============================] - 3s 5ms/step - loss: 0.1379 - accuracy: 0.7938 - val_loss: 0.3409 - val_accuracy: 0.5592\n",
      "Epoch 25/50\n",
      "662/662 [==============================] - 3s 5ms/step - loss: 0.1376 - accuracy: 0.7942 - val_loss: 0.3430 - val_accuracy: 0.5565\n",
      "Epoch 26/50\n",
      "662/662 [==============================] - 3s 5ms/step - loss: 0.1370 - accuracy: 0.7947 - val_loss: 0.3087 - val_accuracy: 0.6093\n",
      "Epoch 27/50\n",
      "662/662 [==============================] - 3s 5ms/step - loss: 0.1362 - accuracy: 0.7973 - val_loss: 0.3262 - val_accuracy: 0.5781\n",
      "Epoch 28/50\n",
      "662/662 [==============================] - 3s 5ms/step - loss: 0.1358 - accuracy: 0.7978 - val_loss: 0.3322 - val_accuracy: 0.5841\n",
      "Epoch 29/50\n",
      "662/662 [==============================] - 3s 5ms/step - loss: 0.1354 - accuracy: 0.7975 - val_loss: 0.3243 - val_accuracy: 0.5960\n",
      "Epoch 30/50\n",
      "662/662 [==============================] - 3s 5ms/step - loss: 0.1345 - accuracy: 0.7988 - val_loss: 0.3301 - val_accuracy: 0.5965\n",
      "Epoch 31/50\n",
      "662/662 [==============================] - 3s 5ms/step - loss: 0.1344 - accuracy: 0.7994 - val_loss: 0.3385 - val_accuracy: 0.5669\n",
      "Epoch 32/50\n",
      "662/662 [==============================] - 3s 5ms/step - loss: 0.1337 - accuracy: 0.8003 - val_loss: 0.3335 - val_accuracy: 0.5779\n",
      "Epoch 33/50\n",
      "662/662 [==============================] - 3s 5ms/step - loss: 0.1338 - accuracy: 0.7997 - val_loss: 0.3173 - val_accuracy: 0.5888\n",
      "Epoch 34/50\n",
      "662/662 [==============================] - 3s 5ms/step - loss: 0.1330 - accuracy: 0.8011 - val_loss: 0.3127 - val_accuracy: 0.6095\n",
      "Epoch 35/50\n",
      "662/662 [==============================] - 3s 5ms/step - loss: 0.1327 - accuracy: 0.8016 - val_loss: 0.3286 - val_accuracy: 0.5800\n",
      "Epoch 36/50\n",
      "662/662 [==============================] - 3s 5ms/step - loss: 0.1323 - accuracy: 0.8014 - val_loss: 0.3049 - val_accuracy: 0.6221\n",
      "Epoch 37/50\n",
      "662/662 [==============================] - 3s 5ms/step - loss: 0.1318 - accuracy: 0.8025 - val_loss: 0.3148 - val_accuracy: 0.6059\n",
      "Epoch 38/50\n",
      "662/662 [==============================] - 3s 5ms/step - loss: 0.1319 - accuracy: 0.8029 - val_loss: 0.3214 - val_accuracy: 0.6035\n",
      "Epoch 39/50\n",
      "662/662 [==============================] - 3s 5ms/step - loss: 0.1312 - accuracy: 0.8035 - val_loss: 0.3127 - val_accuracy: 0.6101\n",
      "Epoch 40/50\n",
      "662/662 [==============================] - 3s 5ms/step - loss: 0.1307 - accuracy: 0.8037 - val_loss: 0.3042 - val_accuracy: 0.6274\n",
      "Epoch 41/50\n",
      "662/662 [==============================] - 3s 5ms/step - loss: 0.1309 - accuracy: 0.8040 - val_loss: 0.3308 - val_accuracy: 0.5766\n",
      "Epoch 42/50\n",
      "662/662 [==============================] - 3s 5ms/step - loss: 0.1305 - accuracy: 0.8047 - val_loss: 0.3267 - val_accuracy: 0.5803\n",
      "Epoch 43/50\n",
      "662/662 [==============================] - 3s 5ms/step - loss: 0.1302 - accuracy: 0.8045 - val_loss: 0.3265 - val_accuracy: 0.5844\n",
      "Epoch 44/50\n",
      "662/662 [==============================] - 3s 5ms/step - loss: 0.1299 - accuracy: 0.8052 - val_loss: 0.3203 - val_accuracy: 0.6181\n",
      "Epoch 45/50\n",
      "662/662 [==============================] - 3s 5ms/step - loss: 0.1295 - accuracy: 0.8054 - val_loss: 0.3148 - val_accuracy: 0.6120\n",
      "Epoch 46/50\n",
      "662/662 [==============================] - 3s 5ms/step - loss: 0.1290 - accuracy: 0.8071 - val_loss: 0.3118 - val_accuracy: 0.5968\n",
      "Epoch 47/50\n",
      "662/662 [==============================] - 3s 5ms/step - loss: 0.1289 - accuracy: 0.8067 - val_loss: 0.3059 - val_accuracy: 0.6100\n",
      "Epoch 48/50\n",
      "662/662 [==============================] - 3s 5ms/step - loss: 0.1284 - accuracy: 0.8074 - val_loss: 0.3257 - val_accuracy: 0.6001\n",
      "Epoch 49/50\n",
      "662/662 [==============================] - 3s 5ms/step - loss: 0.1281 - accuracy: 0.8082 - val_loss: 0.3096 - val_accuracy: 0.6059\n",
      "Epoch 50/50\n",
      "662/662 [==============================] - 3s 5ms/step - loss: 0.1278 - accuracy: 0.8078 - val_loss: 0.3119 - val_accuracy: 0.6108\n",
      "* Accuracy on training set: 81.50%\n",
      "* Accuracy on test set: 61.61%\n"
     ]
    }
   ],
   "source": [
    "# network definition\n",
    "base_network = create_base_network(input_shape)\n",
    "\n",
    "input_a = Input(shape=input_shape)\n",
    "input_b = Input(shape=input_shape)\n",
    "\n",
    "# because we re-use the same instance `base_network`,\n",
    "# the weights of the network\n",
    "# will be shared across the two branches\n",
    "processed_a = base_network(input_a)\n",
    "processed_b = base_network(input_b)\n",
    "\n",
    "distance = Lambda(euclidean_distance,\n",
    "                  output_shape=eucl_dist_output_shape)([processed_a, processed_b])\n",
    "\n",
    "model = Model([input_a, input_b], distance) # input, output\n",
    "\n",
    "# train\n",
    "rms = RMSprop()\n",
    "model.compile(loss=contrastive_loss, optimizer=rms, metrics=[accuracy])\n",
    "model.fit([tr_pairs[:, 0], tr_pairs[:, 1]], tr_y,\n",
    "          batch_size=500,\n",
    "          epochs=epochs,\n",
    "          validation_data=([te_pairs[:, 0], te_pairs[:, 1]], te_y))\n",
    "\n",
    "# compute final accuracy on training and test sets\n",
    "y_pred = model.predict([tr_pairs[:, 0], tr_pairs[:, 1]])\n",
    "tr_acc = compute_accuracy(tr_y, y_pred)\n",
    "y_pred = model.predict([te_pairs[:, 0], te_pairs[:, 1]])\n",
    "te_acc = compute_accuracy(te_y, y_pred)\n",
    "\n",
    "print('* Accuracy on training set: %0.2f%%' % (100 * tr_acc))\n",
    "print('* Accuracy on test set: %0.2f%%' % (100 * te_acc))"
   ]
  },
  {
   "cell_type": "code",
   "execution_count": null,
   "metadata": {},
   "outputs": [],
   "source": []
  },
  {
   "cell_type": "code",
   "execution_count": null,
   "metadata": {},
   "outputs": [],
   "source": []
  },
  {
   "cell_type": "code",
   "execution_count": 28,
   "metadata": {},
   "outputs": [
    {
     "data": {
      "text/plain": [
       "0.6161245991754466"
      ]
     },
     "execution_count": 28,
     "metadata": {},
     "output_type": "execute_result"
    }
   ],
   "source": [
    "te_acc"
   ]
  },
  {
   "cell_type": "code",
   "execution_count": 29,
   "metadata": {},
   "outputs": [
    {
     "data": {
      "text/plain": [
       "array([[1.114046  ],\n",
       "       [1.2433821 ],\n",
       "       [0.39067405],\n",
       "       ...,\n",
       "       [0.37693438],\n",
       "       [0.01201613],\n",
       "       [0.24476998]], dtype=float32)"
      ]
     },
     "execution_count": 29,
     "metadata": {},
     "output_type": "execute_result"
    }
   ],
   "source": [
    "y_pred"
   ]
  },
  {
   "cell_type": "code",
   "execution_count": 30,
   "metadata": {},
   "outputs": [
    {
     "data": {
      "text/plain": [
       "array([False, False,  True, ...,  True,  True,  True])"
      ]
     },
     "execution_count": 30,
     "metadata": {},
     "output_type": "execute_result"
    }
   ],
   "source": [
    "( y_pred.ravel() < 0.5 )"
   ]
  },
  {
   "cell_type": "code",
   "execution_count": 31,
   "metadata": {},
   "outputs": [
    {
     "data": {
      "text/plain": [
       "(2183,)"
      ]
     },
     "execution_count": 31,
     "metadata": {},
     "output_type": "execute_result"
    }
   ],
   "source": [
    "te_y.shape"
   ]
  },
  {
   "cell_type": "code",
   "execution_count": 32,
   "metadata": {},
   "outputs": [
    {
     "data": {
      "text/plain": [
       "(2183,)"
      ]
     },
     "execution_count": 32,
     "metadata": {},
     "output_type": "execute_result"
    }
   ],
   "source": [
    "y_pred.reshape(len(y_pred)).shape"
   ]
  },
  {
   "cell_type": "code",
   "execution_count": 33,
   "metadata": {},
   "outputs": [
    {
     "data": {
      "text/plain": [
       "0.5483279890059551"
      ]
     },
     "execution_count": 33,
     "metadata": {},
     "output_type": "execute_result"
    }
   ],
   "source": [
    "np.sum( 1*( y_pred.ravel() < 0.5 ) )/len(y_pred)"
   ]
  },
  {
   "cell_type": "code",
   "execution_count": 159,
   "metadata": {},
   "outputs": [
    {
     "data": {
      "text/plain": [
       "(7368000,)"
      ]
     },
     "execution_count": 159,
     "metadata": {},
     "output_type": "execute_result"
    }
   ],
   "source": [
    "( 1*( y_pred.ravel() < 0.5 ) ).shape"
   ]
  },
  {
   "cell_type": "code",
   "execution_count": 163,
   "metadata": {},
   "outputs": [
    {
     "data": {
      "text/plain": [
       "(100, 73680)"
      ]
     },
     "execution_count": 163,
     "metadata": {},
     "output_type": "execute_result"
    }
   ],
   "source": [
    "( 1*( y_pred.ravel() < 0.5 ) ).reshape(100,-1).shape"
   ]
  },
  {
   "cell_type": "code",
   "execution_count": 164,
   "metadata": {},
   "outputs": [
    {
     "data": {
      "text/plain": [
       "(100, 73680)"
      ]
     },
     "execution_count": 164,
     "metadata": {},
     "output_type": "execute_result"
    }
   ],
   "source": [
    "te_y.reshape(100, -1).shape"
   ]
  },
  {
   "cell_type": "code",
   "execution_count": null,
   "metadata": {},
   "outputs": [],
   "source": []
  },
  {
   "cell_type": "markdown",
   "metadata": {},
   "source": [
    "---"
   ]
  },
  {
   "cell_type": "code",
   "execution_count": 37,
   "metadata": {},
   "outputs": [
    {
     "name": "stdout",
     "output_type": "stream",
     "text": [
      "40648\n",
      "0 10\n",
      "label_size : 2 prediction_size : 8\n",
      "0.25\n",
      "1.0\n",
      "\n",
      "\n",
      "66052\n",
      "10 17\n",
      "label_size : 2 prediction_size : 17\n",
      "0.11764705882352941\n",
      "1.0\n",
      "\n",
      "\n",
      "37783\n",
      "27 5\n",
      "label_size : 2 prediction_size : 2\n",
      "1.0\n",
      "1.0\n",
      "\n",
      "\n",
      "59761\n",
      "32 5\n",
      "label_size : 2 prediction_size : 2\n",
      "1.0\n",
      "1.0\n",
      "\n",
      "\n",
      "16639\n",
      "37 4\n",
      "label_size : 4 prediction_size : 4\n",
      "1.0\n",
      "1.0\n",
      "\n",
      "\n",
      "17958\n",
      "41 5\n",
      "label_size : 5 prediction_size : 5\n",
      "1.0\n",
      "1.0\n",
      "\n",
      "\n",
      "10918\n",
      "46 18\n",
      "label_size : 5 prediction_size : 18\n",
      "0.2777777777777778\n",
      "1.0\n",
      "\n",
      "\n",
      "26542\n",
      "64 4\n",
      "label_size : 4 prediction_size : 4\n",
      "1.0\n",
      "1.0\n",
      "\n",
      "\n",
      "71651\n",
      "68 5\n",
      "label_size : 2 prediction_size : 2\n",
      "1.0\n",
      "1.0\n",
      "\n",
      "\n",
      "45696\n",
      "73 2\n",
      "label_size : 1 prediction_size : 2\n",
      "0.5\n",
      "1.0\n",
      "\n",
      "\n",
      "4253\n",
      "75 12\n",
      "label_size : 8 prediction_size : 12\n",
      "0.6666666666666666\n",
      "1.0\n",
      "\n",
      "\n",
      "63461\n",
      "87 96\n",
      "label_size : 2 prediction_size : 81\n",
      "0.024691358024691357\n",
      "1.0\n",
      "\n",
      "\n",
      "572\n",
      "183 17\n",
      "label_size : 14 prediction_size : 17\n",
      "0.8235294117647058\n",
      "1.0\n",
      "\n",
      "\n",
      "66460\n",
      "200 1\n",
      "label_size : 0 prediction_size : 1\n",
      "0.0\n",
      "0.0\n",
      "\n",
      "\n",
      "70828\n",
      "201 24\n",
      "label_size : 1 prediction_size : 19\n",
      "0.05263157894736842\n",
      "1.0\n",
      "\n",
      "\n",
      "34741\n",
      "225 170\n",
      "label_size : 4 prediction_size : 46\n",
      "0.08695652173913043\n",
      "1.0\n",
      "\n",
      "\n",
      "14588\n",
      "395 5\n",
      "label_size : 5 prediction_size : 5\n",
      "1.0\n",
      "1.0\n",
      "\n",
      "\n",
      "8647\n",
      "400 12\n",
      "label_size : 4 prediction_size : 12\n",
      "0.3333333333333333\n",
      "1.0\n",
      "\n",
      "\n",
      "51675\n",
      "412 7\n",
      "label_size : 3 prediction_size : 7\n",
      "0.42857142857142855\n",
      "1.0\n",
      "\n",
      "\n",
      "44240\n",
      "419 5\n",
      "label_size : 3 prediction_size : 3\n",
      "1.0\n",
      "1.0\n",
      "\n",
      "\n",
      "15772\n",
      "424 8\n",
      "label_size : 4 prediction_size : 8\n",
      "0.5\n",
      "1.0\n",
      "\n",
      "\n",
      "37766\n",
      "432 1\n",
      "label_size : 0 prediction_size : 1\n",
      "0.0\n",
      "0.0\n",
      "\n",
      "\n",
      "39183\n",
      "433 2\n",
      "label_size : 2 prediction_size : 2\n",
      "1.0\n",
      "1.0\n",
      "\n",
      "\n",
      "67190\n",
      "435 11\n",
      "label_size : 2 prediction_size : 6\n",
      "0.3333333333333333\n",
      "1.0\n",
      "\n",
      "\n",
      "53857\n",
      "446 8\n",
      "label_size : 3 prediction_size : 8\n",
      "0.375\n",
      "1.0\n",
      "\n",
      "\n",
      "62549\n",
      "454 2\n",
      "label_size : 2 prediction_size : 2\n",
      "1.0\n",
      "1.0\n",
      "\n",
      "\n",
      "4438\n",
      "456 16\n",
      "label_size : 11 prediction_size : 16\n",
      "0.6875\n",
      "1.0\n",
      "\n",
      "\n",
      "71984\n",
      "472 2\n",
      "label_size : 2 prediction_size : 2\n",
      "1.0\n",
      "1.0\n",
      "\n",
      "\n",
      "18607\n",
      "474 30\n",
      "label_size : 4 prediction_size : 7\n",
      "0.5714285714285714\n",
      "1.0\n",
      "\n",
      "\n",
      "29566\n",
      "504 3\n",
      "label_size : 3 prediction_size : 3\n",
      "1.0\n",
      "1.0\n",
      "\n",
      "\n",
      "42329\n",
      "507 14\n",
      "label_size : 2 prediction_size : 14\n",
      "0.14285714285714285\n",
      "1.0\n",
      "\n",
      "\n",
      "41649\n",
      "521 27\n",
      "label_size : 3 prediction_size : 27\n",
      "0.1111111111111111\n",
      "1.0\n",
      "\n",
      "\n",
      "57323\n",
      "548 2\n",
      "label_size : 1 prediction_size : 2\n",
      "0.5\n",
      "1.0\n",
      "\n",
      "\n",
      "35622\n",
      "550 8\n",
      "label_size : 4 prediction_size : 8\n",
      "0.5\n",
      "1.0\n",
      "\n",
      "\n",
      "19669\n",
      "558 8\n",
      "label_size : 4 prediction_size : 4\n",
      "1.0\n",
      "1.0\n",
      "\n",
      "\n",
      "54420\n",
      "566 52\n",
      "label_size : 3 prediction_size : 27\n",
      "0.1111111111111111\n",
      "1.0\n",
      "\n",
      "\n",
      "65907\n",
      "618 12\n",
      "label_size : 2 prediction_size : 12\n",
      "0.16666666666666666\n",
      "1.0\n",
      "\n",
      "\n",
      "6304\n",
      "630 1\n",
      "label_size : 1 prediction_size : 1\n",
      "1.0\n",
      "1.0\n",
      "\n",
      "\n",
      "46173\n",
      "631 3\n",
      "label_size : 3 prediction_size : 3\n",
      "1.0\n",
      "1.0\n",
      "\n",
      "\n",
      "32207\n",
      "634 2\n",
      "label_size : 2 prediction_size : 2\n",
      "1.0\n",
      "1.0\n",
      "\n",
      "\n",
      "68498\n",
      "636 1\n",
      "label_size : 1 prediction_size : 1\n",
      "1.0\n",
      "1.0\n",
      "\n",
      "\n",
      "24879\n",
      "637 1\n",
      "label_size : 1 prediction_size : 1\n",
      "1.0\n",
      "1.0\n",
      "\n",
      "\n",
      "26550\n",
      "638 21\n",
      "label_size : 4 prediction_size : 6\n",
      "0.6666666666666666\n",
      "1.0\n",
      "\n",
      "\n",
      "6336\n",
      "659 22\n",
      "label_size : 7 prediction_size : 22\n",
      "0.3181818181818182\n",
      "1.0\n",
      "\n",
      "\n",
      "673\n",
      "681 32\n",
      "label_size : 16 prediction_size : 19\n",
      "0.8421052631578947\n",
      "1.0\n",
      "\n",
      "\n",
      "11706\n",
      "713 8\n",
      "label_size : 8 prediction_size : 8\n",
      "1.0\n",
      "1.0\n",
      "\n",
      "\n",
      "6168\n",
      "721 519\n",
      "label_size : 7 prediction_size : 244\n",
      "0.028688524590163935\n",
      "1.0\n",
      "\n",
      "\n",
      "63675\n",
      "1240 2\n",
      "label_size : 2 prediction_size : 2\n",
      "1.0\n",
      "1.0\n",
      "\n",
      "\n",
      "45015\n",
      "1242 7\n",
      "label_size : 3 prediction_size : 3\n",
      "1.0\n",
      "1.0\n",
      "\n",
      "\n",
      "60\n",
      "1249 28\n",
      "label_size : 15 prediction_size : 21\n",
      "0.7142857142857143\n",
      "1.0\n",
      "\n",
      "\n",
      "31880\n",
      "1277 7\n",
      "label_size : 3 prediction_size : 3\n",
      "1.0\n",
      "1.0\n",
      "\n",
      "\n",
      "9461\n",
      "1284 7\n",
      "label_size : 5 prediction_size : 7\n",
      "0.7142857142857143\n",
      "1.0\n",
      "\n",
      "\n",
      "54931\n",
      "1291 8\n",
      "label_size : 3 prediction_size : 3\n",
      "1.0\n",
      "1.0\n",
      "\n",
      "\n",
      "11074\n",
      "1299 7\n",
      "label_size : 7 prediction_size : 7\n",
      "1.0\n",
      "1.0\n",
      "\n",
      "\n",
      "25928\n",
      "1306 12\n",
      "label_size : 5 prediction_size : 5\n",
      "1.0\n",
      "1.0\n",
      "\n",
      "\n",
      "52850\n",
      "1318 2\n",
      "label_size : 2 prediction_size : 2\n",
      "1.0\n",
      "1.0\n",
      "\n",
      "\n",
      "38244\n",
      "1320 7\n",
      "label_size : 3 prediction_size : 7\n",
      "0.42857142857142855\n",
      "1.0\n",
      "\n",
      "\n",
      "14092\n",
      "1327 6\n",
      "label_size : 6 prediction_size : 6\n",
      "1.0\n",
      "1.0\n",
      "\n",
      "\n",
      "29533\n",
      "1333 4\n",
      "label_size : 4 prediction_size : 4\n",
      "1.0\n",
      "1.0\n",
      "\n",
      "\n",
      "72633\n",
      "1337 8\n",
      "label_size : 2 prediction_size : 2\n",
      "1.0\n",
      "1.0\n",
      "\n",
      "\n",
      "19729\n",
      "1345 12\n",
      "label_size : 4 prediction_size : 12\n",
      "0.3333333333333333\n",
      "1.0\n",
      "\n",
      "\n",
      "63959\n",
      "1357 84\n",
      "label_size : 2 prediction_size : 57\n",
      "0.03508771929824561\n",
      "1.0\n",
      "\n",
      "\n",
      "65697\n",
      "1441 1\n",
      "label_size : 1 prediction_size : 1\n",
      "1.0\n",
      "1.0\n",
      "\n",
      "\n",
      "63092\n",
      "1442 2\n",
      "label_size : 2 prediction_size : 2\n",
      "1.0\n",
      "1.0\n",
      "\n",
      "\n",
      "12067\n",
      "1444 2\n",
      "label_size : 1 prediction_size : 1\n",
      "1.0\n",
      "1.0\n",
      "\n",
      "\n",
      "9712\n",
      "1446 10\n",
      "label_size : 6 prediction_size : 10\n",
      "0.6\n",
      "1.0\n",
      "\n",
      "\n",
      "35832\n",
      "1456 7\n",
      "label_size : 3 prediction_size : 7\n",
      "0.42857142857142855\n",
      "1.0\n",
      "\n",
      "\n",
      "50058\n",
      "1463 3\n",
      "label_size : 3 prediction_size : 3\n",
      "1.0\n",
      "1.0\n",
      "\n",
      "\n",
      "8878\n",
      "1466 10\n",
      "label_size : 1 prediction_size : 10\n",
      "0.1\n",
      "1.0\n",
      "\n",
      "\n",
      "10198\n",
      "1476 12\n",
      "label_size : 8 prediction_size : 12\n",
      "0.6666666666666666\n",
      "1.0\n",
      "\n",
      "\n",
      "7132\n",
      "1488 7\n",
      "label_size : 7 prediction_size : 7\n",
      "1.0\n",
      "1.0\n",
      "\n",
      "\n",
      "19158\n",
      "1495 9\n",
      "label_size : 6 prediction_size : 6\n",
      "1.0\n",
      "1.0\n",
      "\n",
      "\n",
      "71760\n",
      "1504 2\n",
      "label_size : 2 prediction_size : 2\n",
      "1.0\n",
      "1.0\n",
      "\n",
      "\n",
      "29882\n",
      "1506 7\n",
      "label_size : 3 prediction_size : 3\n",
      "1.0\n",
      "1.0\n",
      "\n",
      "\n",
      "2487\n",
      "1513 25\n",
      "label_size : 12 prediction_size : 25\n",
      "0.48\n",
      "1.0\n",
      "\n",
      "\n",
      "45553\n",
      "1538 11\n",
      "label_size : 2 prediction_size : 2\n",
      "1.0\n",
      "1.0\n",
      "\n",
      "\n",
      "41970\n",
      "1549 18\n",
      "label_size : 2 prediction_size : 18\n",
      "0.1111111111111111\n",
      "1.0\n",
      "\n",
      "\n",
      "37904\n",
      "1567 64\n",
      "label_size : 4 prediction_size : 12\n",
      "0.3333333333333333\n",
      "1.0\n",
      "\n",
      "\n",
      "23021\n",
      "1631 93\n",
      "label_size : 4 prediction_size : 38\n",
      "0.07894736842105263\n",
      "0.75\n",
      "\n",
      "\n",
      "16687\n",
      "1724 5\n",
      "label_size : 5 prediction_size : 5\n",
      "1.0\n",
      "1.0\n",
      "\n",
      "\n",
      "20559\n",
      "1729 322\n",
      "label_size : 3 prediction_size : 77\n",
      "0.03896103896103896\n",
      "1.0\n",
      "\n",
      "\n",
      "71620\n",
      "2051 8\n",
      "label_size : 1 prediction_size : 7\n",
      "0.0\n",
      "0.0\n",
      "\n",
      "\n",
      "35756\n",
      "2059 7\n",
      "label_size : 3 prediction_size : 7\n",
      "0.42857142857142855\n",
      "1.0\n",
      "\n",
      "\n",
      "65107\n",
      "2066 1\n",
      "label_size : 0 prediction_size : 0\n",
      "0.0\n",
      "0.0\n",
      "\n",
      "\n",
      "62058\n",
      "2067 7\n",
      "label_size : 1 prediction_size : 5\n",
      "0.2\n",
      "1.0\n",
      "\n",
      "\n",
      "68572\n",
      "2074 29\n",
      "label_size : 2 prediction_size : 9\n",
      "0.2222222222222222\n",
      "1.0\n",
      "\n",
      "\n",
      "30575\n",
      "2103 19\n",
      "label_size : 5 prediction_size : 19\n",
      "0.2631578947368421\n",
      "1.0\n",
      "\n",
      "\n",
      "28196\n",
      "2122 3\n",
      "label_size : 3 prediction_size : 2\n",
      "1.0\n",
      "0.6666666666666666\n",
      "\n",
      "\n",
      "44633\n",
      "2125 10\n",
      "label_size : 2 prediction_size : 2\n",
      "1.0\n",
      "1.0\n",
      "\n",
      "\n",
      "51809\n",
      "2135 3\n",
      "label_size : 3 prediction_size : 3\n",
      "1.0\n",
      "1.0\n",
      "\n",
      "\n",
      "62029\n",
      "2138 1\n",
      "label_size : 1 prediction_size : 1\n",
      "1.0\n",
      "1.0\n",
      "\n",
      "\n",
      "16289\n",
      "2139 4\n",
      "label_size : 4 prediction_size : 4\n",
      "1.0\n",
      "1.0\n",
      "\n",
      "\n",
      "53259\n",
      "2143 7\n",
      "label_size : 3 prediction_size : 7\n",
      "0.42857142857142855\n",
      "1.0\n",
      "\n",
      "\n",
      "33764\n",
      "2150 5\n",
      "label_size : 2 prediction_size : 2\n",
      "1.0\n",
      "1.0\n",
      "\n",
      "\n",
      "50154\n",
      "2155 3\n",
      "label_size : 3 prediction_size : 3\n",
      "1.0\n",
      "1.0\n",
      "\n",
      "\n",
      "9641\n",
      "2158 7\n",
      "label_size : 7 prediction_size : 7\n",
      "1.0\n",
      "1.0\n",
      "\n",
      "\n",
      "14665\n",
      "2165 5\n",
      "label_size : 5 prediction_size : 5\n",
      "1.0\n",
      "1.0\n",
      "\n",
      "\n",
      "63916\n",
      "2170 9\n",
      "label_size : 0 prediction_size : 5\n",
      "0.0\n",
      "0.0\n",
      "\n",
      "\n",
      "47939\n",
      "2179 1\n",
      "label_size : 1 prediction_size : 1\n",
      "1.0\n",
      "1.0\n",
      "\n",
      "\n",
      "43573\n",
      "2180 3\n",
      "label_size : 3 prediction_size : 3\n",
      "1.0\n",
      "1.0\n",
      "\n",
      "\n"
     ]
    }
   ],
   "source": [
    "from sklearn import metrics\n",
    "\n",
    "precision_100 = []\n",
    "recall_100 = []\n",
    "\n",
    "grp_pred_w_key = {}\n",
    "grp_label_w_key = {}\n",
    "\n",
    "test_label = y_test\n",
    "predicted = ( 1*( y_pred.ravel() < 0.5 ) )\n",
    "\n",
    "#start test key\n",
    "start_test_key = list(y_test_dict.keys())[0]\n",
    "#init start index\n",
    "start_index = 0\n",
    "\n",
    "for test_key in y_test_dict.keys(): \n",
    "    print(test_key)\n",
    "    if test_key == start_test_key:\n",
    "        start_index = 0\n",
    "    \n",
    "    test_obj_grp_size = len( y_test_dict[test_key] )\n",
    "    grp_pred = predicted[start_index : start_index + test_obj_grp_size]\n",
    "    grp_label = test_label[start_index : start_index +test_obj_grp_size]\n",
    "    # 저장\n",
    "    grp_pred_w_key[test_key] = grp_pred\n",
    "    grp_label_w_key[test_key] = grp_label\n",
    "    ####\n",
    "    \n",
    "    print(start_index, test_obj_grp_size)\n",
    "    \n",
    "    start_index += test_obj_grp_size\n",
    "    \n",
    "    print('label_size : {}'.format(np.sum( grp_label )), \n",
    "          'prediction_size : {}'.format(np.sum( grp_pred )) )\n",
    "    \n",
    "    # calculate precision / recall\n",
    "    precision_ = metrics.precision_score( grp_label , grp_pred )\n",
    "    recall_ = metrics.recall_score( grp_label , grp_pred )\n",
    "    \n",
    "    # print\n",
    "    print( precision_ )\n",
    "    print( recall_ )\n",
    "    print('\\n')\n",
    "    \n",
    "    # append precision / recall\n",
    "    precision_100.append( precision_ )\n",
    "    recall_100.append( recall_ )"
   ]
  },
  {
   "cell_type": "code",
   "execution_count": 38,
   "metadata": {},
   "outputs": [
    {
     "data": {
      "text/plain": [
       "0.6602213317569411"
      ]
     },
     "execution_count": 38,
     "metadata": {},
     "output_type": "execute_result"
    }
   ],
   "source": [
    "np.mean(precision_100)"
   ]
  },
  {
   "cell_type": "code",
   "execution_count": 39,
   "metadata": {},
   "outputs": [
    {
     "data": {
      "text/plain": [
       "0.9441666666666666"
      ]
     },
     "execution_count": 39,
     "metadata": {},
     "output_type": "execute_result"
    }
   ],
   "source": [
    "np.mean(recall_100)"
   ]
  },
  {
   "cell_type": "code",
   "execution_count": null,
   "metadata": {},
   "outputs": [],
   "source": []
  },
  {
   "cell_type": "code",
   "execution_count": null,
   "metadata": {},
   "outputs": [],
   "source": []
  },
  {
   "cell_type": "code",
   "execution_count": null,
   "metadata": {},
   "outputs": [],
   "source": []
  }
 ],
 "metadata": {
  "kernelspec": {
   "display_name": "Python 3",
   "language": "python",
   "name": "python3"
  },
  "language_info": {
   "codemirror_mode": {
    "name": "ipython",
    "version": 3
   },
   "file_extension": ".py",
   "mimetype": "text/x-python",
   "name": "python",
   "nbconvert_exporter": "python",
   "pygments_lexer": "ipython3",
   "version": "3.8.2"
  }
 },
 "nbformat": 4,
 "nbformat_minor": 4
}
